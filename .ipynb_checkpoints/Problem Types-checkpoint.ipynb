{
 "cells": [
  {
   "cell_type": "markdown",
   "metadata": {},
   "source": [
    "https://www.teamblind.com/post/New-Year-Gift---Curated-List-of-Top-100-LeetCode-Questions-to-Save-Your-Time-OaM1orEU"
   ]
  },
  {
   "cell_type": "markdown",
   "metadata": {},
   "source": [
    "## K smallest, largest, top K\n",
    "\n",
    "### 215. Kth Largest Element in an Array (Parition and quick select)\n",
    "### 703. Kth Largest Element in a Stream\n",
    "### 378. Kth Smallest Element in a Sorted Matrix\n",
    "### 373. Find K Pairs with Smallest Sums\n",
    "### 230. Kth Smallest Element in a BST (inorder transverse)\n",
    "### 347. Top K Frequent Elements"
   ]
  },
  {
   "cell_type": "code",
   "execution_count": null,
   "metadata": {},
   "outputs": [],
   "source": [
    "378. Kth Smallest Element in a Sorted Matrix\n",
    "Given a n x n matrix where each of the rows and columns are sorted in ascending order, find the kth smallest element in the matrix.\n",
    "\n",
    "Note that it is the kth smallest element in the sorted order, not the kth distinct element.\n",
    "\n",
    "# First solution, add right and down candidates, need to keep track of if already been added or not.\n",
    "\n",
    "class Solution:\n",
    "    def kthSmallest(self, matrix: List[List[int]], k: int) -> int:\n",
    "        \n",
    "        h = [(matrix[0][0], 0, 0)]\n",
    "        visited = set([(0, 0)])\n",
    "        H = len(matrix)\n",
    "        W = len(matrix[0])\n",
    "        \n",
    "        for i in range(k):\n",
    "            \n",
    "            e, x, y = heapq.heappop(h)\n",
    "            \n",
    "            if x + 1 < H and (x + 1, y) not in visited:\n",
    "                heapq.heappush(h, (matrix[x + 1][y], x + 1, y))\n",
    "                visited.add((x+1, y))\n",
    "            if y + 1 < W and (x, y + 1) not in visited:\n",
    "                heapq.heappush(h, (matrix[x][y + 1], x, y + 1))\n",
    "                visited.add((x, y + 1))\n",
    "                \n",
    "        return e\n",
    "\n",
    "## A much better solution based on idea of sorted K sorted lists\n",
    "\n",
    "class Solution(object):\n",
    "    def kthSmallest(self, matrix, k):\n",
    "        heap = [(row[0], i, 0) for i, row in enumerate(matrix)]\n",
    "        heapq.heapify(heap)\n",
    "        ret = 0\n",
    "        for _ in range(k):\n",
    "            ret, i, j = heapq.heappop(heap)\n",
    "            if j+1 < len(matrix[0]):\n",
    "                heapq.heappush(heap, (matrix[i][j+1], i, j+1))\n",
    "        return ret"
   ]
  },
  {
   "cell_type": "markdown",
   "metadata": {},
   "source": [
    "## K way Merge\n",
    "### Merge Two Sorted Lists\n",
    "### Merge k Sorted Lists\n",
    "### Find K Pairs with Smallest Sums\n",
    "### Kth Smallest Element in a Sorted Matrix\n",
    "### Smallest Range Covering Elements from K Lists"
   ]
  },
  {
   "cell_type": "markdown",
   "metadata": {},
   "source": [
    "## Merge Intervals\n",
    "### interval overlapping condition\n",
    "\n",
    "1. Merge Intervals\n",
    "2. Insert Interval\n",
    "3. Non-overlapping Intervals\n",
    "4. Minimum Number of Arrows to Burst Balloons\n",
    "5. Task Scheduler\n",
    "6. Interval List Intersections\n",
    "Meeting Rooms (Leetcode Premium) - https://leetcode.com/problems/meeting-rooms/\n",
    "- Meeting Rooms II (Leetcode Premium) - https://leetcode.com/problems/meeting-rooms-ii/"
   ]
  },
  {
   "cell_type": "code",
   "execution_count": null,
   "metadata": {},
   "outputs": [],
   "source": [
    "Consider two intervals A, B. They are overlapped when\n",
    "startA <= endB and startB <= endA"
   ]
  },
  {
   "cell_type": "code",
   "execution_count": null,
   "metadata": {},
   "outputs": [],
   "source": [
    "6. Merge Intervals\n",
    "\n",
    "Given a collection of intervals, merge all overlapping intervals.\n",
    "\n",
    "Example 1:\n",
    "\n",
    "Input: [[1,3],[2,6],[8,10],[15,18]]\n",
    "Output: [[1,6],[8,10],[15,18]]\n",
    "Explanation: Since intervals [1,3] and [2,6] overlaps, merge them into [1,6].\n",
    "Example 2:\n",
    "\n",
    "Input: [[1,4],[4,5]]\n",
    "Output: [[1,5]]\n",
    "Explanation: Intervals [1,4] and [4,5] are considered overlapping.\n",
    "NOTE: input types have been changed on April 15, 2019. Please reset to default code definition to get new method signature.\n",
    "\n",
    "class Solution:\n",
    "    def merge(self, intervals: List[List[int]]) -> List[List[int]]:\n",
    "        \n",
    "        if not intervals:\n",
    "            return []\n",
    "        \n",
    "        res = []\n",
    "        \n",
    "        intervals.sort(key=lambda x:tuple(x))\n",
    "        \n",
    "        for interval in intervals:\n",
    "            \n",
    "            if not res or interval[0] > res[-1][1]:\n",
    "                res.append(interval)\n",
    "            else:\n",
    "                res[-1][1] = max(res[-1][1], interval[1])\n",
    "        \n",
    "        return res"
   ]
  },
  {
   "cell_type": "code",
   "execution_count": null,
   "metadata": {},
   "outputs": [],
   "source": [
    "253. Meeting Rooms II\n",
    "\n",
    "Given an array of meeting time intervals consisting of start and end times [[s1,e1],[s2,e2],...] (si < ei), find the minimum number of conference rooms required.\n",
    "\n",
    "Example 1:\n",
    "\n",
    "Input: [[0, 30],[5, 10],[15, 20]]\n",
    "Output: 2\n",
    "Example 2:\n",
    "\n",
    "Input: [[7,10],[2,4]]\n",
    "Output: 1\n",
    "NOTE: input types have been changed on April 15, 2019. Please reset to default code definition to get new method signature.\n",
    "\n",
    "class Solution:\n",
    "    def minMeetingRooms(self, intervals: List[List[int]]) -> int:\n",
    "        \n",
    "        intervals.sort(key=lambda x:tuple(x))\n",
    "        \n",
    "        h = []\n",
    "        \n",
    "        count = 0\n",
    "        for interval in intervals:\n",
    "            \n",
    "            if not h or interval[0] < h[0]:\n",
    "                heapq.heappush(h, interval[1])\n",
    "                count += 1\n",
    "            else:\n",
    "                heapq.heapreplace(h, interval[1])\n",
    "                        \n",
    "        \n",
    "        return count"
   ]
  }
 ],
 "metadata": {
  "kernelspec": {
   "display_name": "Python 3",
   "language": "python",
   "name": "python3"
  },
  "language_info": {
   "codemirror_mode": {
    "name": "ipython",
    "version": 3
   },
   "file_extension": ".py",
   "mimetype": "text/x-python",
   "name": "python",
   "nbconvert_exporter": "python",
   "pygments_lexer": "ipython3",
   "version": "3.7.4"
  }
 },
 "nbformat": 4,
 "nbformat_minor": 2
}
