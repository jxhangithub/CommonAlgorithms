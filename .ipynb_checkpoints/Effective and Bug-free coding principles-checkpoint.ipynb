{
 "cells": [
  {
   "cell_type": "markdown",
   "metadata": {
    "toc": true
   },
   "source": [
    "<h1>Table of Contents<span class=\"tocSkip\"></span></h1>\n",
    "<div class=\"toc\"><ul class=\"toc-item\"><li><span><a href=\"#Bug-free-coding-principles\" data-toc-modified-id=\"Bug-free-coding-principles-1\"><span class=\"toc-item-num\">1&nbsp;&nbsp;</span>Bug-free coding principles</a></span><ul class=\"toc-item\"><li><span><a href=\"#General-principles-(ACER)\" data-toc-modified-id=\"General-principles-(ACER)-1.1\"><span class=\"toc-item-num\">1.1&nbsp;&nbsp;</span>General principles (ACER)</a></span><ul class=\"toc-item\"><li><span><a href=\"#Auxiliary-functions-and-data-structure-to-make-the-code-clean-and-modular.\" data-toc-modified-id=\"Auxiliary-functions-and-data-structure-to-make-the-code-clean-and-modular.-1.1.1\"><span class=\"toc-item-num\">1.1.1&nbsp;&nbsp;</span>Auxiliary functions and data structure to make the code clean and modular.</a></span></li><li><span><a href=\"#Edge-case,-trivial-input-case-at-the-beginning-(although-sometimes-subsequent-code-can-automatically-handle-it).\" data-toc-modified-id=\"Edge-case,-trivial-input-case-at-the-beginning-(although-sometimes-subsequent-code-can-automatically-handle-it).-1.1.2\"><span class=\"toc-item-num\">1.1.2&nbsp;&nbsp;</span>Edge case, trivial input case at the beginning (although sometimes subsequent code can automatically handle it).</a></span></li><li><span><a href=\"#Clean-and-intuitive-names-(results,-answers-instead-of-res,-ans)\" data-toc-modified-id=\"Clean-and-intuitive-names-(results,-answers-instead-of-res,-ans)-1.1.3\"><span class=\"toc-item-num\">1.1.3&nbsp;&nbsp;</span>Clean and intuitive names (results, answers instead of res, ans)</a></span></li><li><span><a href=\"#Return-proper-items-for-each-function\" data-toc-modified-id=\"Return-proper-items-for-each-function-1.1.4\"><span class=\"toc-item-num\">1.1.4&nbsp;&nbsp;</span>Return proper items for each function</a></span></li></ul></li><li><span><a href=\"#Tree-and-graph-traversal\" data-toc-modified-id=\"Tree-and-graph-traversal-1.2\"><span class=\"toc-item-num\">1.2&nbsp;&nbsp;</span>Tree and graph traversal</a></span><ul class=\"toc-item\"><li><span><a href=\"#Avoid-visiting-the-same-node\" data-toc-modified-id=\"Avoid-visiting-the-same-node-1.2.1\"><span class=\"toc-item-num\">1.2.1&nbsp;&nbsp;</span>Avoid visiting the same node</a></span></li><li><span><a href=\"#Remember-to-set-visited-flag-to-false-return-early-return\" data-toc-modified-id=\"Remember-to-set-visited-flag-to-false-return-early-return-1.2.2\"><span class=\"toc-item-num\">1.2.2&nbsp;&nbsp;</span>Remember to set visited flag to false return early return</a></span></li></ul></li><li><span><a href=\"#Two-Pointers\" data-toc-modified-id=\"Two-Pointers-1.3\"><span class=\"toc-item-num\">1.3&nbsp;&nbsp;</span>Two Pointers</a></span><ul class=\"toc-item\"><li><span><a href=\"#Understand-why-two-pointers-can-work\" data-toc-modified-id=\"Understand-why-two-pointers-can-work-1.3.1\"><span class=\"toc-item-num\">1.3.1&nbsp;&nbsp;</span>Understand why two pointers can work</a></span></li><li><span><a href=\"#Understand-how-to-avoid-duplicates\" data-toc-modified-id=\"Understand-how-to-avoid-duplicates-1.3.2\"><span class=\"toc-item-num\">1.3.2&nbsp;&nbsp;</span>Understand how to avoid duplicates</a></span></li><li><span><a href=\"#For-same-direction-two-pointers,-pay-attention-to-the-case-slow->=-fast-to-avoid-duplicate-cases\" data-toc-modified-id=\"For-same-direction-two-pointers,-pay-attention-to-the-case-slow->=-fast-to-avoid-duplicate-cases-1.3.3\"><span class=\"toc-item-num\">1.3.3&nbsp;&nbsp;</span>For same direction two pointers, pay attention to the case slow &gt;= fast to avoid duplicate cases</a></span></li><li><span><a href=\"#Sometimes-need-to-use-more-than-two-pointers\" data-toc-modified-id=\"Sometimes-need-to-use-more-than-two-pointers-1.3.4\"><span class=\"toc-item-num\">1.3.4&nbsp;&nbsp;</span>Sometimes need to use more than two pointers</a></span></li></ul></li><li><span><a href=\"#Binary-tree-and-binary-search-trees\" data-toc-modified-id=\"Binary-tree-and-binary-search-trees-1.4\"><span class=\"toc-item-num\">1.4&nbsp;&nbsp;</span>Binary tree and binary search trees</a></span><ul class=\"toc-item\"><li><span><a href=\"#Take-advantage-of-order-structure-in-BST\" data-toc-modified-id=\"Take-advantage-of-order-structure-in-BST-1.4.1\"><span class=\"toc-item-num\">1.4.1&nbsp;&nbsp;</span>Take advantage of order structure in BST</a></span></li><li><span><a href=\"#Build-trees-with-additional-components\" data-toc-modified-id=\"Build-trees-with-additional-components-1.4.2\"><span class=\"toc-item-num\">1.4.2&nbsp;&nbsp;</span>Build trees with additional components</a></span></li></ul></li><li><span><a href=\"#Hash-map\" data-toc-modified-id=\"Hash-map-1.5\"><span class=\"toc-item-num\">1.5&nbsp;&nbsp;</span>Hash map</a></span><ul class=\"toc-item\"><li><span><a href=\"#Understand-its-worst-and-average-time-complexity\" data-toc-modified-id=\"Understand-its-worst-and-average-time-complexity-1.5.1\"><span class=\"toc-item-num\">1.5.1&nbsp;&nbsp;</span>Understand its worst and average time complexity</a></span></li><li><span><a href=\"#Build-map-on-the-fly-(one-pass)-and-before-hand-(two-pass)-solutions\" data-toc-modified-id=\"Build-map-on-the-fly-(one-pass)-and-before-hand-(two-pass)-solutions-1.5.2\"><span class=\"toc-item-num\">1.5.2&nbsp;&nbsp;</span>Build map on the fly (one pass) and before hand (two pass) solutions</a></span></li><li><span><a href=\"#Be-careful-when-use-defaultdict,-you-can-forget-to-add-key.\" data-toc-modified-id=\"Be-careful-when-use-defaultdict,-you-can-forget-to-add-key.-1.5.3\"><span class=\"toc-item-num\">1.5.3&nbsp;&nbsp;</span>Be careful when use defaultdict, you can forget to add key.</a></span></li></ul></li><li><span><a href=\"#Heap-and-multiset/treemap\" data-toc-modified-id=\"Heap-and-multiset/treemap-1.6\"><span class=\"toc-item-num\">1.6&nbsp;&nbsp;</span>Heap and multiset/treemap</a></span><ul class=\"toc-item\"><li><span><a href=\"#Understand-the-time-complexity-of-heap\" data-toc-modified-id=\"Understand-the-time-complexity-of-heap-1.6.1\"><span class=\"toc-item-num\">1.6.1&nbsp;&nbsp;</span>Understand the time complexity of heap</a></span></li><li><span><a href=\"#Ensure-the-key-can-be-compared-between-each-other-(for-example,-if-the-key-is-tuple-and-the-first-elements-in-the-tuple-are-equal,-can-they-compare)\" data-toc-modified-id=\"Ensure-the-key-can-be-compared-between-each-other-(for-example,-if-the-key-is-tuple-and-the-first-elements-in-the-tuple-are-equal,-can-they-compare)-1.6.2\"><span class=\"toc-item-num\">1.6.2&nbsp;&nbsp;</span>Ensure the key can be compared between each other (for example, if the key is tuple and the first elements in the tuple are equal, can they compare)</a></span></li><li><span><a href=\"#Avoiding-adding-duplicate-elements-into-it\" data-toc-modified-id=\"Avoiding-adding-duplicate-elements-into-it-1.6.3\"><span class=\"toc-item-num\">1.6.3&nbsp;&nbsp;</span>Avoiding adding duplicate elements into it</a></span></li><li><span><a href=\"#Understand-the-time-complexity-of-treemap\" data-toc-modified-id=\"Understand-the-time-complexity-of-treemap-1.6.4\"><span class=\"toc-item-num\">1.6.4&nbsp;&nbsp;</span>Understand the time complexity of treemap</a></span></li><li><span><a href=\"#Compare-multiset-and-heap\" data-toc-modified-id=\"Compare-multiset-and-heap-1.6.5\"><span class=\"toc-item-num\">1.6.5&nbsp;&nbsp;</span>Compare multiset and heap</a></span></li></ul></li><li><span><a href=\"#Trie\" data-toc-modified-id=\"Trie-1.7\"><span class=\"toc-item-num\">1.7&nbsp;&nbsp;</span>Trie</a></span><ul class=\"toc-item\"><li><span><a href=\"#Trie-vs-Hashmap\" data-toc-modified-id=\"Trie-vs-Hashmap-1.7.1\"><span class=\"toc-item-num\">1.7.1&nbsp;&nbsp;</span>Trie vs Hashmap</a></span></li><li><span><a href=\"#Build-Trie-with-flexible-structures\" data-toc-modified-id=\"Build-Trie-with-flexible-structures-1.7.2\"><span class=\"toc-item-num\">1.7.2&nbsp;&nbsp;</span>Build Trie with flexible structures</a></span></li></ul></li><li><span><a href=\"#Union-find\" data-toc-modified-id=\"Union-find-1.8\"><span class=\"toc-item-num\">1.8&nbsp;&nbsp;</span>Union find</a></span><ul class=\"toc-item\"><li><span><a href=\"#Use-map-to-enable-more-flexible-label-(i.e.,-strings,-tuple)\" data-toc-modified-id=\"Use-map-to-enable-more-flexible-label-(i.e.,-strings,-tuple)-1.8.1\"><span class=\"toc-item-num\">1.8.1&nbsp;&nbsp;</span>Use map to enable more flexible label (i.e., strings, tuple)</a></span></li><li><span><a href=\"#Build-flexible-union-find-structures\" data-toc-modified-id=\"Build-flexible-union-find-structures-1.8.2\"><span class=\"toc-item-num\">1.8.2&nbsp;&nbsp;</span>Build flexible union-find structures</a></span></li></ul></li></ul></li></ul></div>"
   ]
  },
  {
   "cell_type": "markdown",
   "metadata": {},
   "source": [
    "# Bug-free coding principles"
   ]
  },
  {
   "cell_type": "markdown",
   "metadata": {},
   "source": [
    "## General principles (ACER)\n",
    "\n",
    "### Auxiliary functions and data structure to make the code clean and modular.\n",
    "\n",
    "### Edge case, trivial input case at the beginning (although sometimes subsequent code can automatically handle it).\n",
    "\n",
    "### Clean and intuitive names (results, answers instead of res, ans)\n",
    "\n",
    "### Return proper items for each function\n",
    "\n",
    "\n",
    "\n"
   ]
  },
  {
   "cell_type": "code",
   "execution_count": null,
   "metadata": {},
   "outputs": [],
   "source": []
  },
  {
   "cell_type": "markdown",
   "metadata": {},
   "source": [
    "## Tree and graph traversal\n",
    "\n",
    "### Avoid visiting the same node\n",
    "* In graph traversal, set up visited array/set to avoid revisiting the same node\n",
    "* For binary/N-ary tree, because connection is one way, no need to set up visiting array/set\n",
    "* For general tree, use parent node to avoid revisiting the same node\n",
    "\n",
    "### Remember to set visited flag to false return early return\n",
    "* see the example problem \"Count total ways to reach destination from source in an DG\""
   ]
  },
  {
   "cell_type": "markdown",
   "metadata": {},
   "source": [
    "## Two Pointers\n",
    "\n",
    "### Understand why two pointers can work\n",
    "\n",
    "\n",
    "### Understand how to avoid duplicates\n",
    "\n",
    "\n",
    "### For same direction two pointers, pay attention to the case slow >= fast to avoid duplicate cases\n",
    "\n",
    "\n",
    "### Sometimes need to use more than two pointers\n",
    "\n",
    "\n",
    "### When one pointer finishes due to i = Len - 1 and breaks the loop, remember to include the final result (check 1446)\n"
   ]
  },
  {
   "cell_type": "markdown",
   "metadata": {},
   "source": [
    "## Binary tree and binary search trees\n",
    "\n",
    "### Take advantage of order structure in BST\n",
    "  Many traversal problems in BST can also be solved by general binary tree traversal in O(n), but taking advantage of ordering can reduce to O(H) = O(logN)\n",
    "\n",
    "### Build trees with additional components"
   ]
  },
  {
   "cell_type": "code",
   "execution_count": null,
   "metadata": {},
   "outputs": [],
   "source": []
  },
  {
   "cell_type": "markdown",
   "metadata": {},
   "source": [
    "## Hash map\n",
    "\n",
    "### Understand its worst and average time complexity\n",
    "\n",
    "### Build map on the fly (one pass) and before hand (two pass) solutions\n",
    "\n",
    "### Be careful when use defaultdict, you can forget to add key."
   ]
  },
  {
   "cell_type": "code",
   "execution_count": null,
   "metadata": {},
   "outputs": [],
   "source": []
  },
  {
   "cell_type": "markdown",
   "metadata": {},
   "source": [
    "## Heap and multiset/treemap\n",
    "\n",
    "### Understand the time complexity of heap\n",
    "\n",
    "\n",
    "### Ensure the key can be compared between each other (for example, if the key is tuple and the first elements in the tuple are equal, can they compare)\n",
    "\n",
    "\n",
    "### Avoiding adding duplicate elements into it\n",
    "\n",
    "\n",
    "\n",
    "### Understand the time complexity of treemap\n",
    "\n",
    "### Compare multiset and heap"
   ]
  },
  {
   "cell_type": "markdown",
   "metadata": {},
   "source": [
    "## Trie\n",
    "\n",
    "### Trie vs Hashmap\n",
    "\n",
    "### Build Trie with flexible structures"
   ]
  },
  {
   "cell_type": "markdown",
   "metadata": {},
   "source": [
    "## Union find\n",
    "### Use map to enable more flexible label (i.e., strings, tuple)\n",
    "\n",
    "### Build flexible union-find structures"
   ]
  }
 ],
 "metadata": {
  "kernelspec": {
   "display_name": "Python 3",
   "language": "python",
   "name": "python3"
  },
  "language_info": {
   "codemirror_mode": {
    "name": "ipython",
    "version": 3
   },
   "file_extension": ".py",
   "mimetype": "text/x-python",
   "name": "python",
   "nbconvert_exporter": "python",
   "pygments_lexer": "ipython3",
   "version": "3.7.4"
  },
  "toc": {
   "base_numbering": 1,
   "nav_menu": {},
   "number_sections": true,
   "sideBar": true,
   "skip_h1_title": false,
   "title_cell": "Table of Contents",
   "title_sidebar": "Contents",
   "toc_cell": true,
   "toc_position": {},
   "toc_section_display": true,
   "toc_window_display": true
  }
 },
 "nbformat": 4,
 "nbformat_minor": 2
}
