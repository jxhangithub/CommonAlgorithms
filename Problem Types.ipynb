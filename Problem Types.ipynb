{
 "cells": [
  {
   "cell_type": "markdown",
   "metadata": {},
   "source": [
    "https://www.teamblind.com/post/New-Year-Gift---Curated-List-of-Top-100-LeetCode-Questions-to-Save-Your-Time-OaM1orEU"
   ]
  },
  {
   "cell_type": "markdown",
   "metadata": {},
   "source": [
    "## K smallest, largest, top K\n",
    "\n",
    "### 215. Kth Largest Element in an Array (Parition and quick select)\n",
    "### 703. Kth Largest Element in a Stream\n",
    "### 378. Kth Smallest Element in a Sorted Matrix\n",
    "### 373. Find K Pairs with Smallest Sums\n",
    "### 230. Kth Smallest Element in a BST (inorder transverse)\n",
    "### 347. Top K Frequent Elements"
   ]
  },
  {
   "cell_type": "code",
   "execution_count": null,
   "metadata": {},
   "outputs": [],
   "source": [
    "378. Kth Smallest Element in a Sorted Matrix\n",
    "Given a n x n matrix where each of the rows and columns are sorted in ascending order, find the kth smallest element in the matrix.\n",
    "\n",
    "Note that it is the kth smallest element in the sorted order, not the kth distinct element.\n",
    "\n",
    "# First solution, add right and down candidates, need to keep track of if already been added or not.\n",
    "\n",
    "class Solution:\n",
    "    def kthSmallest(self, matrix: List[List[int]], k: int) -> int:\n",
    "        \n",
    "        h = [(matrix[0][0], 0, 0)]\n",
    "        visited = set([(0, 0)])\n",
    "        H = len(matrix)\n",
    "        W = len(matrix[0])\n",
    "        \n",
    "        for i in range(k):\n",
    "            \n",
    "            e, x, y = heapq.heappop(h)\n",
    "            \n",
    "            if x + 1 < H and (x + 1, y) not in visited:\n",
    "                heapq.heappush(h, (matrix[x + 1][y], x + 1, y))\n",
    "                visited.add((x+1, y))\n",
    "            if y + 1 < W and (x, y + 1) not in visited:\n",
    "                heapq.heappush(h, (matrix[x][y + 1], x, y + 1))\n",
    "                visited.add((x, y + 1))\n",
    "                \n",
    "        return e\n",
    "\n",
    "## A much better solution based on idea of sorted K sorted lists\n",
    "\n",
    "class Solution(object):\n",
    "    def kthSmallest(self, matrix, k):\n",
    "        heap = [(row[0], i, 0) for i, row in enumerate(matrix)]\n",
    "        heapq.heapify(heap)\n",
    "        ret = 0\n",
    "        for _ in range(k):\n",
    "            ret, i, j = heapq.heappop(heap)\n",
    "            if j+1 < len(matrix[0]):\n",
    "                heapq.heappush(heap, (matrix[i][j+1], i, j+1))\n",
    "        return ret"
   ]
  },
  {
   "cell_type": "markdown",
   "metadata": {},
   "source": [
    "## K way Merge\n",
    "### Merge Two Sorted Lists\n",
    "### Merge k Sorted Lists\n",
    "### Find K Pairs with Smallest Sums\n",
    "### Kth Smallest Element in a Sorted Matrix\n",
    "### Smallest Range Covering Elements from K Lists"
   ]
  },
  {
   "cell_type": "markdown",
   "metadata": {},
   "source": [
    "## Merge Intervals\n",
    "1. Merge Intervals\n",
    "2. Insert Interval\n",
    "3. Non-overlapping Intervals\n",
    "4. Minimum Number of Arrows to Burst Balloons\n",
    "5. Task Scheduler\n",
    "6. Interval List Intersections\n",
    "Meeting Rooms (Leetcode Premium) - https://leetcode.com/problems/meeting-rooms/\n",
    "- Meeting Rooms II (Leetcode Premium) - https://leetcode.com/problems/meeting-rooms-ii/"
   ]
  },
  {
   "cell_type": "code",
   "execution_count": null,
   "metadata": {},
   "outputs": [],
   "source": []
  }
 ],
 "metadata": {
  "kernelspec": {
   "display_name": "Python 3",
   "language": "python",
   "name": "python3"
  },
  "language_info": {
   "codemirror_mode": {
    "name": "ipython",
    "version": 3
   },
   "file_extension": ".py",
   "mimetype": "text/x-python",
   "name": "python",
   "nbconvert_exporter": "python",
   "pygments_lexer": "ipython3",
   "version": "3.7.4"
  }
 },
 "nbformat": 4,
 "nbformat_minor": 2
}
