{
 "cells": [
  {
   "cell_type": "markdown",
   "metadata": {},
   "source": [
    "1768. Merge Strings Alternately\n",
    "\n",
    "You are given two strings word1 and word2. Merge the strings by adding letters in alternating order, starting with word1. If a string is longer than the other, append the additional letters onto the end of the merged string.\n",
    "\n",
    "Return the merged string."
   ]
  },
  {
   "cell_type": "code",
   "execution_count": null,
   "metadata": {},
   "outputs": [],
   "source": [
    "class Solution:\n",
    "    def mergeAlternately(self, word1: str, word2: str) -> str:\n",
    "        L1 = len(word1)\n",
    "        L2 = len(word2)\n",
    "        w1 = list(word1)[::-1]\n",
    "        w2 = list(word2)[::-1]\n",
    "        w12 = [w1,w2]\n",
    "        idx = 0\n",
    "        res = []\n",
    "        while w12[0] or w12[1]:\n",
    "            if w12[idx]:\n",
    "                res.append(w12[idx].pop())\n",
    "            idx += 1\n",
    "            idx %= 2\n",
    "        return ''.join(res)\n",
    "\n"
   ]
  },
  {
   "cell_type": "code",
   "execution_count": null,
   "metadata": {},
   "outputs": [],
   "source": [
    "class Solution:\n",
    "    def mergeAlternately(self, word1: str, word2: str) -> str:\n",
    "        L = max(len(word1), len(word2))\n",
    "        res = []\n",
    "        for i in range(L):\n",
    "            if i < len(word1):\n",
    "                res += word1[i]\n",
    "            if i< len(word2):\n",
    "                res += word2[i]\n",
    "        return ''.join(res)\n"
   ]
  },
  {
   "cell_type": "markdown",
   "metadata": {},
   "source": [
    "1071. Greatest Common Divisor of Strings\n",
    "\n",
    "For two strings s and t, we say \"t divides s\" if and only if s = t + t + t + ... + t + t (i.e., t is concatenated with itself one or more times).\n",
    "\n",
    "Given two strings str1 and str2, return the largest string x such that x divides both str1 and str2."
   ]
  },
  {
   "cell_type": "code",
   "execution_count": null,
   "metadata": {},
   "outputs": [],
   "source": [
    "class Solution:\n",
    "    def getGcd(a,b):\n",
    "        while b!=0:\n",
    "            a,b = b, a%b\n",
    "    def gcdOfStrings(self, str1: str, str2: str) -> str:\n",
    "        L1 = len(str1)\n",
    "        L2 = len(str2)\n",
    "        L = getGcd(L1, L2)\n",
    "        if str1+str2 != str2+str1:\n",
    "            return ''\n",
    "        return str1[:L]\n",
    "    \n",
    "    "
   ]
  }
 ],
 "metadata": {
  "language_info": {
   "name": "python"
  }
 },
 "nbformat": 4,
 "nbformat_minor": 2
}
