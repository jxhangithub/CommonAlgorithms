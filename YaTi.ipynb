{
 "cells": [
  {
   "cell_type": "markdown",
   "metadata": {},
   "source": [
    "LCP:\n",
    "k strings, find the longest common prefix? \n",
    "max 200 strings\n",
    "max length is 200"
   ]
  },
  {
   "cell_type": "code",
   "execution_count": null,
   "metadata": {},
   "outputs": [],
   "source": [
    "def lcp(strings):\n",
    "    L = len(strings)\n",
    "    if L == 0:\n",
    "        return ''\n",
    "    if L == 1:\n",
    "        return strings[0]\n",
    "    minLen = min([len(s) for s in strings])\n",
    "    for i in range(minLen):\n",
    "        for j in range(1, L):\n",
    "            if strings[j][i] != strings[j-1][i]:\n",
    "                return strings[0][:i]\n",
    "    return strings[0][:minLen]\n",
    "\n",
    "# one char for all\n",
    "# two string find prefix, then include next string, to get prefix\n",
    "# trie -> get from root upto still one branch, \n",
    "\n"
   ]
  },
  {
   "cell_type": "markdown",
   "metadata": {},
   "source": [
    "list of string pairs, if remove one char any time, if this pair can be anagram "
   ]
  },
  {
   "cell_type": "code",
   "execution_count": null,
   "metadata": {},
   "outputs": [],
   "source": [
    "def anagramPairs(pairs):\n",
    "    res = []\n",
    "\n",
    "    def ifSpecial(s1, s2):\n",
    "        cnt1 = collections.Counter(s1)\n",
    "        cnt2 = collections.Counter(s2)\n",
    "        diff = 0\n",
    "        for key in set(cnt1.keys()).union(set(cnt2.keys())):\n",
    "            if cnt1[key] != cnt2[key]:\n",
    "                diff += 1\n",
    "        return diff <= 2\n",
    "\n",
    "\n",
    "    for a, b in pairs:\n",
    "        res.append(ifSpecial(a,b))\n",
    "\n",
    "    return res"
   ]
  },
  {
   "cell_type": "markdown",
   "metadata": {},
   "source": [
    "find right side first bigger number"
   ]
  },
  {
   "cell_type": "code",
   "execution_count": null,
   "metadata": {},
   "outputs": [],
   "source": [
    "# left / right first bigger number, descresing stack, next smaller number with increasing stack\n",
    "# left: process from right -> left\n",
    "# right: process from left -> right\n",
    "\n",
    "# input [1,4,3,2,6,5]\n",
    "# output[4,6,6,6,6,5]\n",
    "\n",
    "def rightFirstBigger(nums):\n",
    "    L = len(nums)\n",
    "    res = [0]*L\n",
    "    stack = []\n",
    "    for i, n in enumerate(nums):\n",
    "        while stack and nums[stack[-1]] <= n:\n",
    "            j = stack.pop()\n",
    "            res[j] = n\n",
    "        stack.append(i)\n",
    "\n",
    "    while stack:\n",
    "        j = stack.pop()\n",
    "        res[j] = nums[j]\n",
    "    return res\n",
    "\n",
    "print(rightFirstBigger([1,4,6,3,2,6,5]))\n",
    "# [4, 6, 6, 6, 6, 6, 5]\n"
   ]
  },
  {
   "cell_type": "markdown",
   "metadata": {},
   "source": [
    "valid BST"
   ]
  },
  {
   "cell_type": "code",
   "execution_count": null,
   "metadata": {},
   "outputs": [],
   "source": [
    "def validBST(node):\n",
    "    if not node:\n",
    "        return math.inf, -math,inf, True\n",
    "    leftmin, leftmax, leftBST = validBST(node.left)\n",
    "    rightmin, rightmax, rightBST = validBST(node.right)\n",
    "\n",
    "    if leftBST and rightBST and rightmin > node.val > leftmax:\n",
    "        small = min(leftmin, node.val)\n",
    "        big = max(rightmax, node.val)\n",
    "        return small, big, True\n",
    "    else:\n",
    "        return None, None, False\n",
    "    \n",
    "\n",
    "\n",
    "\n",
    "def validBST2(node): # this is wrong\n",
    "    # this triangle, next ....\n",
    "    if not node:\n",
    "        return True\n",
    "    if node.left and node.left.val >= root.val:\n",
    "        return False\n",
    "    if node.right and node.right.val <= root.val:\n",
    "        return False\n",
    "    return validBST2(node.left) and validBST2(node.right)"
   ]
  },
  {
   "cell_type": "markdown",
   "metadata": {},
   "source": [
    "source string and target string, find the shortest sub string in source to cover all characters in target string"
   ]
  },
  {
   "cell_type": "code",
   "execution_count": 53,
   "metadata": {},
   "outputs": [],
   "source": [
    "# two pointer, counter / hashmap\n",
    "\n",
    "def shortestCover(source, target):\n",
    "    L = len(source)\n",
    "    targetCnt = collections.Counter(target)\n",
    "    curCnt = collections.Counter()\n",
    "    unMatched = len(targetCnt)\n",
    "    end = 0\n",
    "    res = math.inf\n",
    "    for start in range(L):\n",
    "        while end < L and unMatched > 0:\n",
    "            c = source[end]\n",
    "            curCnt[c] += 1\n",
    "            if curCnt[c] == targetCnt[c]:\n",
    "                unMatched -= 1\n",
    "            end += 1\n",
    "        if unMatched == 0:\n",
    "            res = min(res, end-start)\n",
    "        ch = source[start]\n",
    "        if curCnt[ch] == targetCnt[ch]:\n",
    "            unMatched += 1\n",
    "        curCnt[ch] -= 1\n",
    "    return res if res != math.inf else -1\n",
    "\n",
    "\n",
    "def shortestCover(source, target):\n",
    "    L = len(source)\n",
    "    targetCnt = collections.Counter(target)\n",
    "    curCnt = collections.Counter()\n",
    "    unMatched = len(targetCnt)\n",
    "    start = 0\n",
    "    res = math.inf\n",
    "    for end in range(L):\n",
    "        c = source[end]\n",
    "        curCnt[c] += 1\n",
    "        if curCnt[c] == targetCnt[c]:\n",
    "            unMatched -= 1\n",
    "        \n",
    "        while start <= end and unMatched == 0:\n",
    "            if unMatched == 0:\n",
    "                res = min(res, end-start+1)\n",
    "            ch = source[start]\n",
    "            if curCnt[ch] == target[ch]:\n",
    "                unMatched += 1\n",
    "            curCnt[ch] -= 1\n",
    "            start += 1\n",
    "    return res if res != math.inf else -1\n",
    "\n"
   ]
  },
  {
   "cell_type": "markdown",
   "metadata": {},
   "source": [
    "max  sub array sum"
   ]
  },
  {
   "cell_type": "code",
   "execution_count": null,
   "metadata": {},
   "outputs": [],
   "source": [
    "def maxSub(array):\n",
    "    L = len(array)\n",
    "    res = -math.inf\n",
    "    cur = 0\n",
    "    for n in array:\n",
    "        cur = n + (cur if cur > 0 else 0)\n",
    "        res = max(res, cur)\n",
    "    return res\n",
    "\n",
    "def maxSub2(array):\n",
    "    L = len(array)\n",
    "    maxSubSum = -math.inf\n",
    "    preSum = 0\n",
    "    minPreSum = 0\n",
    "    for n in array:\n",
    "        preSum += n\n",
    "        maxSubSum = max(maxSubSum, preSum - minPreSum)\n",
    "        minPreSum = min(minPreSum, preSum)\n",
    "    return maxSubSum\n"
   ]
  },
  {
   "cell_type": "markdown",
   "metadata": {},
   "source": [
    "array of 0 and 1, find max length of equal 0 and 1 appearence "
   ]
  },
  {
   "cell_type": "code",
   "execution_count": null,
   "metadata": {},
   "outputs": [],
   "source": [
    "def maxLength(array):\n",
    "    prefixSumPos = dict()\n",
    "    prefixSumPos[0] = -1\n",
    "    res = 0\n",
    "    prefixSum = 0\n",
    "    for i, n in enumerate(array):\n",
    "        prefixSum += n*2 -1  # 0-> -1; 1->1\n",
    "        if prefixSum in prefixSumPos:\n",
    "            res = max(res, i-prefixSumPos[prefixSum])\n",
    "        else:\n",
    "            prefixSumPos[prefixSum] = i\n",
    "    return res\n",
    "\n",
    "\n"
   ]
  },
  {
   "cell_type": "markdown",
   "metadata": {},
   "source": [
    "kth largetst\n",
    "1. put all data in max heap, then pop k times, space O(N), time O(N + k * lg N)\n",
    "2. size k min heap, put all data in, then the top is result, space O(k), time O(N * lg K)\n",
    "3. change to N+1-k smallest, size k max heap, space O(N-k), time O(N * lg (N-k))\n",
    "4. change to N+1-k smallest, unboud min heap, space O(N), time O(N + (N-k) * lg N)"
   ]
  },
  {
   "cell_type": "code",
   "execution_count": null,
   "metadata": {},
   "outputs": [],
   "source": [
    "import heapq\n",
    "def kthLargest(arrays, k):\n",
    "    minHeap = []\n",
    "    for n in arrays:\n",
    "        if len(minHeap) < k:\n",
    "            heapq.heappush(minHeap, n)\n",
    "\n",
    "        elif minHeap[0] < n:\n",
    "            heapq.heappushpop(minHeap, n)\n",
    "\n",
    "    if len(minHeap) == k:\n",
    "        return minHeap[0]\n",
    "    else:\n",
    "        return -1"
   ]
  },
  {
   "cell_type": "code",
   "execution_count": null,
   "metadata": {},
   "outputs": [],
   "source": []
  },
  {
   "cell_type": "markdown",
   "metadata": {},
   "source": [
    "a^n % b"
   ]
  },
  {
   "cell_type": "code",
   "execution_count": null,
   "metadata": {},
   "outputs": [],
   "source": [
    "# recursive ((a^(n//2) % b) * a%b)%b\n",
    "# binary (a%b * a^2%b * a^4%b*...)%b, n -> binary\n"
   ]
  },
  {
   "cell_type": "markdown",
   "metadata": {},
   "source": [
    "minimum path sum in board \n",
    "\n",
    "dp max/min, how many ways, is possible\n"
   ]
  },
  {
   "cell_type": "code",
   "execution_count": null,
   "metadata": {},
   "outputs": [],
   "source": []
  },
  {
   "cell_type": "markdown",
   "metadata": {},
   "source": [
    "array of wait time, for each time i, if the wait time value is == i, not serviced left, for each time, how many customer still in queue."
   ]
  },
  {
   "cell_type": "code",
   "execution_count": 23,
   "metadata": {},
   "outputs": [
    {
     "data": {
      "text/plain": [
       "[12, 6, 2, 1, 0, 0, 0, 0, 0, 0, 0, 0]"
      ]
     },
     "execution_count": 23,
     "metadata": {},
     "output_type": "execute_result"
    }
   ],
   "source": [
    "from typing import List\n",
    "import heapq\n",
    "\n",
    "def queueLength(waittimes: List[int]) -> List[int]:\n",
    "    \n",
    "    L = len(waittimes)\n",
    "    hh = [(t, i) for i, t in enumerate(waittimes)]\n",
    "    res = []\n",
    "    heapq.heapify(hh)\n",
    "    process = remove = 0\n",
    "    proIdx = -1\n",
    "    for t in range(L):\n",
    "        while hh and hh[0][0] == t:\n",
    "            _, idx = heapq.heappop(hh)\n",
    "            remove += 1  if idx > proIdx else 0      \n",
    "        res.append(L - remove -process)\n",
    "        if hh:\n",
    "            process += 1\n",
    "            proIdx += 1\n",
    "        while proIdx < L and waittimes[proIdx] <= t:\n",
    "            proIdx += 1\n",
    "    return res\n",
    "\n",
    "# queueLength([2,2,3,1])\n",
    "# [4, 2, 1, 0]\n",
    "# queueLength([2,1,1,1,1,2,3,2,2,2,1,4])\n",
    "# [12, 6, 2, 1, 0, 0, 0, 0, 0, 0, 0, 0]\n"
   ]
  },
  {
   "cell_type": "code",
   "execution_count": 25,
   "metadata": {},
   "outputs": [
    {
     "data": {
      "text/plain": [
       "[12, 6, 2, 1, 0, 0, 0, 0, 0, 0, 0, 0]"
      ]
     },
     "execution_count": 25,
     "metadata": {},
     "output_type": "execute_result"
    }
   ],
   "source": [
    "from typing import List\n",
    "import heapq, collections\n",
    "\n",
    "def queueLength(waittimes: List[int]) -> List[int]:\n",
    "    cnt = collections.Counter(waittimes)\n",
    "    res = []\n",
    "    L = len(waittimes)\n",
    "    total = L\n",
    "    proIdx = -1\n",
    "    for t in range(L):\n",
    "        proIdx += 1\n",
    "        total -= cnt[t]\n",
    "        res.append(total)\n",
    "        while proIdx < L and waittimes[proIdx] <= t:\n",
    "            proIdx += 1\n",
    "        if proIdx < L:\n",
    "            cnt[waittimes[proIdx]] -= 1\n",
    "            total -= 1\n",
    "    return res\n",
    "\n",
    "# queueLength([2,1,1,1,1,2,3,2,2,2,1,4])   \n",
    "# [12, 6, 2, 1, 0, 0, 0, 0, 0, 0, 0, 0]   \n"
   ]
  },
  {
   "cell_type": "markdown",
   "metadata": {},
   "source": [
    "longest substring without duplicate"
   ]
  },
  {
   "cell_type": "code",
   "execution_count": null,
   "metadata": {},
   "outputs": [],
   "source": [
    "def longestsub(s):\n",
    "    L = len(s)\n",
    "    start = 0\n",
    "    visit = set()\n",
    "    maxLength = 0\n",
    "    for end in range(L):\n",
    "        c = s[end]\n",
    "        if c not in visit:\n",
    "            visit.add(c)\n",
    "            \n",
    "        else:\n",
    "            while start < end and s[start] != c:\n",
    "                visit.discard(s[start])\n",
    "                start += 1\n",
    "            start += 1\n",
    "        maxLength = max(maxLength, end-start + 1)\n",
    "\n",
    "\n",
    "def longestsub(s):\n",
    "    L = len(s)\n",
    "    end = 0\n",
    "    visit = set()\n",
    "    maxLength = 0\n",
    "    for start in range(L):\n",
    "        while end < L and s[end] not in visit:\n",
    "            visit.add(s[end])\n",
    "            end += 1\n",
    "        maxLength = max(maxLength, end-start)\n",
    "        visit.discard(s[start])\n",
    "\n"
   ]
  },
  {
   "cell_type": "markdown",
   "metadata": {},
   "source": [
    "find substring in source to contain all char in target"
   ]
  },
  {
   "cell_type": "code",
   "execution_count": null,
   "metadata": {},
   "outputs": [],
   "source": [
    "def shortestSub(source, target):\n",
    "    targetCnt = collections.Counter(target)\n",
    "    curCnt = collections.Counter()\n",
    "    unMatch = len(targetCnt)\n",
    "    end = 0\n",
    "    L = len(source)\n",
    "    shortest = math.inf\n",
    "    for start in range(L):\n",
    "        while end < L and unMatch > 0:\n",
    "            c = source[end]\n",
    "            curCnt[c] += 1\n",
    "            if curCnt[c] == targetCnt[c]:\n",
    "                unMatch -= 1\n",
    "            end += 1\n",
    "        if unMatch == 0:\n",
    "            shortest = min(shortest, end-start)\n",
    "        ch = source[start]\n",
    "        if curCnt[ch] == targetCnt[ch]:\n",
    "            unMatch += 1\n",
    "        curCnt[ch] -= 1\n"
   ]
  },
  {
   "cell_type": "markdown",
   "metadata": {},
   "source": [
    "group anagrams strings"
   ]
  },
  {
   "cell_type": "code",
   "execution_count": null,
   "metadata": {},
   "outputs": [],
   "source": [
    "def group(ss):\n",
    "    g = collections.defaultdict(list)\n",
    "    for s in ss:\n",
    "        # cnt = [0]*26\n",
    "        # for c in s:\n",
    "        #     cnt[ord(c)-ord('a')] += 1\n",
    "        # g[tuple(cnt)].append(s)\n",
    "\n",
    "        key = ''.join(sorted(s))\n",
    "        g[key].append(s)\n",
    "    return g.values()"
   ]
  },
  {
   "cell_type": "markdown",
   "metadata": {},
   "source": [
    "'.*' match regex "
   ]
  },
  {
   "cell_type": "code",
   "execution_count": null,
   "metadata": {},
   "outputs": [],
   "source": [
    "def match(source, pattern):\n",
    "    Ls = len(source)\n",
    "    Lp = len(pattern)\n",
    "    dp =[[False] * (Lp+1) for _ in range(Ls+1)]\n",
    "    dp[0][0] = True\n",
    "    for i in range(2, Lp+1):\n",
    "        dp[0][i] = dp[0][i-2] and pattern[i-1] == '*' \n",
    "    for i in range(1, Ls+1):\n",
    "        for j in range(1, Lp+1):\n",
    "            if pattern[j-1] == '*':\n",
    "                dp[i][j] = dp[i][j-2] or (dp[i-1][j] and  pattern[j-2] in (source[i-1], '.'))\n",
    "            else:\n",
    "                dp[i][j] = dp[i-1][j-1] and pattern[j-1] in (source[i-1], '.')\n",
    "    return dp[Lp][Ls]"
   ]
  },
  {
   "cell_type": "markdown",
   "metadata": {},
   "source": [
    "x^n"
   ]
  },
  {
   "cell_type": "code",
   "execution_count": null,
   "metadata": {},
   "outputs": [],
   "source": [
    "def pow(x, n):\n",
    "    res = 1\n",
    "    cur = x \n",
    "    while n > 0:\n",
    "        digit = n % 2\n",
    "        n //= 2\n",
    "        res *= cur if digit == 1 else 1\n",
    "        cur *= cur\n",
    "    return res \n",
    "\n",
    "\n",
    "def pow2(x, n):\n",
    "    if n == 0:\n",
    "        return 1\n",
    "    if n == 1:\n",
    "        return x\n",
    "    if n %2 == 1:\n",
    "        return x * pow2(x, n//2) **2\n",
    "    if n%2 ==0:\n",
    "        return pow2(x, n//2) **2\n",
    "\n",
    "print(pow2(3,3))\n"
   ]
  },
  {
   "cell_type": "markdown",
   "metadata": {},
   "source": [
    "0: empty, \n",
    "1: building\n",
    "2: block\n",
    "\n",
    "find an empty which has the minimum distance to all buildings"
   ]
  },
  {
   "cell_type": "code",
   "execution_count": null,
   "metadata": {},
   "outputs": [],
   "source": [
    "def findShortestDistanceSum(grid):\n",
    "    R = len(grid)\n",
    "    C = len(grid[0])\n",
    "    bcnt = 0\n",
    "\n",
    "    distance = collections.defaultdict(list)\n",
    "\n",
    "    def bfs(a, b):\n",
    "        steps = -1\n",
    "        q = [(a, b)]\n",
    "        visit = set(q)\n",
    "        while q:\n",
    "            newQ = []\n",
    "            steps += 1\n",
    "            for x,y in q:\n",
    "                if steps == 0: # building\n",
    "                    continue\n",
    "                distance[(x,y)].append(steps)\n",
    "                for dx, dy in (-1, 0), (1,0), (0, -1), (0, 1):\n",
    "                    nx, ny = x+dx, y+dy\n",
    "                    if nx<0 or nx> R-1 or ny<0 or ny>C-1 or (nx, ny) in visit or grid[nx][ny] != 0:\n",
    "                        continue\n",
    "                    visit.add((nx, ny))\n",
    "                    newQ.appned((nx, ny))\n",
    "            q = newQ\n",
    "\n",
    "    for i in range(R):\n",
    "        for j in range(C):\n",
    "            if grid[i][j] == 1:\n",
    "                bfs(i,j)\n",
    "                bcnt += 1\n",
    "    minDis = math.inf\n",
    "    target = None\n",
    "    for key in distance.keys():\n",
    "        if len(distance[key]) == bcnt:\n",
    "            dis = sum(distance[key])\n",
    "            if dis < minDis:\n",
    "                misDis = dis\n",
    "                target = key\n",
    "    if target == None:\n",
    "        return -1\n",
    "    return minDis\n",
    "\n",
    "        \n",
    "    \n",
    "\n"
   ]
  },
  {
   "cell_type": "markdown",
   "metadata": {},
   "source": [
    "from top to bottom, from left to right, do vertical traversal a binary tree"
   ]
  },
  {
   "cell_type": "code",
   "execution_count": null,
   "metadata": {},
   "outputs": [],
   "source": [
    "def vertical(root):\n",
    "    if not root:\n",
    "        return []\n",
    "    cols = collections.defaultdict(list)\n",
    "    q = [(root,0)]\n",
    "    while q:\n",
    "        newQ = []\n",
    "        for node, col in q:\n",
    "            cols[col].appned(node.val)\n",
    "            if node.left:\n",
    "                newQ.append((node.left, col-1))\n",
    "            if node.right:\n",
    "                newQ.append((node.right, col+1))\n",
    "        q = newQ\n",
    "    return [cols[k] for k in sorted(cols.keys())]\n"
   ]
  },
  {
   "cell_type": "markdown",
   "metadata": {},
   "source": [
    "merge intervals list:"
   ]
  },
  {
   "cell_type": "code",
   "execution_count": null,
   "metadata": {},
   "outputs": [],
   "source": [
    "def merge(intervals):\n",
    "    intervals.sort(lambda x: (x[0], x[1]))\n",
    "    if not intervals:\n",
    "        return []\n",
    "    res = [intervals[0]]\n",
    "    for i in range(1,len(intervals)):\n",
    "        start, end = intervals[i]\n",
    "        if start <= res[-1][1]:\n",
    "            res[-1][1] = max(end, res[-1][1])\n",
    "        else:\n",
    "            res.append(intervals[i])\n",
    "    return res "
   ]
  },
  {
   "cell_type": "markdown",
   "metadata": {},
   "source": [
    "merge two interval lists"
   ]
  },
  {
   "cell_type": "code",
   "execution_count": null,
   "metadata": {},
   "outputs": [],
   "source": [
    "def merge(intervals1, intervals2):\n",
    "    L1 = len(intervals1)\n",
    "    L2 = len(intervals2)\n",
    "    idx1 = idx2 = 0\n",
    "    res = []\n",
    "    while idx1<L1 or idx2<L2:\n",
    "        s1,e1 = intervals1[idx1] if idx1 < L1 else math.inf, math.inf\n",
    "        s2,e2 = intervals2[idx2] if idx2 < L2 else math.inf, math.inf\n",
    "        if s1 < s2:\n",
    "            if not res or res[-1][1] < s1:\n",
    "                res.append(intervals1[idx1])\n",
    "            else:\n",
    "                res[-1][1] = max(res[-1][1], e1)\n",
    "            idx1 += 1\n",
    "        else:\n",
    "            if not res or res[-1][1] < s2:\n",
    "                res.append(intervals2[idx2])\n",
    "            else:\n",
    "                res[-1][1] = max(res[-1][1], e2)\n",
    "            idx2 += 1\n",
    "    return res\n"
   ]
  },
  {
   "cell_type": "markdown",
   "metadata": {},
   "source": [
    "add two string numbers"
   ]
  },
  {
   "cell_type": "code",
   "execution_count": null,
   "metadata": {},
   "outputs": [],
   "source": [
    "def add(num1, num2):\n",
    "    res = []\n",
    "    carry = 0\n",
    "    L1 = len(num1)\n",
    "    L2 = len(num2)\n",
    "    i1 = L1-1\n",
    "    i2 = L2 -1\n",
    "    while i1 > -1 or i2 > -1 or carry > 0:\n",
    "        n1 = int(num1[i1]) if i1>-1 else 0 \n",
    "        n2 = int(num2[i2]) if i2>-1 else 0\n",
    "        carry += n1 + n2\n",
    "        digit = carry % 10\n",
    "        res.append(str(digit))\n",
    "        carry //= 10\n",
    "\n",
    "    return ''.join(reversed(res))\n"
   ]
  },
  {
   "cell_type": "markdown",
   "metadata": {},
   "source": [
    "words ladder, from start word, change only one char, intermedia word need in dictionary, then reach end word, \n",
    "1. find the shortest steps\n",
    "2. find one path\n",
    "3. find all paths (bfs + reverse dfs) only use the visited from bfs as intermedia nodes"
   ]
  },
  {
   "cell_type": "code",
   "execution_count": null,
   "metadata": {},
   "outputs": [],
   "source": [
    "def ladder(start, end, wordlist):\n",
    "\n",
    "    def diffByOne(word1, word2):\n",
    "        if len(word1) != len(word2):\n",
    "            return False\n",
    "        diff = 0\n",
    "        for a, b in zip(word1, word2):\n",
    "            if a!=b:\n",
    "                diff += 1\n",
    "        return diff == 1\n",
    "    \n",
    "    def getNext(word):\n",
    "        for w in wordlist:\n",
    "            if diffByOne(w, word):\n",
    "                yield w\n",
    "\n",
    "    def bfs(start, end):\n",
    "        q = [start]\n",
    "        visit = set(q)\n",
    "        steps = -1\n",
    "        prev = dict()\n",
    "        while q:\n",
    "            newQ = []\n",
    "            steps += 1\n",
    "            for cur in q:\n",
    "                if cur == end:\n",
    "                    return steps\n",
    "                for next in getNext(cur):\n",
    "                    if next not in visit:\n",
    "                        visit.add(next)\n",
    "                        newQ.append(next)\n",
    "                        prev[next] = cur\n",
    "            q = newQ\n",
    "        return -1 # steps\n",
    "    \n",
    "    def onePath(prev):\n",
    "        cur = end\n",
    "        res = []\n",
    "        while cur != start:\n",
    "            res.append(cur)\n",
    "            cur = prev[cur]\n",
    "        res.append(start)\n",
    "        return '->'.join(reversed(res))\n",
    "    \n",
    "    def allPaths(start, end):\n",
    "        q = [start]\n",
    "        visit = set()\n",
    "        steps = -1\n",
    "        prev = collections.defaultdict(set)\n",
    "        while q:\n",
    "            newQ = []\n",
    "            steps += 1\n",
    "            for cur in q:\n",
    "                visit.add(cur)\n",
    "                if cur == end:\n",
    "                    newQ = []\n",
    "                    break\n",
    "                for next in getNext(cur):\n",
    "                    if next not in visit:\n",
    "                        # visit.add(next)  # wrong to add visit here, can not get all connections\n",
    "                        newQ.append(next)\n",
    "                        prev[next].add(cur)\n",
    "            q = newQ\n",
    "        res = []\n",
    "        \n",
    "\n",
    "        def dfs(cur, path, visit):\n",
    "            if len(path) == steps +1:\n",
    "                if cur == start:\n",
    "                    res.append('->'.join(reversed(path)))\n",
    "                return\n",
    "            for next in prev[cur]:\n",
    "                if next not in visit:\n",
    "                    visit.add(next)\n",
    "                    path.append(next)\n",
    "                    dfs(next, path, visit)\n",
    "                    path.pop()\n",
    "                    visit.discard(next)\n",
    "        dfs(end, [end], set([end]))\n",
    "        return res\n",
    "    \n",
    "    wordlist.append(end)\n",
    "    return allPaths(start, end)\n",
    "\n",
    "start =\"hit\"\n",
    "end = \"cog\"\n",
    "dict =[\"hot\",\"dot\",\"dog\",\"lot\",\"log\"]\n",
    "\n",
    "print(ladder(start, end, dict))\n",
    "\n",
    "# ['hit->hot->lot->log->cog',\n",
    "#  'hit->hot->dot->dog->cog']\n",
    "\n"
   ]
  },
  {
   "cell_type": "markdown",
   "metadata": {},
   "source": [
    "input palindrome, rearrange to form another palindrome which is lexicographically smallest"
   ]
  },
  {
   "cell_type": "code",
   "execution_count": 47,
   "metadata": {},
   "outputs": [
    {
     "name": "stdout",
     "output_type": "stream",
     "text": [
      "xyyx\n"
     ]
    }
   ],
   "source": [
    "def smallestPalindrome(word):\n",
    "    cnt = collections.Counter(word)\n",
    "    res = []\n",
    "    oddChar = None\n",
    "    for k in sorted(cnt.keys()):\n",
    "        count = cnt[k]\n",
    "        if count %2 ==1:\n",
    "            oddChar = k\n",
    "            count -= 1\n",
    "        res.extend([k]* (count//2))\n",
    "    second = list(reversed(res))\n",
    "    if oddChar != None:\n",
    "        res.append(oddChar)\n",
    "    res.extend(second)\n",
    "    return ''.join(res)\n",
    "\n",
    "print(smallestPalindrome('yxxy'))\n",
    "\n",
    "\n",
    "# aabbccddeeff -> aabbccddefef smallest -> second smallest\n",
    "\n",
    "# 1,2,3,4,6,5,8,7 -> 1,2,3,4,6,7,8,5 -> 1,2,3,4,6,7,5,8\n",
    "# next permutation: from behind, find first decreasing one (5), \n",
    "# replace with smallest num from behind (7), but bigger than it\n",
    "# after replace, sort behind it."
   ]
  },
  {
   "cell_type": "markdown",
   "metadata": {},
   "source": [
    "binary tree level traversal, left to right, then right to left"
   ]
  },
  {
   "cell_type": "code",
   "execution_count": null,
   "metadata": {},
   "outputs": [],
   "source": [
    "def level(root):\n",
    "    if not root:\n",
    "        return []\n",
    "    q = [root]\n",
    "    res = []\n",
    "    step = -1\n",
    "    while q:\n",
    "        step += 1\n",
    "        level = []\n",
    "        newQ = []\n",
    "        for cur in q:\n",
    "            level.append(cur.val)\n",
    "            for next in cur.left, cur.right:\n",
    "                if next:\n",
    "                    newQ.append(next)\n",
    "        q = newQ\n",
    "        if step % 2 == 1:\n",
    "            res.extend(reversed(level))\n",
    "        else:\n",
    "            res.extend(level)\n",
    "    return res"
   ]
  },
  {
   "cell_type": "markdown",
   "metadata": {},
   "source": [
    "topological sort"
   ]
  },
  {
   "cell_type": "code",
   "execution_count": null,
   "metadata": {},
   "outputs": [],
   "source": [
    "def topo(requirements, total):\n",
    "    graph = collections.defaultdict(list) \n",
    "    indegree = collections.defaultdict(int)\n",
    "    # graph = [[] for _ in range(total)]\n",
    "    # indegree = [0] * total\n",
    "    for child, parent in requirements:\n",
    "        graph[parent].append(child)\n",
    "        indegree[child] += 1\n",
    "    \n",
    "    q = [i for i in range(total) if indegree[i] == 0]\n",
    "    res = []\n",
    "    while q:\n",
    "        newQ = []\n",
    "        for cur in q:\n",
    "            res.append(cur)\n",
    "            for next in graph[cur]:\n",
    "                if indegree[next] > 0:\n",
    "                    indegree[next] -= 1\n",
    "                    if indegree[next] == 0:\n",
    "                        newQ.append(next)\n",
    "        q = newQ\n",
    "    if len(res) == total:\n",
    "        return res\n",
    "    else:\n",
    "        return []\n"
   ]
  },
  {
   "cell_type": "markdown",
   "metadata": {},
   "source": [
    "different types of coins, with unlimited for each type, find how many ways to construct a total sum"
   ]
  },
  {
   "cell_type": "code",
   "execution_count": null,
   "metadata": {},
   "outputs": [],
   "source": [
    "def coinsSum(coins, target):\n",
    "    L = len(coins)\n",
    "    dp = [0]*(target+1)\n",
    "    dp[0] = 1\n",
    "    for t in range(target+1):\n",
    "        for c in coins:\n",
    "            if t+c <= target:\n",
    "                dp[t+c] += dp[t]\n",
    "    return dp[target]\n",
    "\n",
    "def coinsSum2(coins, target):\n",
    "    L = len(coins)\n",
    "    dp = [0]*(target+1)\n",
    "    dp[0] = 1\n",
    "    for t in range(target+1):\n",
    "        for c in coins: # coins not in order, 3,3,2 and 2,3,3 count twice\n",
    "            if t-c >=0:\n",
    "                dp[t] += dp[t-c]\n",
    "    return dp[target]\n",
    "\n",
    "\n",
    "\n",
    "def coinsSum3(coins, target):\n",
    "    L = len(coins)\n",
    "    dp = [0]*(target+1)\n",
    "    dp[0] = 1\n",
    "    for c in coins: # coins in order, 3,3,2 and 2,3,3 count only once\n",
    "        for t in range(target+1):        \n",
    "            if t-c >=0:\n",
    "                dp[t] += dp[t-c]\n",
    "    return dp[target]\n",
    "\n",
    "# dp how many ways\n",
    "# dfs is the all paths"
   ]
  },
  {
   "cell_type": "markdown",
   "metadata": {},
   "source": [
    "binary tree, max sum path starting from root and ending in any node"
   ]
  },
  {
   "cell_type": "code",
   "execution_count": null,
   "metadata": {},
   "outputs": [],
   "source": [
    "def maxPath(root):\n",
    "    if not root:\n",
    "        return 0\n",
    "    \n",
    "    res = root.val\n",
    "    cur = res\n",
    "\n",
    "    def dfs(node):\n",
    "        nonlocal cur\n",
    "        nonlocal res\n",
    "        if not node:\n",
    "            return\n",
    "        cur += node.val\n",
    "        res = max(res, cur)\n",
    "        dfs(node.left)    \n",
    "\n",
    "        dfs(node.right)\n",
    "        cur -= node.val\n",
    "\n",
    "    dfs(root)\n",
    "\n",
    "def maxPathBFS(root):\n",
    "    if not root:\n",
    "        return 0\n",
    "    res = root.val\n",
    "    q = [(root, root.val)]\n",
    "    while q:\n",
    "        newQ = []\n",
    "        for node, curVal in q:\n",
    "            res = max(res, curVal)\n",
    "            for next in node.left, node.right:\n",
    "                if next:\n",
    "                    newQ.append((next, curVal+next.val))\n",
    "        q = newQ\n",
    "\n",
    "    return res"
   ]
  },
  {
   "cell_type": "markdown",
   "metadata": {},
   "source": [
    "max binary tree path sum, starting from root to any leaf node"
   ]
  },
  {
   "cell_type": "code",
   "execution_count": null,
   "metadata": {},
   "outputs": [],
   "source": [
    "def maxPath(root):\n",
    "    if not root:\n",
    "        return 0\n",
    "    \n",
    "    res = root.val\n",
    "    cur = res\n",
    "\n",
    "    def dfs(node):\n",
    "        nonlocal cur\n",
    "        nonlocal res\n",
    "        if not node:\n",
    "            return\n",
    "        cur += node.val\n",
    "        if not node.left and not node.right:\n",
    "            res = max(res, cur)\n",
    "        dfs(node.left)    \n",
    "\n",
    "        dfs(node.right)\n",
    "        cur -= node.val\n",
    "\n",
    "    dfs(root)\n",
    "\n",
    "def maxPathBFS(root):\n",
    "    if not root:\n",
    "        return 0\n",
    "    res = root.val\n",
    "    q = [(root, root.val)]\n",
    "    while q:\n",
    "        newQ = []\n",
    "        for node, curVal in q:\n",
    "            if not node.left and not node.right:\n",
    "                res = max(res, curVal)\n",
    "            for next in node.left, node.right:\n",
    "                if next:\n",
    "                    newQ.append((next, curVal+next.val))\n",
    "        q = newQ\n",
    "\n",
    "    return res"
   ]
  },
  {
   "cell_type": "markdown",
   "metadata": {},
   "source": [
    "max binary path sum, any node to any node"
   ]
  },
  {
   "cell_type": "code",
   "execution_count": null,
   "metadata": {},
   "outputs": [],
   "source": [
    "def maxPath(root):\n",
    "    \n",
    "    def helper(node):\n",
    "        if not node:\n",
    "            return 0, 0\n",
    "        leftsingle, leftdouble = helper(node.left)\n",
    "        rightsingle, rightdouble = helper(node.right)\n",
    "        single = node.val + max(leftsingle, rightsingle, 0)\n",
    "        double = max(single, leftdouble, rightdouble, leftsingle + rightsingle + node.val)\n",
    "        return single, double\n",
    "    \n",
    "    _, res = helper(root)\n",
    "    return res\n",
    "        \n",
    "    "
   ]
  },
  {
   "cell_type": "markdown",
   "metadata": {},
   "source": [
    "max binary path sum between two leaf nodes, "
   ]
  },
  {
   "cell_type": "code",
   "execution_count": null,
   "metadata": {},
   "outputs": [],
   "source": [
    "def maxPath(root):\n",
    "    \n",
    "    def helper(node):\n",
    "        if not node:\n",
    "            return 0, 0\n",
    "        leftsingle, leftdouble = helper(node.left)\n",
    "        rightsingle, rightdouble = helper(node.right)\n",
    "        single = node.val + max(leftsingle, rightsingle) # every path end in leaf\n",
    "        double = max(leftdouble, rightdouble, leftsingle + rightsingle + node.val) # two single + one node\n",
    "        return single, double\n",
    "    \n",
    "    _, res = helper(root)\n",
    "    return res"
   ]
  },
  {
   "cell_type": "markdown",
   "metadata": {},
   "source": [
    "merge two sorted linked list"
   ]
  },
  {
   "cell_type": "code",
   "execution_count": null,
   "metadata": {},
   "outputs": [],
   "source": [
    "def merge(head1, head2):\n",
    "    dummy = ListNode()\n",
    "    cur = dummy\n",
    "    while head1 and head2:\n",
    "        if head1.val < head2.val:\n",
    "            cur.next = head1\n",
    "            head1 = head1.next\n",
    "        else:\n",
    "            cur.next = head2\n",
    "            head2 = head2.next\n",
    "        cur = cur.next\n",
    "\n",
    "    if head1:\n",
    "        cur.next = head1\n",
    "    elif head2:\n",
    "        cur.next = head2\n",
    "    return dummy.next"
   ]
  },
  {
   "cell_type": "markdown",
   "metadata": {},
   "source": [
    "merge two sorted array"
   ]
  },
  {
   "cell_type": "code",
   "execution_count": null,
   "metadata": {},
   "outputs": [],
   "source": [
    "def merge(nums1, nums2):\n",
    "    L1 = len(nums1)\n",
    "    L2 = len(nums2)\n",
    "    i1 = i2 = 0\n",
    "    res = []\n",
    "    while i1< L1 or i2 <L2:\n",
    "        n1 = nums1[i1] if i1 < L1 else math.inf\n",
    "        n2 = nums2[i2] if i2 < L2 else math.inf\n",
    "        if n1 < n2:\n",
    "            res.append(n1)\n",
    "            i1 += 1\n",
    "        else:\n",
    "            res.append(n2)\n",
    "            i2 += 1\n",
    "\n",
    "    return res\n",
    "\n"
   ]
  },
  {
   "cell_type": "markdown",
   "metadata": {},
   "source": [
    "find any peak in the num array, a[0] < a[1], a[n-2]>a[n-1]"
   ]
  },
  {
   "cell_type": "code",
   "execution_count": null,
   "metadata": {},
   "outputs": [],
   "source": [
    "def peak(nums):\n",
    "    L = len(nums)\n",
    "    start, end = 1, L-2\n",
    "    while start + 1 < end:\n",
    "        mid = start + (end-start) // 2\n",
    "        if nums[mid-1] < nums[mid]  > nums[mid+1]:\n",
    "            return mid\n",
    "        elif nums[mid-1] > nums[mid]:\n",
    "            end = mid-1\n",
    "        elif nums[mid+1] > nums[mid]:\n",
    "            start = mid+1\n",
    "    # if start -1 >=0 and start+1<=L-1 and nums[start-1]<nums[start]>nums[start+1]:\n",
    "    #     return start # start from 1, end from L-2, no need to test start has left and right\n",
    "    if nums[start-1]<nums[start]>nums[start+1]:\n",
    "        return start\n",
    "    else:\n",
    "        return end"
   ]
  },
  {
   "cell_type": "markdown",
   "metadata": {},
   "source": [
    "there are candidates numbers, each candidate can use multiple times, find all the combinations to produce sum as target."
   ]
  },
  {
   "cell_type": "code",
   "execution_count": null,
   "metadata": {},
   "outputs": [],
   "source": [
    "def combSum(candidates, target):\n",
    "    res = set()\n",
    "\n",
    "    def dfs(curSum, path):\n",
    "        if curSum > target:\n",
    "            return\n",
    "        if curSum == target:\n",
    "            res.add(tuple(sorted(path)))\n",
    "            return\n",
    "        for cand in candidates:\n",
    "            path.append(cand)\n",
    "            dfs(curSum+ cand, path)\n",
    "            path.pop()\n",
    "\n",
    "    dfs(0, [])\n",
    "    return list(res)\n",
    "\n",
    "\n",
    "\n",
    "def combSum2(candidates, target):\n",
    "    candidates = sorted(list(set(candidates)))\n",
    "    res = []\n",
    "\n",
    "    def dfs(idx, curSum, path):\n",
    "        if curSum > target:\n",
    "            return\n",
    "        if curSum == target:\n",
    "            res.add(list(path))\n",
    "            return\n",
    "        for i in range(idx, len(candidates)): # no duplicated combination: 2,2,3 and 3,2,2\n",
    "            cand = candidates[i]\n",
    "            path.append(cand)\n",
    "            dfs(i, curSum+ cand, path)\n",
    "            path.pop()\n",
    "\n",
    "    dfs(0, 0, [])\n",
    "    return list(res)\n",
    "\n"
   ]
  },
  {
   "cell_type": "markdown",
   "metadata": {},
   "source": [
    "array of nums 0 and 1, can flip at most k 0 to 1, what is the max length of 1 continuously in array"
   ]
  },
  {
   "cell_type": "code",
   "execution_count": null,
   "metadata": {},
   "outputs": [],
   "source": [
    "def maxOne(array, k):\n",
    "    L = len(array)\n",
    "    end = 0\n",
    "    zeros = 0\n",
    "    res = 0\n",
    "    for start in range(L): # start as main pointer\n",
    "        while end < L and zeros + (1-array[end]) <= k:\n",
    "            zeros += 1-array[end]\n",
    "            end += 1\n",
    "        res = max(res, end-start) # [start, end)\n",
    "        zeros -= 1-array[start]\n",
    "    return res\n",
    "\n",
    "\n",
    "def maxOne(array, k):\n",
    "    L = len(array)\n",
    "    start = 0\n",
    "    zeros = 0\n",
    "    res = 0\n",
    "    for end in range(L): # end as main pointer\n",
    "        zeros += 1-array[end]\n",
    "        while zeros > k:\n",
    "            zeros -= 1-array[start]\n",
    "            start += 1\n",
    "        res = max(res, end-start+1) # [start, end]\n",
    "    return res\n"
   ]
  },
  {
   "cell_type": "markdown",
   "metadata": {},
   "source": [
    "max size islands, bfs, dfs, all ok, prefer bfs, \n",
    "bfs:\n",
    "1. shortest path\n",
    "2. connected componenets\n",
    "3. topological sort"
   ]
  },
  {
   "cell_type": "code",
   "execution_count": null,
   "metadata": {},
   "outputs": [],
   "source": [
    "def maxIsland(grid):\n",
    "    R = len(grid)\n",
    "    C = len(grid[0])\n",
    "    visit = set()\n",
    "\n",
    "    def bfs(x, y):\n",
    "        size = 0\n",
    "        q = [(x,y)]\n",
    "        visit.add((x,y))\n",
    "        while q:\n",
    "            newQ = []\n",
    "            for i, j in q:\n",
    "                size += 1\n",
    "                for di, dj in (-1, 0), (1,0), (0, -1), (0, 1):\n",
    "                    ni, nj = i+ di, j+dj\n",
    "                    if ni<0 or ni>R-1 or nj<0 or nj>C-1 or (ni, nj) in visit or grid[ni][nj] == 0:\n",
    "                        continue\n",
    "                    visit.add((ni, nj))\n",
    "                    newQ.append((ni,nj))\n",
    "            q = newQ\n",
    "        return size\n",
    "    res = 0\n",
    "    for i in range(R):\n",
    "        for j in range(C):\n",
    "            if grid[i][j] == 0 or (i,j) in visit:\n",
    "                continue\n",
    "            res = max(res, bfs(i, j))\n",
    "    return res\n",
    "\n",
    "\n",
    "def maxIsland2(grid):\n",
    "    R = len(grid)\n",
    "    C = len(grid[0])\n",
    "    res = 0\n",
    "    visit = set()\n",
    "    for i in range(R):\n",
    "        for j in range(C):\n",
    "            if grid[i][j] == 1 and (i, j) not in visit:\n",
    "                visit.add((i,j))\n",
    "                size = 0\n",
    "                q = [(i,j)]\n",
    "                while q:\n",
    "                    newQ = []\n",
    "                    for x, y in q:\n",
    "                        size += 1\n",
    "                        dx = [0,0, -1, 1]\n",
    "                        dy = [-1,1,0,0]\n",
    "                        for k in range(4):\n",
    "                            nx,ny = x+dx[k], y+dy[k]\n",
    "                            if -1<nx<R and -1<ny<C and grid[nx][ny] == 1 and (nx, ny) not in visit:\n",
    "                                newQ.append((nx, ny))\n",
    "                                visit.add((nx, ny))\n",
    "                    q = newQ\n",
    "                res = max(res, size)\n",
    "    return res\n",
    "\n"
   ]
  },
  {
   "cell_type": "markdown",
   "metadata": {},
   "source": [
    "search in roated array"
   ]
  },
  {
   "cell_type": "code",
   "execution_count": null,
   "metadata": {},
   "outputs": [],
   "source": [
    "def searchRoatedArray(array, target):\n",
    "    L = len(array)\n",
    "    start, end = 0, L-1\n",
    "    while start + 1 < end:\n",
    "        mid = start + (end-start) // 2\n",
    "        if array[mid] == target:\n",
    "            return mid\n",
    "        elif array[end] >= array[mid] > target or array[mid] > target >= array[start]:\n",
    "            end = mid-1\n",
    "        elif array[start] <= array[mid] < target or array[mid] < target <= array[end]:\n",
    "            start = mid+1\n",
    "        elif array[mid] <= array[end] <= target:\n",
    "            end = mid-1\n",
    "        elif array[mid] >= array[end] >= target:\n",
    "            start = mid+1\n",
    "    if array[start] == target:\n",
    "        return start\n",
    "    if array[end] == target:\n",
    "        return end\n",
    "    return -1\n",
    "\n",
    "\n",
    "def searchRoatedArray(array, target):\n",
    "    L = len(array)\n",
    "    start, end = 0, L-1\n",
    "    while start + 1 < end:\n",
    "        mid = start + (end-start) // 2\n",
    "        if array[mid] == target:\n",
    "            return mid\n",
    "        elif array[mid] >= array[start]:\n",
    "            if array[start] <= target <= array[mid]:\n",
    "                end = mid -1\n",
    "            else:\n",
    "                start = mid+1\n",
    "        else:\n",
    "            if array[mid] <= target <= array[end]:\n",
    "                start = mid+1\n",
    "            else:\n",
    "                end = mid-1\n",
    "\n",
    "    if array[start] == target:\n",
    "        return start\n",
    "    if array[end] == target:\n",
    "        return end\n",
    "    return -1"
   ]
  },
  {
   "cell_type": "markdown",
   "metadata": {},
   "source": [
    "删除字符串中的所有相邻重复项\n",
    "给出由小写字母组成的字符串 s，重复项删除操作会选择两个相邻且相同的字母，并\n",
    "删除他们。\n",
    "在 s 上反复执行重复项删除操作，直到无法继续删除\n",
    "在完成所有重复项删除操作后返回最终的字符串\n",
    "\n",
    "?????"
   ]
  },
  {
   "cell_type": "code",
   "execution_count": null,
   "metadata": {},
   "outputs": [],
   "source": []
  },
  {
   "cell_type": "markdown",
   "metadata": {},
   "source": [
    "在排序数组中找最接近的K个数\n",
    "给一个目标数 target, 一个非负整数 k, 一个按照升序排列的数组 A。在A中找与\n",
    "target最接近的k个整数。返回这k个数并按照与target的接近程度从小到大排序，如\n",
    "果接近程度相当，那么小的数排在前面。\n",
    "2024年8月 Meta https://www.lintcode.com/problem/460/\n",
    "\n",
    "max heap k size to hold (-abs(num-k), -num)"
   ]
  },
  {
   "cell_type": "code",
   "execution_count": null,
   "metadata": {},
   "outputs": [],
   "source": []
  },
  {
   "cell_type": "markdown",
   "metadata": {},
   "source": [
    "最短的桥\n",
    "在给定的二维二进制数组 A 中，存在两座岛。（岛是由四面相连的 1 形成的一个最\n",
    "大组。）\n",
    "现在，我们可以将 0 变为 1，以使两座岛连接起来，变成一座岛。\n",
    "返回必须翻转的 0 的最小数目。（可以保证答案至少是 1。）\n",
    "2024年7月 Meta https://www.lintcode.com/problem/1708/\n",
    "\n",
    "????"
   ]
  },
  {
   "cell_type": "code",
   "execution_count": null,
   "metadata": {},
   "outputs": [],
   "source": []
  },
  {
   "cell_type": "markdown",
   "metadata": {},
   "source": [
    "有序数组中的缺失元素\n",
    "现在有一个 严格升序 排列的整数数组 nums，在 nums 中不存在相同的元素。\n",
    "给定一个整数 k，找出并返回在 nums 中，从左开始的第 k 个缺失的数字元素。\n",
    "2024年7月 Meta https://www.lintcode.com/problem/3661/\n",
    "\n",
    "?????"
   ]
  },
  {
   "cell_type": "code",
   "execution_count": null,
   "metadata": {},
   "outputs": [],
   "source": []
  },
  {
   "cell_type": "markdown",
   "metadata": {},
   "source": [
    "分组移位字符串\n",
    "给定一个字符串，我们可以将它的每个字母“转换”到它的后续字母，例如：\"abc\"->\"bcd\"。我们可以保持“转换\n",
    "”，这就构成了序列：\n",
    "\"abc\" -> \"bcd\" -> ... -> \"xyz\"\n",
    "给定只包含小写字母的字符串列表，根据是否属于同一转换序列将所有字符串分组\n",
    "2024年6月 Meta https://www.lintcode.com/problem/922/"
   ]
  },
  {
   "cell_type": "code",
   "execution_count": null,
   "metadata": {},
   "outputs": [],
   "source": []
  },
  {
   "cell_type": "markdown",
   "metadata": {},
   "source": [
    "单链表转成BST\n",
    "给出一个所有元素以升序排序的单链表，将它转换成一棵高度平衡的二叉搜索树\n",
    "2024年6月 Meta https://www.lintcode.com/problem/106/\n",
    "\n",
    "????"
   ]
  },
  {
   "cell_type": "code",
   "execution_count": null,
   "metadata": {},
   "outputs": [],
   "source": []
  },
  {
   "cell_type": "markdown",
   "metadata": {},
   "source": [
    "给你一个列表 nums ，里面每一个元素都是一个整数列表。请你依照下面各图的规则，按顺序返回 nums 中对\n",
    "角线上的整数。\n",
    "从左下至右上对角线遍历二维数组\n",
    "2024年6月 Meta https://www.lintcode.com/problem/1205/\n",
    "\n",
    "(https://leetcode.com/problems/diagonal-traverse/?envType=company&envId=facebook&favoriteSlug=facebook-three-months)"
   ]
  },
  {
   "cell_type": "code",
   "execution_count": null,
   "metadata": {},
   "outputs": [],
   "source": []
  }
 ],
 "metadata": {
  "kernelspec": {
   "display_name": "Python 3",
   "language": "python",
   "name": "python3"
  },
  "language_info": {
   "codemirror_mode": {
    "name": "ipython",
    "version": 3
   },
   "file_extension": ".py",
   "mimetype": "text/x-python",
   "name": "python",
   "nbconvert_exporter": "python",
   "pygments_lexer": "ipython3",
   "version": "3.9.6"
  }
 },
 "nbformat": 4,
 "nbformat_minor": 2
}
