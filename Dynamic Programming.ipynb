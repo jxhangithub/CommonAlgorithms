{
 "cells": [
  {
   "cell_type": "markdown",
   "metadata": {},
   "source": [
    "https://www.cnblogs.com/Raising-Sun/p/5847691.html"
   ]
  },
  {
   "cell_type": "code",
   "execution_count": null,
   "metadata": {},
   "outputs": [],
   "source": [
    "# minimum substree\n",
    "# http://www.lintcode.com/problem/find-minimum-in-rotated-sorted-array/\n",
    "class Solution:\n",
    "\n",
    "    def findSubtree(self, root):\n",
    "        minimum, subtree, sum = self.helper(root)\n",
    "        return subtree\n",
    "\n",
    "    def helper(self, root):\n",
    "        if root is None:\n",
    "            return sys.maxsize, None, 0\n",
    "\n",
    "        left_minimum, left_subtree, left_sum = self.helper(root.left)\n",
    "        right_minimum, right_subtree, right_sum = self.helper(root.right)\n",
    "        \n",
    "        sum = left_sum + right_sum + root.val\n",
    "        if left_minimum == min(left_minimum, right_minimum, sum):\n",
    "            return left_minimum, left_subtree, sum\n",
    "        if right_minimum == min(left_minimum, right_minimum, sum):\n",
    "            return right_minimum, right_subtree, sum\n",
    "        \n",
    "        return sum, root, sum"
   ]
  },
  {
   "cell_type": "markdown",
   "metadata": {},
   "source": [
    "## Backpack series"
   ]
  },
  {
   "cell_type": "code",
   "execution_count": null,
   "metadata": {},
   "outputs": [],
   "source": [
    "lintcode 92\n",
    "lintcode 563\n",
    "https://www.jiuzhang.com/solution/backpack-ix\n",
    "http://www.lintcode.com/problem/backpack-iv/\n",
    "    http://www.lintcode.com/problem/coin-change/\n",
    " http://www.lintcode.com/problem/cutting-a-rod/\n",
    "    "
   ]
  }
 ],
 "metadata": {
  "kernelspec": {
   "display_name": "Python 3",
   "language": "python",
   "name": "python3"
  },
  "language_info": {
   "codemirror_mode": {
    "name": "ipython",
    "version": 3
   },
   "file_extension": ".py",
   "mimetype": "text/x-python",
   "name": "python",
   "nbconvert_exporter": "python",
   "pygments_lexer": "ipython3",
   "version": "3.7.3"
  }
 },
 "nbformat": 4,
 "nbformat_minor": 2
}
