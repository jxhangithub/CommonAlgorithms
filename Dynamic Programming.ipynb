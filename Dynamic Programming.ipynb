{
 "cells": [
  {
   "cell_type": "markdown",
   "metadata": {},
   "source": [
    "https://www.cnblogs.com/Raising-Sun/p/5847691.html"
   ]
  },
  {
   "cell_type": "code",
   "execution_count": null,
   "metadata": {},
   "outputs": [],
   "source": [
    "# minimum substree\n",
    "# http://www.lintcode.com/problem/find-minimum-in-rotated-sorted-array/\n",
    "class Solution:\n",
    "\n",
    "    def findSubtree(self, root):\n",
    "        minimum, subtree, sum = self.helper(root)\n",
    "        return subtree\n",
    "\n",
    "    def helper(self, root):\n",
    "        if root is None:\n",
    "            return sys.maxsize, None, 0\n",
    "\n",
    "        left_minimum, left_subtree, left_sum = self.helper(root.left)\n",
    "        right_minimum, right_subtree, right_sum = self.helper(root.right)\n",
    "        \n",
    "        sum = left_sum + right_sum + root.val\n",
    "        if left_minimum == min(left_minimum, right_minimum, sum):\n",
    "            return left_minimum, left_subtree, sum\n",
    "        if right_minimum == min(left_minimum, right_minimum, sum):\n",
    "            return right_minimum, right_subtree, sum\n",
    "        \n",
    "        return sum, root, sum"
   ]
  },
  {
   "cell_type": "markdown",
   "metadata": {},
   "source": [
    "## Backpack series"
   ]
  },
  {
   "cell_type": "code",
   "execution_count": null,
   "metadata": {},
   "outputs": [],
   "source": [
    "lintcode 92\n",
    "lintcode 563\n",
    "https://www.jiuzhang.com/solution/backpack-ix\n",
    "http://www.lintcode.com/problem/backpack-iv/\n",
    "    http://www.lintcode.com/problem/coin-change/\n",
    " http://www.lintcode.com/problem/cutting-a-rod/\n",
    "    "
   ]
  },
  {
   "cell_type": "code",
   "execution_count": null,
   "metadata": {},
   "outputs": [],
   "source": [
    "## Maximum Subarray\n",
    "\n",
    "# Given an integer array nums, find the contiguous subarray (containing at least \n",
    "# one number) which has the largest sum and return its sum.\n",
    "\n",
    "\n",
    "# Subproblem analysis\n",
    "# Let  sub problem be something like: maxSubArray(int A[], int i), \n",
    "# which means the maxSubArray for A[0:i ] which must has A[i] as the end element. \n",
    "# maxSubArray(A, i) = maxSubArray(A, i - 1) > 0 ? maxSubArray(A, i - 1) + A[i[: A[i]; \n",
    "\n",
    "class Solution:\n",
    "    def maxSubArray(self, nums: List[int]) -> int:\n",
    "        \n",
    "        if not nums:\n",
    "            return -1\n",
    "        currMax = nums[0]\n",
    "        globalMax = nums[0]\n",
    "        \n",
    "        \n",
    "        for i in range(1, len(nums)):\n",
    "            \n",
    "            if currMax < 0:\n",
    "                currMax = nums[i]\n",
    "            else:\n",
    "                currMax += nums[i]\n",
    "                \n",
    "            globalMax = max(globalMax, currMax)\n",
    "            \n",
    "            \n",
    "        return globalMax"
   ]
  },
  {
   "cell_type": "code",
   "execution_count": null,
   "metadata": {},
   "outputs": [],
   "source": [
    "## Coin Change\n",
    "\n",
    "# You are given coins of different denominations and a total amount of money amount. Write a function\n",
    "# to compute the fewest number of coins that you need to make up that amount. If that amount of money \n",
    "# cannot be made up by any combination of the coins, return -1.\n",
    "\n",
    "\n",
    "class Solution:\n",
    "    def coinChange(self, coins: List[int], amount: int) -> int:\n",
    "        dp = [float('inf')] * (amount + 1)\n",
    "        \n",
    "        dp[0] = 0\n",
    "        \n",
    "        for i in range(1, amount + 1):\n",
    "            minVal = float('inf')\n",
    "            for c in coins:\n",
    "                \n",
    "                if i - c >= 0:\n",
    "                    minVal = min(minVal, dp[i - c])\n",
    "            dp[i] = minVal + 1\n",
    "                    \n",
    "        \n",
    "        return dp[-1] if dp[-1] != float('inf') else -1"
   ]
  }
 ],
 "metadata": {
  "kernelspec": {
   "display_name": "Python 3",
   "language": "python",
   "name": "python3"
  },
  "language_info": {
   "codemirror_mode": {
    "name": "ipython",
    "version": 3
   },
   "file_extension": ".py",
   "mimetype": "text/x-python",
   "name": "python",
   "nbconvert_exporter": "python",
   "pygments_lexer": "ipython3",
   "version": "3.7.4"
  }
 },
 "nbformat": 4,
 "nbformat_minor": 2
}
