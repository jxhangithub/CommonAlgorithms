{
 "cells": [
  {
   "cell_type": "markdown",
   "metadata": {},
   "source": []
  },
  {
   "cell_type": "code",
   "execution_count": 12,
   "metadata": {},
   "outputs": [
    {
     "name": "stdout",
     "output_type": "stream",
     "text": [
      " dfs: 0, 0, -1\n",
      " dfs: 1, 1, 0\n",
      " dfs: 2, 2, 1\n",
      "smaller: (1, 2), 0, 1, 1, 2,\n",
      " dfs: 3, 2, 1\n",
      "bigger: (1, 3), 2, 1, 1, 3,\n",
      "smaller: (0, 1), 0, 0, 0, 1,\n",
      "[(1, 3)]\n"
     ]
    }
   ],
   "source": [
    "def criticalConnections( n, connections):  # add bigger\n",
    "    graph = [[] for _ in range(n)]\n",
    "    visit_rank = {}\n",
    "    result = []\n",
    "    low_rank = [0]*n\n",
    "    for a, b in connections:\n",
    "        graph[a].append(b)\n",
    "        graph[b].append(a)\n",
    "    \n",
    "    def dfs(node, rank, parent):  # update the low \n",
    "        print(f\" dfs: {node}, {rank}, {parent}\")\n",
    "        visit_rank[node] = rank\n",
    "        low_rank[node] = rank\n",
    "        min_rank = rank + 1\n",
    "        for nb in graph[node]:\n",
    "            if nb == parent:\n",
    "                continue\n",
    "            if nb not in visit_rank:  # nb is first time to visit \n",
    "                dfs(nb, rank+1, node)\n",
    "                low_rank[node] = min(low_rank[node], low_rank[nb])\n",
    "                if low_rank[nb] > rank:  # if nb can not accessed from other nodes, it is critical connection\n",
    "                    result.append((min(nb,node), max(nb,node)))\n",
    "                    print(f\"bigger: {(min(nb,node), max(nb,node))}, {low_rank[nb]}, {rank}, {node}, {nb},\")\n",
    "                else:\n",
    "                    print(f\"smaller: {(min(nb,node), max(nb,node))}, {low_rank[nb]}, {rank}, {node}, {nb},\")\n",
    "            elif nb in visit_rank and nb!=parent:  # nb is visited before, which may give node a smaller rank\n",
    "                low_rank[node] = min(low_rank[node], low_rank[nb])\n",
    "\n",
    "    \n",
    "    dfs(0,0, -1)\n",
    "    return result\n",
    "\n",
    "print(criticalConnections(4, [[0,1],[1,2],[2,0],[1,3]]))\n",
    "\n",
    "\n",
    "#  dfs: 0, 0, -1\n",
    "#  dfs: 1, 1, 0\n",
    "#  dfs: 2, 2, 1\n",
    "# smaller: (1, 2), 0, 1, 1, 2,\n",
    "#  dfs: 3, 2, 1\n",
    "# bigger: (1, 3), 2, 1, 1, 3,\n",
    "# smaller: (0, 1), 0, 0, 0, 1,\n",
    "# [(1, 3)]"
   ]
  },
  {
   "cell_type": "code",
   "execution_count": 10,
   "metadata": {},
   "outputs": [
    {
     "name": "stdout",
     "output_type": "stream",
     "text": [
      " dfs: 0, 0, -1\n",
      " dfs: 1, 1, 0\n",
      " dfs: 2, 2, 1\n",
      "bigger: (1, 2), 3, 1,  1, 2,\n",
      " dfs: 3, 2, 1\n",
      "bigger: (1, 3), 3, 1,  1, 3,\n",
      "bigger: (0, 1), 2, 0,  0, 1,\n",
      "[(0, 1), (0, 2), (1, 2), (1, 3)]\n"
     ]
    }
   ],
   "source": [
    "\n",
    "def criticalConnections( n,connections): # remove smaller\n",
    "    visited_level = {}  \n",
    "    # similar to level in level order traversal there is no update for level, \n",
    "    # just assign at first time as there is no cycle\n",
    "    graph = [[] for _ in range(n)]\n",
    "    edges = set()\n",
    "    # all the edges initially, and remove all the cycle edges during dfs  \n",
    "    for n1, n2 in connections:\n",
    "        graph[n1].append(n2)\n",
    "        graph[n2].append(n1)\n",
    "        edges.add((min(n1,n2), max(n1,n2)))\n",
    "    \n",
    "    def dfs(node, level, parent):\n",
    "        print(f\" dfs: {node}, {level}, {parent}\")\n",
    "        if node in visited_level: # visited before \n",
    "            return visited_level[node]\n",
    "        visited_level[node] = level  # first and only time set it, at first visit \n",
    "        min_level = level + 1 # for next level\n",
    "        for nb in graph[node]:\n",
    "            if nb==parent:\n",
    "                continue                \n",
    "            recursive_level = dfs(nb, level+1, node) # get the mimimum visited level from all connected nodes\n",
    "            # nb can be visited before with a smaller level, which is the minimum value we need\n",
    "            # if no cycle, level+2\n",
    "            if recursive_level <= level:\n",
    "                edges.discard((min(nb,node), max(nb,node)))\n",
    "                print(f\"smaller: {(min(nb,node), max(nb,node))}, {recursive_level}, {level}, {node}, {nb},\")\n",
    "            else:\n",
    "                print(f\"bigger: {(min(nb,node), max(nb,node))}, {recursive_level}, {level},  {node}, {nb},\")\n",
    "            min_level = min(min_level, recursive_level)\n",
    "        return min_level  # is the connected minimum level\n",
    "\n",
    "    dfs(0, 0, -1)\n",
    "    return [e for e in edges]\n",
    "\n",
    "\n",
    "print(criticalConnections(4, [[0,1],[1,2],[2,0],[1,3]]))\n",
    "\n",
    "#  dfs: 0, 0, -1\n",
    "#  dfs: 1, 1, 0\n",
    "#  dfs: 2, 2, 1\n",
    "#  dfs: 0, 3, 2\n",
    "# smaller: (0, 2), 0, 2, 2, 0,\n",
    "# smaller: (1, 2), 0, 1, 1, 2,\n",
    "#  dfs: 3, 2, 1\n",
    "# bigger: (1, 3), 3, 1,  1, 3,\n",
    "# smaller: (0, 1), 0, 0, 0, 1,\n",
    "#  dfs: 2, 1, 0\n",
    "# bigger: (0, 2), 2, 0,  0, 2,\n",
    "# [(1, 3)]"
   ]
  },
  {
   "cell_type": "code",
   "execution_count": null,
   "metadata": {},
   "outputs": [],
   "source": [
    "# 6059. Check if There Is a Valid Parentheses String Path\n",
    "# User Accepted:422\n",
    "# User Tried:962\n",
    "# Total Accepted:502\n",
    "# Total Submissions:1847\n",
    "# Difficulty:Hard\n",
    "# A parentheses string is a non-empty string consisting only of '(' and ')'. It is valid if any of the following conditions is true:\n",
    "\n",
    "# It is ().\n",
    "# It can be written as AB (A concatenated with B), where A and B are valid parentheses strings.\n",
    "# It can be written as (A), where A is a valid parentheses string.\n",
    "# You are given an m x n matrix of parentheses grid. A valid parentheses string path in the grid is a path satisfying all of the following conditions:\n",
    "\n",
    "# The path starts from the upper left cell (0, 0).\n",
    "# The path ends at the bottom-right cell (m - 1, n - 1).\n",
    "# The path only ever moves down or right.\n",
    "# The resulting parentheses string formed by the path is valid.\n",
    "# Return true if there exists a valid parentheses string path in the grid. Otherwise, return false.\n",
    "\n",
    "\n",
    "class Solution:  # time limit exceed\n",
    "    def hasValidPath(self, grid: List[List[str]]) -> bool:\n",
    "        if not grid:\n",
    "            return False\n",
    "        R = len(grid)\n",
    "        C = len(grid[0])\n",
    "        if (R+C-1)%2==1:\n",
    "            return False\n",
    "        total_left = (R+C-1)//2\n",
    "        def dfs(row, col, left):\n",
    "            if row < 0 or row > R-1 or col < 0 or col > C-1:\n",
    "                return False\n",
    "            if row == R-1 and col == C-1:\n",
    "                if (grid[row][col] == ')' and left == 1):\n",
    "                    return True\n",
    "                else:\n",
    "                    return False\n",
    "            if grid[row][col] == '(':\n",
    "                left += 1\n",
    "                if left > total_left:\n",
    "                    return False\n",
    "            else:\n",
    "                left -=1\n",
    "                if left < 0:\n",
    "                    return False\n",
    "            if dfs(row+1, col, left) or dfs(row, col+1, left):\n",
    "                return True\n",
    "        return dfs(0,0,0)"
   ]
  },
  {
   "cell_type": "code",
   "execution_count": null,
   "metadata": {},
   "outputs": [],
   "source": [
    "# 6057. Count Nodes Equal to Average of Subtree\n",
    "# User Accepted:3569\n",
    "# User Tried:3915\n",
    "# Total Accepted:3839\n",
    "# Total Submissions:4617\n",
    "# Difficulty:Medium\n",
    "# Given the root of a binary tree, return the number of nodes where the value of the node is equal to the average of the values in its subtree.\n",
    "\n",
    "# Note:\n",
    "\n",
    "# The average of n elements is the sum of the n elements divided by n and rounded down to the nearest integer.\n",
    "# A subtree of root is a tree consisting of root and all of its descendants.\n",
    "\n",
    "\n",
    "# Definition for a binary tree node.\n",
    "# class TreeNode:\n",
    "#     def __init__(self, val=0, left=None, right=None):\n",
    "#         self.val = val\n",
    "#         self.left = left\n",
    "#         self.right = right\n",
    "class Solution:\n",
    "    def averageOfSubtree(self, root: Optional[TreeNode]) -> int:\n",
    "        def help(root):\n",
    "            if not root:\n",
    "                return 0, 0, 0\n",
    "            left_total, left_nodes, left_result = help(root.left)\n",
    "            right_total, right_nodes, right_result = help(root.right)\n",
    "            total = root.val + left_total + right_total\n",
    "            nodes = left_nodes + right_nodes + 1\n",
    "            average = total // nodes\n",
    "            result = left_result+right_result\n",
    "            result += 1 if average == root.val else 0\n",
    "            return total, nodes, result\n",
    "        return help(root)[2]"
   ]
  },
  {
   "cell_type": "code",
   "execution_count": 34,
   "metadata": {},
   "outputs": [
    {
     "name": "stdout",
     "output_type": "stream",
     "text": [
      "{9: 1, 8: 1, 7: 1, 6: 2, 5: 2, 4: 4, 3: 4, 2: 6, 1: 10, 0: 10}\n",
      "10\n"
     ]
    }
   ],
   "source": [
    "    \"\"\"6058. Count Number of Texts\n",
    "User Accepted:983\n",
    "User Tried:1285\n",
    "Total Accepted:1042\n",
    "Total Submissions:2137\n",
    "Difficulty:Medium\n",
    "Alice is texting Bob using her phone. The mapping of digits to letters is shown in the figure below.\n",
    "\n",
    "\n",
    "In order to add a letter, Alice has to press the key of the corresponding digit i times, where i is the position of the letter in the key.\n",
    "\n",
    "For example, to add the letter 's', Alice has to press '7' four times. Similarly, to add the letter 'k', Alice has to press '5' twice.\n",
    "Note that the digits '0' and '1' do not map to any letters, so Alice does not use them.\n",
    "However, due to an error in transmission, Bob did not receive Alice's text message but received a string of pressed keys instead.\n",
    "\n",
    "For example, when Alice sent the message \"bob\", Bob received the string \"2266622\".\n",
    "Given a string pressedKeys representing the string received by Bob, return the total number of possible text messages Alice could have sent.\n",
    "\n",
    "Since the answer may be very large, return it modulo 109 + 7.\n",
    "\n",
    "    Returns:\n",
    "        _type_: _description_\n",
    "    \"\"\"\n",
    "\n",
    "class Solution:\n",
    "    def countTexts(self, pressedKeys: str) -> int:\n",
    "        # 2 - 6 8 -> 123\n",
    "        # 7 9 -> 1234\n",
    "        three = \"234568\"\n",
    "        four = \"79\"\n",
    "        L = len(pressedKeys)\n",
    "        def dfs(idx):\n",
    "            if idx in memo:\n",
    "                return memo[idx]\n",
    "            res = 0\n",
    "            ran = 3 if pressedKeys[idx] in three else (4 if pressedKeys[idx] in four else 0)\n",
    "            for i in range(idx, min(L, idx+ran)):\n",
    "                if pressedKeys[i] == pressedKeys[idx]:\n",
    "                    res += dfs(i+1) % (10**9+7)\n",
    "                    res %= (10**9+7)\n",
    "                else:\n",
    "                    break\n",
    "            memo[idx] = res\n",
    "            return res\n",
    "            \n",
    "        memo = {len(pressedKeys):1}\n",
    "        res = dfs(0)\n",
    "        print(memo)\n",
    "        return res\n",
    "    \n",
    "print(Solution().countTexts(\"344644885\"))\n",
    "# Output:\n",
    "# 10\n",
    "# Expected:\n",
    "# 8\n",
    "\n",
    "# 344644885\n",
    "# 012345678\n",
    "# {9: 1, \n",
    "#  8: 1, \n",
    "#  7: 1, \n",
    "#  6: 2, \n",
    "#  5: 2, \n",
    "#  4: 4, \n",
    "#  3: 4, \n",
    "#  2: 6, \n",
    "#  1: 10, \n",
    "#  0: 10}\n",
    "# 10\n",
    "                "
   ]
  },
  {
   "cell_type": "code",
   "execution_count": 31,
   "metadata": {},
   "outputs": [
    {
     "name": "stdout",
     "output_type": "stream",
     "text": [
      "777\n"
     ]
    }
   ],
   "source": [
    "    \"\"\"6056. Largest 3-Same-Digit Number in String\n",
    "User Accepted:5853\n",
    "User Tried:6395\n",
    "Total Accepted:6588\n",
    "Total Submissions:11491\n",
    "Difficulty:Easy\n",
    "You are given a string num representing a large integer. An integer is good if it meets the following conditions:\n",
    "\n",
    "It is a substring of num with length 3.\n",
    "It consists of only one unique digit.\n",
    "Return the maximum good integer as a string or an empty string \"\" if no such integer exists.\n",
    "\n",
    "Note:\n",
    "\n",
    "A substring is a contiguous sequence of characters within a string.\n",
    "There may be leading zeroes in num or a good integer.\n",
    "\n",
    "    Returns:\n",
    "        _type_: _description_\n",
    "    \"\"\"\n",
    "\n",
    "\n",
    "class Solution:\n",
    "    def largestGoodInteger(self, num: str) -> str:\n",
    "        if not num:\n",
    "            return \"\"\n",
    "        L = len(num)\n",
    "        if L < 3:\n",
    "            return \"\"\n",
    "        res = -1\n",
    "        for i in range(2, L):\n",
    "            if num[i] == num[i-1] == num[i-2] and num[i] in '0123456789':\n",
    "                res = max(res, ord(num[i]) - ord('0'))\n",
    "        return str(res)*3 if res!=-1 else \"\"\n",
    "    \n",
    "print(Solution().largestGoodInteger('12333456777'))"
   ]
  },
  {
   "cell_type": "code",
   "execution_count": 25,
   "metadata": {},
   "outputs": [
    {
     "name": "stdout",
     "output_type": "stream",
     "text": [
      "TD  Total: 002\tExtend by two: 001\t004\tg\n",
      "TD  Total: 004\tExtend by two: 000\t005\tr\n",
      "0 1  0\n",
      "BU  Total: 002\tExtend by two: 001\t002\tg\n",
      "0 2  0\n",
      "0 2 g 2\n",
      "BU  Total: 002\tExtend by two: 002\t003\tg\n",
      "BU  Total: 002\tExtend by two: 001\t003\tg\n",
      "0 3  0\n",
      "0 3 g 2\n",
      "BU  Total: 002\tExtend by two: 003\t004\tg\n",
      "BU  Total: 002\tExtend by two: 002\t004\tg\n",
      "BU  Total: 002\tExtend by two: 001\t004\tg\n",
      "0 4  0\n",
      "0 4 g 2\n",
      "4 5  0\n",
      "3 5  0\n",
      "3 5 g 2\n",
      "2 5  0\n",
      "2 5 g 2\n",
      "1 5  0\n",
      "1 5 g 2\n",
      "BU  Total: 004\tExtend by two: 000\t005\tr\n",
      "BU  Total: 004\tExtend by two: 000\t005\tr\n",
      "defaultdict(<function Solution2.longestPalindromeSubseq.<locals>.<lambda> at 0x104a97310>, {(0, 0): defaultdict(<class 'int'>, {'': 0}), (1, 1): defaultdict(<class 'int'>, {'': 0}), (0, 1): defaultdict(<class 'int'>, {'': 0, 'g': 0}), (2, 2): defaultdict(<class 'int'>, {'': 0}), (1, 2): defaultdict(<class 'int'>, {'g': 2, '': 0}), (0, 2): defaultdict(<class 'int'>, {'': 0, 'g': 2}), (3, 3): defaultdict(<class 'int'>, {'': 0}), (2, 3): defaultdict(<class 'int'>, {'g': 2}), (1, 3): defaultdict(<class 'int'>, {'g': 2, '': 0}), (0, 3): defaultdict(<class 'int'>, {'': 0, 'g': 2}), (4, 4): defaultdict(<class 'int'>, {'': 0}), (3, 4): defaultdict(<class 'int'>, {'g': 2, '': 0}), (2, 4): defaultdict(<class 'int'>, {'g': 2, '': 0}), (1, 4): defaultdict(<class 'int'>, {'g': 2, '': 0}), (0, 4): defaultdict(<class 'int'>, {'': 0, 'g': 2}), (5, 5): defaultdict(<class 'int'>, {'': 0}), (4, 5): defaultdict(<class 'int'>, {'': 0, 'g': 0}), (3, 5): defaultdict(<class 'int'>, {'': 0, 'g': 2}), (2, 5): defaultdict(<class 'int'>, {'': 0, 'g': 2}), (1, 5): defaultdict(<class 'int'>, {'': 0, 'g': 2}), (0, 5): defaultdict(<class 'int'>, {'r': 4})})\n"
     ]
    },
    {
     "data": {
      "text/plain": [
       "4"
      ]
     },
     "execution_count": 25,
     "metadata": {},
     "output_type": "execute_result"
    }
   ],
   "source": [
    "import collections\n",
    "class Solution:\n",
    "    def longestPalindromeSubseq(self, s: str) -> int:\n",
    "        # top down approach: prev is out side of [i,j], <= i and/or >= j\n",
    "        def dp(i, j, prev):\n",
    "            ## dfs(i, j, prev) is the subproblem from i to j with prev char\n",
    "            if (i, j, prev) in memo:\n",
    "                return memo[i, j, prev]\n",
    "            \n",
    "            # return 0 for singlet string \n",
    "            if i >= j:  # i==j is odd length of palindromic string\n",
    "                return 0\n",
    "            \n",
    "            # specify the condition\n",
    "            if s[i] == s[j] and s[i] != prev:\n",
    "                memo[i, j, prev] = 2 + dp(i + 1, j - 1, s[i])\n",
    "                print(f\"TD  Total: {memo[i, j, prev]:03d}\\tExtend by two: {i:03d}\\t{j:03d}\\t{s[i]}\")\n",
    "            else:\n",
    "                memo[i, j, prev] = max(dp(i + 1, j, prev), dp(i, j - 1, prev))\n",
    "                \n",
    "            return memo[i, j, prev]\n",
    "        memo = {}\n",
    "        res = dp(0, len(s) - 1, '')\n",
    "        # print(memo)\n",
    "        return res\n",
    "    \n",
    "class Solution2:\n",
    "    def longestPalindromeSubseq(self, s: str) -> int:\n",
    "        if not s:\n",
    "            return 0\n",
    "        L = len(s)\n",
    "        dp = collections.defaultdict(lambda: collections.defaultdict(int))\n",
    "        for j in range(L): # j++\n",
    "            for i in range(j, -1, -1): # i--, i<j\n",
    "                if i==j:\n",
    "                    dp[i,j][''] = 0\n",
    "                elif s[i] == s[j]:\n",
    "                    if j-i==1:\n",
    "                        dp[i,j][s[i]] = 2\n",
    "                        # print(f\"BU  Total: {dp[i,j][s[i]]:03d}\\tExtend by two: {i:03d}\\t{j:03d}\\t{s[i]}\")\n",
    "                    else: # j-i>=2\n",
    "                        for pre in dp[i+1, j-1]:\n",
    "                            if pre == s[i]:\n",
    "                                dp[i,j][s[i]] = max(dp[i,j][s[i]],dp[i+1,j-1][pre])\n",
    "                            else:\n",
    "                                dp[i,j][s[i]] = max(dp[i,j][s[i]],dp[i+1,j-1][pre]+2)\n",
    "                            # print(f\"BU  Total: {dp[i,j][s[i]]:03d}\\tExtend by two: {i:03d}\\t{j:03d}\\t{s[i]}\")\n",
    "                else:\n",
    "                    for pre in set(dp[i+1,j].keys()) | set(dp[i,j-1].keys()):\n",
    "                        \n",
    "                        dp[i,j][pre] = max(dp[i,j][pre],dp[i+1,j][pre], dp[i,j-1][pre])\n",
    "                        # print(i,j,pre,dp[i,j][pre])\n",
    "        # print(dp)\n",
    "        return max(dp[0,L-1].values())\n",
    "\n",
    "solution = Solution()\n",
    "s=\"rggggr\"\n",
    "s1=\"wvtjiwbftzchwsnxkqtuykvunmsddpnnbortmenayrgglcmvieqvybuibkikhwlveafjscdyzhopflyhzxtbwqiahgptmhbiimksazuulkcahmgzauuyggrhpnfwmwgblcwpanceziqrbxokjmtijpaluqcgelg\"\n",
    "solution.longestPalindromeSubseq(s)\n",
    "\n",
    "solution2 = Solution2()\n",
    "solution2.longestPalindromeSubseq(s)\n"
   ]
  },
  {
   "cell_type": "code",
   "execution_count": null,
   "metadata": {},
   "outputs": [],
   "source": [
    "def unboundedBackpack(wt, V, m):\n",
    "    \n",
    "    f = [0] * (m + 1)\n",
    "    for j in range(m + 1): # quota\n",
    "        for i in range(len(wt)):  # items (unlimited)  \n",
    "            if j >= wt[i]:\n",
    "                f[j] = max(f[j], f[j - wt[i]] + V[i])\n",
    "            # print(f)\n",
    "    print(f)         \n",
    "    return f[-1]\n",
    "\n",
    "def unboundedBackpack2(wt, V, m):\n",
    "    \n",
    "    f = [0] * (m + 1)\n",
    "    for i in range(len(wt)):  # items (unlimited) \n",
    "        for j in range(m + 1): # quota\n",
    "            if j >= wt[i]:\n",
    "                f[j] = max(f[j], f[j - wt[i]] + V[i])\n",
    "            # print(f)\n",
    "    print(f)         \n",
    "    return f[-1]\n",
    "W = 10\n",
    "val = [1, 3, 2] \n",
    "wt = [1, 8, 3] \n",
    "print(unboundedBackpack(wt,val,W))\n",
    "print(unboundedBackpack2(wt,val,W))"
   ]
  },
  {
   "cell_type": "code",
   "execution_count": 8,
   "metadata": {},
   "outputs": [
    {
     "name": "stdout",
     "output_type": "stream",
     "text": [
      "[2, 12]\n"
     ]
    }
   ],
   "source": [
    "a = list((12,2))\n",
    "a.sort()\n",
    "print(a)"
   ]
  },
  {
   "cell_type": "code",
   "execution_count": 65,
   "metadata": {},
   "outputs": [
    {
     "name": "stdout",
     "output_type": "stream",
     "text": [
      "[['12', '3'], ['1', '23'], ['1', '2', '3']]\n"
     ]
    }
   ],
   "source": [
    "def splitString(s):\n",
    "        # write your code here\n",
    "        stack = []\n",
    "        stack.append((0,list()))\n",
    "        res = []\n",
    "        if not s or not len(s):\n",
    "            return res\n",
    "        while stack:\n",
    "            idx, path = stack.pop()\n",
    "            if idx == len(s):\n",
    "                res.append(path[:])\n",
    "            elif idx < len(s):\n",
    "                path1 = list(path)\n",
    "                path1.append(s[idx:idx+1])\n",
    "                stack.append((idx+1, path1))\n",
    "                if idx < len(s) - 1:\n",
    "                    path2 = list(path)\n",
    "                    path2.append(s[idx:idx+2])\n",
    "                    stack.append((idx+2, path2))\n",
    "        return res\n",
    "print(splitString(\"123\"))"
   ]
  },
  {
   "cell_type": "code",
   "execution_count": 22,
   "metadata": {},
   "outputs": [
    {
     "name": "stdout",
     "output_type": "stream",
     "text": [
      "one=0, two=0, i=0, one=0, two=0\n",
      "one=0, two=1, i=0, one=0, two=1\n",
      "one=1, two=0, i=0, one=1, two=0\n",
      "one=1, two=1, i=0, one=0, two=1\n",
      "one=0, two=0, i=1, one=1, two=0\n",
      "one=1, two=1, i=1, one=0, two=0\n",
      "one=1, two=0, i=1, one=0, two=1\n",
      "one=0, two=1, i=1, one=0, two=0\n"
     ]
    }
   ],
   "source": [
    "for i in 0,1:\n",
    "    for one in 0,1:\n",
    "        for two in 0,1:\n",
    "            preone = one\n",
    "            pretwo = two\n",
    "            one = (one ^ i) & (~two)\n",
    "            two = (two ^ i) & (~one)\n",
    "            print(f\"one={preone}, two={pretwo}, i={i}, one={one}, two={two}\")\n"
   ]
  },
  {
   "cell_type": "code",
   "execution_count": 20,
   "metadata": {},
   "outputs": [
    {
     "name": "stdout",
     "output_type": "stream",
     "text": [
      "1\n"
     ]
    }
   ],
   "source": [
    "print(f\"{(1<<0):0b}\")"
   ]
  },
  {
   "cell_type": "code",
   "execution_count": 15,
   "metadata": {},
   "outputs": [
    {
     "name": "stdout",
     "output_type": "stream",
     "text": [
      "-101\n",
      "1\n",
      "0\n",
      "-1010\n",
      "-1010\n",
      "1101\n",
      "1110\n"
     ]
    },
    {
     "data": {
      "text/plain": [
       "False"
      ]
     },
     "execution_count": 15,
     "metadata": {},
     "output_type": "execute_result"
    }
   ],
   "source": [
    "def hasAlternatingBits(n: int) -> bool:\n",
    "        print(f\"{n:0b}\")\n",
    "        right_first_bit = (1 & n)\n",
    "        print(f\"{right_first_bit:0b}\")\n",
    "        flip = right_first_bit ^ 1 # flip only first bit from right\n",
    "        print(f\"{flip:0b}\")\n",
    "        left_shift = n << 1 # left shift, the last bit is 0 (cleared)\n",
    "        print(f\"{left_shift:0b}\")\n",
    "        set_last_bit = left_shift | flip # flip of the original last bit\n",
    "        print(f\"{set_last_bit:0b}\")\n",
    "        print(f\"{set_last_bit ^ n:0b}\")\n",
    "        print(f\"{(set_last_bit ^ n) +1:0b}\")\n",
    "        power2 = (set_last_bit ^ n) + 1\n",
    "        return power2 & (power2 -1) == 0 # all bits are different \n",
    "\n",
    "hasAlternatingBits(-5)"
   ]
  },
  {
   "cell_type": "code",
   "execution_count": 7,
   "metadata": {},
   "outputs": [
    {
     "name": "stdout",
     "output_type": "stream",
     "text": [
      "1\n",
      "3\n",
      "0\n",
      "2\n"
     ]
    }
   ],
   "source": [
    "for ch in 'ACTG':\n",
    "    print((ord(ch) - ord('A') +1)%5)"
   ]
  },
  {
   "cell_type": "code",
   "execution_count": 17,
   "metadata": {},
   "outputs": [
    {
     "name": "stdout",
     "output_type": "stream",
     "text": [
      "2\n"
     ]
    }
   ],
   "source": [
    "for i in range(2,3):\n",
    "    print(i)"
   ]
  },
  {
   "cell_type": "code",
   "execution_count": 15,
   "metadata": {},
   "outputs": [
    {
     "name": "stdout",
     "output_type": "stream",
     "text": [
      "-5 5\n",
      "5 -5\n",
      "-5 5\n"
     ]
    }
   ],
   "source": [
    "def gcd(a, b):\n",
    "        \n",
    "        if b == 0:\n",
    "            return a\n",
    "        return gcd(b, a % b)\n",
    "print(gcd(-15, -10), gcd(15,10))\n",
    "print(gcd(-15, 10), gcd(15,-10))\n",
    "print(gcd(10, -15), gcd(-10,15))"
   ]
  },
  {
   "cell_type": "code",
   "execution_count": 12,
   "metadata": {},
   "outputs": [
    {
     "name": "stdout",
     "output_type": "stream",
     "text": [
      "3 -3\n"
     ]
    }
   ],
   "source": [
    "print(15 // 5, -15 // 5)"
   ]
  },
  {
   "cell_type": "code",
   "execution_count": 9,
   "metadata": {},
   "outputs": [],
   "source": [
    "import collections\n",
    "visited = collections.defaultdict(lambda: collections.defaultdict(int))"
   ]
  }
 ],
 "metadata": {
  "interpreter": {
   "hash": "31f2aee4e71d21fbe5cf8b01ff0e069b9275f58929596ceb00d14d90e3e16cd6"
  },
  "kernelspec": {
   "display_name": "Python 3.8.9 64-bit",
   "language": "python",
   "name": "python3"
  },
  "language_info": {
   "codemirror_mode": {
    "name": "ipython",
    "version": 3
   },
   "file_extension": ".py",
   "mimetype": "text/x-python",
   "name": "python",
   "nbconvert_exporter": "python",
   "pygments_lexer": "ipython3",
   "version": "3.8.9"
  },
  "orig_nbformat": 4
 },
 "nbformat": 4,
 "nbformat_minor": 2
}
