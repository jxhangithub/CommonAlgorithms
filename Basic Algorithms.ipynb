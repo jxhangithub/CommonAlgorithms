{
 "cells": [
  {
   "cell_type": "code",
   "execution_count": null,
   "metadata": {},
   "outputs": [],
   "source": [
    "# partition algorithm\n",
    "\"\"\"\n",
    "Given an array nums of integers and an int k, partition the array (i.e move the elements in \"nums\") such that:\n",
    "\n",
    "All elements < k are moved to the left\n",
    "All elements >= k are moved to the right\n",
    "Return the partitioning index, i.e the first index i nums[i] >= k.\n",
    "https://www.lintcode.com/problem/partition-array/description\n",
    "\"\"\"\n",
    "\n",
    "def partitionArray(self, nums, k):\n",
    "    # write your code here\n",
    "    start, end = 0, len(nums) - 1\n",
    "\n",
    "    while start <= end:\n",
    "\n",
    "        while start <= end and nums[start] < k:\n",
    "            start += 1\n",
    "        while start <= end and nums[end] >= k:\n",
    "            end -= 1\n",
    "\n",
    "        if start <= end: # this is critical only when start <= end, we have nums[end] < k and nums[start] >=0; if start > end, we will not have this\n",
    "            nums[start], nums[end] = nums[end], nums[start]\n",
    "            start += 1\n",
    "            end -= 1\n",
    "    # if all numbers >= k, then start = 0, end = -1\n",
    "    # if all numbers <k, then start = len(numbers), end = len(number) - 1\n",
    "    \n",
    "    return start"
   ]
  },
  {
   "cell_type": "code",
   "execution_count": null,
   "metadata": {},
   "outputs": [],
   "source": []
  },
  {
   "cell_type": "code",
   "execution_count": null,
   "metadata": {},
   "outputs": [],
   "source": [
    "\"\"\"\n",
    "quick sort\n",
    "\"\"\"\n",
    "    def sortIntegers2(self, A):\n",
    "        # write your code here\n",
    "        self.quickSort(A, 0, len(A) - 1)\n",
    "        \n",
    "    def quickSort(self, A, start, end):\n",
    "        \n",
    "        if start >= end:\n",
    "            return\n",
    "        \n",
    "        left, right = start, end\n",
    "        \n",
    "        pivot = A[(start + end) // 2]\n",
    "        \n",
    "        while left <= right:\n",
    "            # note that for A[left] < pivot, we can also use A[left] <= pivot. \n",
    "            # but use = can lead to unbalance partition. For example, consider all numbers in A are equal.\n",
    "            # when left or right hid pivot, it will stop and wait for the other to echange\n",
    "            # finally, the location of pivot is unclear\n",
    "            while left <= right and A[left] < pivot:\n",
    "                left += 1\n",
    "            while left <= right and A[right] > pivot:\n",
    "                right -= 1\n",
    "            \n",
    "            if left <= right:\n",
    "                A[left], A[right] = A[right], A[left]\n",
    "                left += 1\n",
    "                right -= 1\n",
    "        # finally, all numbers \n",
    "        \n",
    "        self.quickSort(A, start, right)\n",
    "        self.quickSort(A, left, end)"
   ]
  },
  {
   "cell_type": "code",
   "execution_count": null,
   "metadata": {},
   "outputs": [],
   "source": [
    "# sort three colors\n",
    "\n",
    "def sortColors(a):\n",
    "    if not a:\n",
    "        return\n",
    "    \n",
    "    pl, pr = 0, len(a)-1\n",
    "    i = 0\n",
    "    while i <= pr:\n",
    "        if a[i] == 0:\n",
    "            a[pl], a[i] = a[i], a[pl]\n",
    "            pl += 1\n",
    "            i += 1\n",
    "        elif a[i] == 1:\n",
    "            i += 1\n",
    "        else:\n",
    "            a[pr], a[i] = a[i], a[pr]\n",
    "            pr -= 1\n",
    "pl 和 pr 是传统的双指针，分别代表 0~pl-1 都已经是 0 了，pr+1~a.length - 1 都已经是 2 了。\n",
    "另一个角度说就是，如果你发现了一个 0 ，就可以和 pl 上的数交换，pl 就可以 ++；如果你发现了一个 2 就可以和 pr 上的数交换 pr 就可以 --。\n",
    "\n",
    "这样，我们用第三根指针 i 来循环整个数组。如果发现 0，就丢到左边（和 pl 交换，pl++），如果发现 2，就丢到右边（和 pr 交换，pr--），如果发现 1，就不管（i++）\n",
    "\n",
    "这就是三根指针的算法，两根指针在两边，一根指针扫描所有的数。\n",
    "\n",
    "这里有一个实现上的小细节，当发现一个 0 丢到左边的时候，i需要++，但是发现一个2 丢到右边的时候，i不用++。原因是，从pr 换过来的数有可能是0, 1或者2，需要继续判断丢到左边还是右边。而从 pl 换过来的数，要么是0要么是1，不需要再往右边丢了。因此这里 i 指针还有一个角度可以理解为，i指针的左侧，都是0和1。"
   ]
  },
  {
   "cell_type": "markdown",
   "metadata": {},
   "source": [
    "## HashTable"
   ]
  },
  {
   "cell_type": "code",
   "execution_count": null,
   "metadata": {},
   "outputs": [],
   "source": []
  },
  {
   "cell_type": "markdown",
   "metadata": {},
   "source": [
    "## Merge arrays"
   ]
  },
  {
   "cell_type": "code",
   "execution_count": null,
   "metadata": {},
   "outputs": [],
   "source": [
    "## merge two sorted arrays and produce a new one\n",
    "class Solution:\n",
    "    \"\"\"\n",
    "    @param A: sorted integer array A\n",
    "    @param B: sorted integer array B\n",
    "    @return: A new sorted integer array\n",
    "    \"\"\"\n",
    "    def mergeSortedArray(self, A, B):\n",
    "        # write your code here\n",
    "        res = []\n",
    "        first = 0\n",
    "        second = 0\n",
    "        while first < len(A) and second < len(B):\n",
    "            if A[first] <= B[second]:\n",
    "                res.append(A[first])\n",
    "                first += 1\n",
    "            else:\n",
    "                res.append(B[second])\n",
    "                second += 1\n",
    "        \n",
    "        while first < len(A):\n",
    "            res.append(A[first])\n",
    "            first += 1\n",
    "            \n",
    "        while second < len(B):\n",
    "            res.append(B[second])\n",
    "            second += 1\n",
    "            \n",
    "        return res\n",
    "    \n"
   ]
  }
 ],
 "metadata": {
  "kernelspec": {
   "display_name": "Python 3",
   "language": "python",
   "name": "python3"
  },
  "language_info": {
   "codemirror_mode": {
    "name": "ipython",
    "version": 3
   },
   "file_extension": ".py",
   "mimetype": "text/x-python",
   "name": "python",
   "nbconvert_exporter": "python",
   "pygments_lexer": "ipython3",
   "version": "3.7.4"
  }
 },
 "nbformat": 4,
 "nbformat_minor": 2
}
