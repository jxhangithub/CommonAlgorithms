{
 "cells": [
  {
   "cell_type": "markdown",
   "metadata": {},
   "source": [
    "check if one number if it is fibonaci number"
   ]
  },
  {
   "cell_type": "code",
   "execution_count": 3,
   "metadata": {},
   "outputs": [
    {
     "name": "stdout",
     "output_type": "stream",
     "text": [
      "True\n",
      "322.0\n",
      "True\n"
     ]
    }
   ],
   "source": [
    "import math\n",
    "class Fibonacci:\n",
    "    def check(self, number: int) -> bool:\n",
    "        if number == 0 or number == 1:\n",
    "            return True\n",
    "        f0 = 0\n",
    "        f1 = 1\n",
    "        while True:\n",
    "            f2 = f0+f1\n",
    "            if f2 == number:\n",
    "                return True\n",
    "            if f2 > number:\n",
    "                return False\n",
    "            f0, f1 = f1, f2\n",
    "        # log N \n",
    "        # n(F) ~ logx1(F*sqrt(5))\n",
    "        # more details: https://docs.google.com/document/d/1leUykAveB13dLkb49xWQfR6sdy3E8mMYqEdXQF_bjcU/edit\n",
    "\n",
    "\n",
    "        # 1,1,2,3,5,8,13,21\n",
    "        # 1,2,4,8,16\n",
    "        # grows less than 2**N\n",
    "        # so log base is less than 2\n",
    "\n",
    "\n",
    "        # python has infinite precision\n",
    "        # In Python, the size of integers is limited only by the available memory on the system, \n",
    "        # unlike some other programming languages that have a fixed size for integers.\n",
    "        # Python uses a variable-length integer representation, \n",
    "        # which means that the size of an integer can grow dynamically as needed, \n",
    "        # up to the limits of the available memory. \n",
    "        # This is often referred to as \"arbitrary-precision\" or \"unlimited-precision\" integers.\n",
    "        # The maximum size of an integer in Python is determined by the available memory \n",
    "        # on the system and the limitations of the underlying hardware and operating system. \n",
    "        # In practice, the actual limit is extremely large and can be considered effectively unlimited \n",
    "        # for most practical purposes.\n",
    "\n",
    "    def check2(self, number: int) -> bool:\n",
    "        if number == 0 or number == 1:\n",
    "            return True\n",
    "        def square(n: int) -> bool:\n",
    "            s = math.sqrt(n)\n",
    "            print(s)\n",
    "            return s.is_integer()\n",
    "        return square(5*number**2 +4) or square(5*number**2-4)\n",
    "    \n",
    "\n",
    "F = Fibonacci()\n",
    "print(F.check(144))\n",
    "print(F.check2(144))\n",
    "\n",
    "# True\n",
    "# 322.0\n",
    "# True\n"
   ]
  },
  {
   "cell_type": "markdown",
   "metadata": {},
   "source": [
    "704. Binary Search\n",
    "\n",
    "Given an array of integers nums which is sorted in ascending order, and an integer target, write a function to search target in nums. If target exists, then return its index. Otherwise, return -1.\n",
    "\n",
    "You must write an algorithm with O(log n) runtime complexity."
   ]
  },
  {
   "cell_type": "code",
   "execution_count": null,
   "metadata": {},
   "outputs": [],
   "source": [
    "class Solution:\n",
    "    def search(self, nums: List[int], target: int) -> int:\n",
    "        left, right = 0, len(nums)-1\n",
    "        while left + 1 < right:\n",
    "            mid = left + (right-left) // 2\n",
    "            tmp = nums[mid]\n",
    "            if tmp == target:\n",
    "                return mid\n",
    "            elif tmp > target:\n",
    "                right = mid -1\n",
    "            elif tmp < target:\n",
    "                left = mid +1\n",
    "        if nums[left] == target:\n",
    "            return left\n",
    "        elif nums[right] == target:\n",
    "            return right\n",
    "        return -1"
   ]
  },
  {
   "cell_type": "markdown",
   "metadata": {},
   "source": [
    "102. Binary Tree Level Order Traversal\n",
    "\n",
    "Given the root of a binary tree, return the level order traversal of its nodes' values. (i.e., from left to right, level by level)."
   ]
  },
  {
   "cell_type": "code",
   "execution_count": null,
   "metadata": {},
   "outputs": [],
   "source": [
    "# Definition for a binary tree node.\n",
    "# class TreeNode:\n",
    "#     def __init__(self, val=0, left=None, right=None):\n",
    "#         self.val = val\n",
    "#         self.left = left\n",
    "#         self.right = right\n",
    "class Solution:\n",
    "    def levelOrder(self, root: Optional[TreeNode]) -> List[List[int]]:\n",
    "        if not root:\n",
    "            return []\n",
    "        res = []\n",
    "        q = [root]\n",
    "        while q:\n",
    "            newQ = []\n",
    "            level = []\n",
    "            for n in q:\n",
    "                level.append(n.val)\n",
    "                for i in n.left, n.right:\n",
    "                    if i:\n",
    "                        newQ.append(i)\n",
    "            q = newQ\n",
    "            res.append(level)\n",
    "        return res\n"
   ]
  },
  {
   "cell_type": "markdown",
   "metadata": {},
   "source": [
    "20. Valid Parentheses\n",
    "\n",
    "Given a string s containing just the characters '(', ')', '{', '}', '[' and ']', determine if the input string is valid.\n",
    "\n",
    "An input string is valid if:\n",
    "\n",
    "Open brackets must be closed by the same type of brackets.\n",
    "Open brackets must be closed in the correct order.\n",
    "Every close bracket has a corresponding open bracket of the same type."
   ]
  },
  {
   "cell_type": "code",
   "execution_count": null,
   "metadata": {},
   "outputs": [],
   "source": [
    "class Solution:\n",
    "    def isValid(self, s: str) -> bool:\n",
    "        if not s:\n",
    "            return True\n",
    "        left = '([{'\n",
    "        right = \")]}\"\n",
    "        r2l = {}\n",
    "        for l, r in zip(left, right):\n",
    "            r2l[r] = l\n",
    "        stack = []\n",
    "        for c in s:\n",
    "            if c in left:\n",
    "                stack.append(c)\n",
    "            elif c in right:\n",
    "                if stack and stack[-1] == r2l[c]:\n",
    "                    stack.pop()\n",
    "                else:\n",
    "                    return False\n",
    "        return not stack\n"
   ]
  }
 ],
 "metadata": {
  "kernelspec": {
   "display_name": "Python 3",
   "language": "python",
   "name": "python3"
  },
  "language_info": {
   "codemirror_mode": {
    "name": "ipython",
    "version": 3
   },
   "file_extension": ".py",
   "mimetype": "text/x-python",
   "name": "python",
   "nbconvert_exporter": "python",
   "pygments_lexer": "ipython3",
   "version": "3.9.6"
  }
 },
 "nbformat": 4,
 "nbformat_minor": 2
}
