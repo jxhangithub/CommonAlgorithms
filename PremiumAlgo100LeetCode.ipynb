{
 "cells": [
  {
   "cell_type": "markdown",
   "metadata": {},
   "source": [
    "624. Maximum Distance in Arrays\n",
    "\n",
    "You are given m arrays, where each array is sorted in ascending order.\n",
    "\n",
    "You can pick up two integers from two different arrays (each array picks one) and calculate the distance. We define the distance between two integers a and b to be their absolute difference |a - b|.\n",
    "\n",
    "Return the maximum distance."
   ]
  },
  {
   "cell_type": "code",
   "execution_count": null,
   "metadata": {},
   "outputs": [],
   "source": [
    "class Solution:\n",
    "    def maxDistance(self, arrays: List[List[int]]) -> int:\n",
    "        if not arrays:\n",
    "            return 0\n",
    "        small = None\n",
    "        big = None\n",
    "        res = 0\n",
    "        for array in arrays:\n",
    "            if not array:\n",
    "                continue\n",
    "            if small is not None:\n",
    "                res = max(res, abs(big - array[0]))\n",
    "                res = max(res, abs(array[-1]-small))\n",
    "                small = min(array[0], small)\n",
    "                big = max(array[-1], big)\n",
    "            else:\n",
    "                small = array[0]\n",
    "                big = array[-1]\n",
    "        return res\n",
    "        "
   ]
  },
  {
   "cell_type": "markdown",
   "metadata": {},
   "source": [
    "280. Wiggle Sort\n",
    "\n",
    "Given an integer array nums, reorder it such that nums[0] <= nums[1] >= nums[2] <= nums[3]....\n",
    "\n",
    "You may assume the input array always has a valid answer."
   ]
  },
  {
   "cell_type": "code",
   "execution_count": null,
   "metadata": {},
   "outputs": [],
   "source": [
    "class Solution:\n",
    "    def wiggleSort(self, nums: List[int]) -> None:\n",
    "        \"\"\"\n",
    "        Do not return anything, modify nums in-place instead.\n",
    "        \"\"\"\n",
    "        if not nums or len(nums) < 2:\n",
    "            return\n",
    "        for i in range(1, len(nums)):\n",
    "            # nums[0] <= nums[1] >= nums[2]\n",
    "            if (i%2 == 1 and nums[i-1] > nums[i]) or (i%2 == 0 and nums[i-1] < nums[i]):\n",
    "                nums[i-1], nums[i] = nums[i], nums[i-1]\n",
    "        \n"
   ]
  },
  {
   "cell_type": "markdown",
   "metadata": {},
   "source": [
    "1056. Confusing Number\n",
    "\n",
    "A confusing number is a number that when rotated 180 degrees becomes a different number with each digit valid.\n",
    "\n",
    "We can rotate digits of a number by 180 degrees to form new digits.\n",
    "\n",
    "When 0, 1, 6, 8, and 9 are rotated 180 degrees, they become 0, 1, 9, 8, and 6 respectively.\n",
    "When 2, 3, 4, 5, and 7 are rotated 180 degrees, they become invalid.\n",
    "Note that after rotating a number, we can ignore leading zeros.\n",
    "\n",
    "For example, after rotating 8000, we have 0008 which is considered as just 8.\n",
    "Given an integer n, return true if it is a confusing number, or false otherwise."
   ]
  },
  {
   "cell_type": "code",
   "execution_count": 1,
   "metadata": {},
   "outputs": [
    {
     "name": "stdout",
     "output_type": "stream",
     "text": [
      "['6', '1', '9']\n"
     ]
    },
    {
     "data": {
      "text/plain": [
       "True"
      ]
     },
     "execution_count": 1,
     "metadata": {},
     "output_type": "execute_result"
    }
   ],
   "source": [
    "class Solution:\n",
    "    def confusingNumber(self, n: int) -> bool:\n",
    "        invalid = '23457'\n",
    "        valid = '01689'\n",
    "        rotateValid = '01986'\n",
    "        v2r = dict(zip(valid, rotateValid))\n",
    "        rotate = []\n",
    "        for i in str(n):\n",
    "            if i in invalid:\n",
    "                return False\n",
    "            rotate.append(v2r[i])\n",
    "        print(rotate)\n",
    "        return n != int(''.join(reversed(rotate)))\n",
    "    \n",
    "# s = Solution()\n",
    "# s.confusingNumber(916)"
   ]
  },
  {
   "cell_type": "markdown",
   "metadata": {},
   "source": [
    "1427. Perform String Shifts\n",
    "\n",
    "You are given a string s containing lowercase English letters, and a matrix shift, where shift[i] = [directioni, amounti]:\n",
    "\n",
    "directioni can be 0 (for left shift) or 1 (for right shift).\n",
    "amounti is the amount by which string s is to be shifted.\n",
    "A left shift by 1 means remove the first character of s and append it to the end.\n",
    "Similarly, a right shift by 1 means remove the last character of s and add it to the beginning.\n",
    "Return the final string after all operations."
   ]
  },
  {
   "cell_type": "code",
   "execution_count": null,
   "metadata": {},
   "outputs": [],
   "source": [
    "class Solution:\n",
    "    def stringShift(self, s: str, shift: List[List[int]]) -> str:\n",
    "        if not shift:\n",
    "            return s\n",
    "        total = 0\n",
    "        for d, i in shift:\n",
    "            if d == 0:\n",
    "                total -= i\n",
    "            elif d == 1:\n",
    "                total += i\n",
    "            else:\n",
    "                assert False\n",
    "        total %= len(s)\n",
    "        return s[-total:] + s[0:-total]"
   ]
  },
  {
   "cell_type": "markdown",
   "metadata": {},
   "source": [
    "161. One Edit Distance\n",
    "\n",
    "Given two strings s and t, return true if they are both one edit distance apart, otherwise return false.\n",
    "\n",
    "A string s is said to be one distance apart from a string t if you can:\n",
    "\n",
    "Insert exactly one character into s to get t.\n",
    "Delete exactly one character from s to get t.\n",
    "Replace exactly one character of s with a different character to get t."
   ]
  },
  {
   "cell_type": "code",
   "execution_count": null,
   "metadata": {},
   "outputs": [],
   "source": [
    "class Solution:\n",
    "    \"\"\"\n",
    "    @param s: a string\n",
    "    @param t: a string\n",
    "    @return: true if they are both one edit distance apart or false\n",
    "    \"\"\"\n",
    "    def isOneEditDistance(self, s, t):\n",
    "        # write your code here\n",
    "        if abs(len(s) - len(t)) > 1:\n",
    "            return False\n",
    "\n",
    "        p1, p2 = 0, 0\n",
    "        while p1 < len(s) and p2 < len(t):\n",
    "            if s[p1] != t[p2]:\n",
    "                flag = self.isMatch(s, t, p1 + 1, p2 + 1) \\\n",
    "                    or self.isMatch(s, t, p1 + 1, p2) \\\n",
    "                    or self.isMatch(s, t, p1, p2 + 1)\n",
    "                return flag\n",
    "            p1 += 1\n",
    "            p2 += 1\n",
    "        return abs(len(s) - len(t)) == 1\n",
    "\n",
    "    def isMatch(self, s, t, p1, p2):\n",
    "        return s[p1:] == t[p2:]\n",
    "\n",
    "    def isMatch2(self, s, t, p1, p2):\n",
    "        while p1 < len(s) and p2 < len(t):\n",
    "            if s[p1] != t[p2]:\n",
    "                return False\n",
    "            p1 += 1\n",
    "            p2 += 1\n",
    "        if p1 == len(s) and p2 == len(t):\n",
    "            return True\n",
    "        return False\n",
    "    \n",
    "# self\n",
    "class Solution:  # wrong\n",
    "    \"\"\"\n",
    "    @param s: a string\n",
    "    @param t: a string\n",
    "    @return: true if they are both one edit distance apart or false\n",
    "    \"\"\"\n",
    "    def isOneEditDistance(self, s, t):\n",
    "        # one edit distance away is the same as max length of common sub sequence is only 0 or 1 less than the string length.\n",
    "        L1 = len(s)\n",
    "        L2 = len(t)\n",
    "        if abs(L1-L2)>1:\n",
    "            return False\n",
    "        dp = [[0]*(L2+1) for _ in range(L1+1)] # s[:i] and t[:j], max length of common sub sequence\n",
    "        for i in range(1, L1+1):\n",
    "            for j in range(1, L2+1):\n",
    "                if s[i-1] == t[j-1]:\n",
    "                    dp[i][j] = dp[i-1][j-1] + 1\n",
    "                dp[i][j] = max(dp[i][j], dp[i-1][j], dp[i][j-1])\n",
    "        lcsq = dp[-1][-1] \n",
    "        if L1 == L2:\n",
    "            return lcsq + 1 == L1   # edit distance may be two, a_bcd vs abc_d\n",
    "        else:\n",
    "            return lcsq == min(L1, L2) and lcsq + 1 == max(L1, L2)\n",
    "                "
   ]
  },
  {
   "cell_type": "code",
   "execution_count": 4,
   "metadata": {},
   "outputs": [
    {
     "data": {
      "text/plain": [
       "True"
      ]
     },
     "execution_count": 4,
     "metadata": {},
     "output_type": "execute_result"
    }
   ],
   "source": [
    "class Solution:\n",
    "    def isOneEditDistance(self, s: str, t: str) -> bool:\n",
    "        if not s:\n",
    "            return t and len(t)==1\n",
    "        if not t:\n",
    "            return s and len(s) ==1\n",
    "        sl = len(s)\n",
    "        tl = len(t)\n",
    "        if abs(sl-tl) > 1:\n",
    "            return False\n",
    "        si = 0\n",
    "        ti = 0\n",
    "        while si < sl and ti < tl:\n",
    "            if s[si] == t[ti]:\n",
    "                si += 1\n",
    "                ti += 1\n",
    "                continue\n",
    "            else:\n",
    "                break\n",
    "        if si == sl and ti == tl:\n",
    "            return False\n",
    "        return s[si+1:] == t[ti:] or s[si:] == t[ti+1:] or s[si+1:] == t[ti+1:]\n",
    "\n",
    "# s = Solution()\n",
    "# s.isOneEditDistance('ab','acb')"
   ]
  },
  {
   "cell_type": "markdown",
   "metadata": {},
   "source": [
    "186. Reverse Words in a String II\n",
    "\n",
    "Given a character array s, reverse the order of the words.\n",
    "\n",
    "A word is defined as a sequence of non-space characters. The words in s will be separated by a single space.\n",
    "\n",
    "Your code must solve the problem in-place, i.e. without allocating extra space."
   ]
  },
  {
   "cell_type": "code",
   "execution_count": null,
   "metadata": {},
   "outputs": [],
   "source": [
    "# 186. Reverse Words in a String II\n",
    "\n",
    "class Solution:\n",
    "    def reverseWords(self, s: List[str]) -> None:\n",
    "        \"\"\"\n",
    "        Do not return anything, modify s in-place instead.\n",
    "        \"\"\"\n",
    "        \n",
    "        def reverseHelp(i, j):\n",
    "            \n",
    "            while i < j:\n",
    "                s[i], s[j] = s[j], s[i]\n",
    "                i += 1\n",
    "                j -= 1\n",
    "        \n",
    "        reverseHelp(0, len(s) - 1)\n",
    "        \n",
    "        slow = 0\n",
    "        for fast in range(len(s)):\n",
    "            \n",
    "            if s[fast] == ' ':\n",
    "                reverseHelp(slow, fast - 1)\n",
    "                slow = fast + 1       \n",
    "            elif  fast == len(s) - 1:\n",
    "                reverseHelp(slow, fast)"
   ]
  },
  {
   "cell_type": "code",
   "execution_count": null,
   "metadata": {},
   "outputs": [],
   "source": [
    "class Solution:\n",
    "    def reverseWords(self, s: List[str]) -> None:\n",
    "        \"\"\"\n",
    "        Do not return anything, modify s in-place instead.\n",
    "        \"\"\"\n",
    "        if not s or len(s) < 2:\n",
    "            return\n",
    "        def _reverse(istart, iend):\n",
    "            while iend > istart:\n",
    "                s[istart], s[iend] = s[iend], s[istart]\n",
    "                iend -= 1\n",
    "                istart += 1\n",
    "        _reverse(0, len(s)-1)\n",
    "        start = 0\n",
    "        end = 0\n",
    "        while end <= len(s):\n",
    "            if end != len(s) and s[end] != ' ':\n",
    "                end += 1\n",
    "                continue\n",
    "            else:\n",
    "                _reverse(start, end-1)\n",
    "                start = end+1\n",
    "                end = start\n",
    "        \n"
   ]
  },
  {
   "cell_type": "markdown",
   "metadata": {},
   "source": [
    "1055. Shortest Way to Form String\n",
    "\n",
    "A subsequence of a string is a new string that is formed from the original string by deleting some (can be none) of the characters without disturbing the relative positions of the remaining characters. (i.e., \"ace\" is a subsequence of \"abcde\" while \"aec\" is not).\n",
    "\n",
    "Given two strings source and target, return the minimum number of subsequences of source such that their concatenation equals target. If the task is impossible, return -1."
   ]
  },
  {
   "cell_type": "code",
   "execution_count": 6,
   "metadata": {},
   "outputs": [
    {
     "name": "stdout",
     "output_type": "stream",
     "text": [
      "3 3\n"
     ]
    },
    {
     "data": {
      "text/plain": [
       "1"
      ]
     },
     "execution_count": 6,
     "metadata": {},
     "output_type": "execute_result"
    }
   ],
   "source": [
    "class Solution:\n",
    "    def shortestWay(self, source: str, target: str) -> int:\n",
    "        if not target or not source:\n",
    "            return -1\n",
    "        sSet = set([c for c in source])\n",
    "        tSet = set([c for c in target])\n",
    "        extra = tSet - sSet\n",
    "        if len(extra) > 0:\n",
    "            return -1\n",
    "        sl = len(source)\n",
    "        tl = len(target)\n",
    "        si = 0\n",
    "        ti = 0\n",
    "        while ti < tl:\n",
    "            if source[si%sl] == target[ti]:\n",
    "                ti += 1\n",
    "            si += 1\n",
    "        # print(ti, si)\n",
    "        si -= 1 # last matched \n",
    "        return si // sl +1\n",
    "\n",
    "\n",
    "# s = Solution()\n",
    "# s.shortestWay('abc', 'abcbc') "
   ]
  },
  {
   "cell_type": "markdown",
   "metadata": {},
   "source": []
  },
  {
   "cell_type": "code",
   "execution_count": null,
   "metadata": {},
   "outputs": [],
   "source": []
  }
 ],
 "metadata": {
  "kernelspec": {
   "display_name": "Python 3",
   "language": "python",
   "name": "python3"
  },
  "language_info": {
   "codemirror_mode": {
    "name": "ipython",
    "version": 3
   },
   "file_extension": ".py",
   "mimetype": "text/x-python",
   "name": "python",
   "nbconvert_exporter": "python",
   "pygments_lexer": "ipython3",
   "version": "3.9.6"
  }
 },
 "nbformat": 4,
 "nbformat_minor": 2
}
