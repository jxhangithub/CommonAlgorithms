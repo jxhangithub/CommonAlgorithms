{
 "cells": [
  {
   "cell_type": "markdown",
   "metadata": {},
   "source": [
    "88. Merge Sorted Array\n",
    "\n",
    "You are given two integer arrays nums1 and nums2, sorted in non-decreasing order, and two integers m and n, representing the number of elements in nums1 and nums2 respectively.\n",
    "\n",
    "Merge nums1 and nums2 into a single array sorted in non-decreasing order.\n",
    "\n",
    "The final sorted array should not be returned by the function, but instead be stored inside the array nums1. To accommodate this, nums1 has a length of m + n, where the first m elements denote the elements that should be merged, and the last n elements are set to 0 and should be ignored. nums2 has a length of n."
   ]
  },
  {
   "cell_type": "code",
   "execution_count": null,
   "metadata": {},
   "outputs": [],
   "source": [
    "class Solution:\n",
    "    def merge(self, nums1: List[int], m: int, nums2: List[int], n: int) -> None:\n",
    "        \"\"\"\n",
    "        Do not return anything, modify nums1 in-place instead.\n",
    "        \"\"\"\n",
    "        idx = m+n-1\n",
    "        i1 = m-1\n",
    "        i2 = n-1\n",
    "        while i1 > -1 and i2 > -1:\n",
    "            if nums1[i1] >= nums2[i2]:\n",
    "                nums1[idx] = nums1[i1]\n",
    "                idx -= 1\n",
    "                i1 -= 1\n",
    "            else:\n",
    "                nums1[idx] = nums2[i2]\n",
    "                idx -= 1\n",
    "                i2 -= 1\n",
    "        while i2 > -1:\n",
    "            nums1[idx] = nums2[i2]\n",
    "            idx -= 1\n",
    "            i2 -= 1"
   ]
  },
  {
   "cell_type": "markdown",
   "metadata": {},
   "source": [
    "27. Remove Element\n",
    "\n",
    "Given an integer array nums and an integer val, remove all occurrences of val in nums in-place. The order of the elements may be changed. Then return the number of elements in nums which are not equal to val.\n",
    "\n",
    "Consider the number of elements in nums which are not equal to val be k, to get accepted, you need to do the following things:\n",
    "\n",
    "Change the array nums such that the first k elements of nums contain the elements which are not equal to val. The remaining elements of nums are not important as well as the size of nums.\n",
    "Return k."
   ]
  },
  {
   "cell_type": "code",
   "execution_count": 5,
   "metadata": {},
   "outputs": [
    {
     "name": "stdout",
     "output_type": "stream",
     "text": [
      "0\n"
     ]
    }
   ],
   "source": [
    "from typing import List\n",
    "class Solution:\n",
    "    def removeElement(self, nums: List[int], val: int) -> int:\n",
    "        L = len(nums)\n",
    "        start, end = 0,L-1\n",
    "        while start < end:\n",
    "            while start < end and nums[start] != val:\n",
    "                start += 1\n",
    "            if start < end:\n",
    "                nums[start], nums[end] = nums[end], nums[start]\n",
    "                end -= 1\n",
    "\n",
    "        for i in range(L):\n",
    "            if nums[i] == val:\n",
    "                return i\n"
   ]
  },
  {
   "cell_type": "code",
   "execution_count": null,
   "metadata": {},
   "outputs": [],
   "source": [
    "from typing import List\n",
    "class Solution:\n",
    "    def removeElement(self, nums: List[int], val: int) -> int:\n",
    "        L = len(nums)\n",
    "        slow = 0\n",
    "        for i in range(L):\n",
    "            if nums[i] != val:\n",
    "                nums[i], nums[slow] = nums[slow], nums[i]\n",
    "                slow += 1\n",
    "        return slow\n"
   ]
  },
  {
   "cell_type": "markdown",
   "metadata": {},
   "source": [
    "26. Remove Duplicates from Sorted Array\n",
    "\n",
    "Given an integer array nums sorted in non-decreasing order, remove the duplicates in-place such that each unique element appears only once. The relative order of the elements should be kept the same. Then return the number of unique elements in nums.\n",
    "\n",
    "Consider the number of unique elements of nums to be k, to get accepted, you need to do the following things:\n",
    "\n",
    "Change the array nums such that the first k elements of nums contain the unique elements in the order they were present in nums initially. The remaining elements of nums are not important as well as the size of nums.\n",
    "Return k.\n"
   ]
  },
  {
   "cell_type": "code",
   "execution_count": null,
   "metadata": {},
   "outputs": [],
   "source": [
    "class Solution:\n",
    "    def removeDuplicates(self, nums: List[int]) -> int:\n",
    "        L = len(nums)\n",
    "        slow = -1\n",
    "        for i in range(L):\n",
    "            if slow < 0 or nums[i] != nums[slow]:\n",
    "                slow += 1\n",
    "                nums[slow] = nums[i]\n",
    "        return slow\n",
    "\n"
   ]
  },
  {
   "cell_type": "markdown",
   "metadata": {},
   "source": [
    "80. Remove Duplicates from Sorted Array II\n",
    "\n",
    "Given an integer array nums sorted in non-decreasing order, remove some duplicates in-place such that each unique element appears at most twice. The relative order of the elements should be kept the same.\n",
    "\n",
    "Since it is impossible to change the length of the array in some languages, you must instead have the result be placed in the first part of the array nums. More formally, if there are k elements after removing the duplicates, then the first k elements of nums should hold the final result. It does not matter what you leave beyond the first k elements.\n",
    "\n",
    "Return k after placing the final result in the first k slots of nums.\n",
    "\n",
    "Do not allocate extra space for another array. You must do this by modifying the input array in-place with O(1) extra memory."
   ]
  },
  {
   "cell_type": "code",
   "execution_count": null,
   "metadata": {},
   "outputs": [],
   "source": [
    "class Solution:\n",
    "    def removeDuplicates(self, nums: List[int]) -> int:\n",
    "        L = len(nums)\n",
    "        slow = -1\n",
    "        cnt = 0\n",
    "        for i in range(L):\n",
    "            if slow < 0 or nums[i] != nums[slow]:\n",
    "                slow += 1\n",
    "                nums[slow] = nums[i]\n",
    "                cnt = 1\n",
    "            elif nums[i] == nums[slow] and cnt < 2:\n",
    "                slow += 1\n",
    "                nums[slow] = nums[i]\n",
    "                cnt += 1\n",
    "\n",
    "        return slow +1\n",
    "\n"
   ]
  },
  {
   "cell_type": "markdown",
   "metadata": {},
   "source": [
    "169. Majority Element\n",
    "\n",
    "Given an array nums of size n, return the majority element.\n",
    "\n",
    "The majority element is the element that appears more than ⌊n / 2⌋ times. You may assume that the majority element always exists in the array."
   ]
  },
  {
   "cell_type": "code",
   "execution_count": null,
   "metadata": {},
   "outputs": [],
   "source": [
    "class Solution:\n",
    "    def majorityElement(self, nums: List[int]) -> int:\n",
    "        e = nums[0]\n",
    "        cnt = 0\n",
    "        for i in nums:\n",
    "            if e == i:\n",
    "                cnt += 1\n",
    "            else:\n",
    "                cnt -= 1\n",
    "                if cnt == 0:\n",
    "                    e = i\n",
    "                    cnt = 1\n",
    "        return e\n"
   ]
  },
  {
   "cell_type": "markdown",
   "metadata": {},
   "source": [
    "189. Rotate Array\n",
    "\n",
    "Given an integer array nums, rotate the array to the right by k steps, where k is non-negative."
   ]
  },
  {
   "cell_type": "code",
   "execution_count": null,
   "metadata": {},
   "outputs": [],
   "source": [
    "class Solution:\n",
    "    def rotate(self, nums: List[int], k: int) -> None:\n",
    "        \"\"\"\n",
    "        Do not return anything, modify nums in-place instead.\n",
    "        \"\"\"\n",
    "        def reverse(start, end):\n",
    "            while start < end:\n",
    "                nums[start], nums[end] = nums[end], nums[start]\n",
    "                start += 1\n",
    "                end -= 1\n",
    "        L = len(nums)\n",
    "        k %= L\n",
    "        reverse(0, L-1)\n",
    "        reverse(0,k-1)\n",
    "        reverse(k, L-1)\n",
    "        "
   ]
  },
  {
   "cell_type": "markdown",
   "metadata": {},
   "source": [
    "125. Valid Palindrome\n",
    "\n",
    "A phrase is a palindrome if, after converting all uppercase letters into lowercase letters and removing all non-alphanumeric characters, it reads the same forward and backward. Alphanumeric characters include letters and numbers.\n",
    "\n",
    "Given a string s, return true if it is a palindrome, or false otherwise."
   ]
  },
  {
   "cell_type": "code",
   "execution_count": null,
   "metadata": {},
   "outputs": [],
   "source": [
    "class Solution:\n",
    "    def isPalindrome(self, s: str) -> bool:\n",
    "        L = len(s)\n",
    "        start, end = 0, L-1\n",
    "        while start < end:\n",
    "            if not s[start].isalnum():\n",
    "                start += 1\n",
    "            elif not s[end].isalnum():\n",
    "                end -= 1\n",
    "            elif s[start].lower() != s[end].lower():\n",
    "                return False\n",
    "            else:\n",
    "                start += 1\n",
    "                end -= 1\n",
    "        return True\n",
    "    \n",
    "# Solution().isPalindrome(\"A man, a plan, a canal: Panama\")"
   ]
  },
  {
   "cell_type": "markdown",
   "metadata": {},
   "source": [
    "392. Is Subsequence\n",
    "\n",
    "Given two strings s and t, return true if s is a subsequence of t, or false otherwise.\n",
    "\n",
    "A subsequence of a string is a new string that is formed from the original string by deleting some (can be none) of the characters without disturbing the relative positions of the remaining characters. (i.e., \"ace\" is a subsequence of \"abcde\" while \"aec\" is not)."
   ]
  },
  {
   "cell_type": "code",
   "execution_count": null,
   "metadata": {},
   "outputs": [],
   "source": [
    "class Solution:\n",
    "    def isSubsequence(self, s: str, t: str) -> bool:\n",
    "        ps, pt = 0, 0\n",
    "        for c in t:\n",
    "            if ps < len(s) and c == s[ps]:\n",
    "                ps += 1\n",
    "        return ps == len(s)"
   ]
  },
  {
   "cell_type": "markdown",
   "metadata": {},
   "source": [
    "167. Two Sum II - Input Array Is Sorted\n",
    "\n",
    "Given a 1-indexed array of integers numbers that is already sorted in non-decreasing order, find two numbers such that they add up to a specific target number. Let these two numbers be numbers[index1] and numbers[index2] where 1 <= index1 < index2 <= numbers.length.\n",
    "\n",
    "Return the indices of the two numbers, index1 and index2, added by one as an integer array [index1, index2] of length 2.\n",
    "\n",
    "The tests are generated such that there is exactly one solution. You may not use the same element twice.\n",
    "\n",
    "Your solution must use only constant extra space."
   ]
  },
  {
   "cell_type": "code",
   "execution_count": null,
   "metadata": {},
   "outputs": [],
   "source": [
    "class Solution:\n",
    "    def twoSum(self, numbers: List[int], target: int) -> List[int]:\n",
    "        start, end = 0, len(numbers)-1\n",
    "        while start < end:\n",
    "            tmp = numbers[start] + numbers[end]\n",
    "            if tmp == target:\n",
    "                return [start+1, end+1]\n",
    "            elif tmp < target:\n",
    "                start += 1\n",
    "            else:\n",
    "                end -= 1\n",
    "        return [] "
   ]
  },
  {
   "cell_type": "markdown",
   "metadata": {},
   "source": [
    "11. Container With Most Water\n",
    "\n",
    "You are given an integer array height of length n. There are n vertical lines drawn such that the two endpoints of the ith line are (i, 0) and (i, height[i]).\n",
    "\n",
    "Find two lines that together with the x-axis form a container, such that the container contains the most water.\n",
    "\n",
    "Return the maximum amount of water a container can store.\n",
    "\n",
    "Notice that you may not slant the container."
   ]
  },
  {
   "cell_type": "code",
   "execution_count": null,
   "metadata": {},
   "outputs": [],
   "source": [
    "class Solution:\n",
    "    def maxArea(self, height: List[int]) -> int:\n",
    "        start, end = 0, len(height)-1\n",
    "        res = 0\n",
    "        while start < end:\n",
    "            s = height[start]\n",
    "            e = height[end]\n",
    "            res = max(res, min(s,e)*(end-start))\n",
    "            if s <= e:\n",
    "                start += 1\n",
    "            else:\n",
    "                end -= 1\n",
    "        return res"
   ]
  },
  {
   "cell_type": "markdown",
   "metadata": {},
   "source": [
    "209. Minimum Size Subarray Sum\n",
    "\n",
    "Given an array of positive integers nums and a positive integer target, return the minimal length of a \n",
    "subarray\n",
    " whose sum is greater than or equal to target. If there is no such subarray, return 0 instead."
   ]
  },
  {
   "cell_type": "code",
   "execution_count": null,
   "metadata": {},
   "outputs": [],
   "source": [
    "class Solution:\n",
    "    def minSubArrayLen(self, target: int, nums: List[int]) -> int:\n",
    "        tmp = nums[0]\n",
    "        start, end = 0,0\n",
    "        L = len(nums)\n",
    "        res = math.inf\n",
    "        while start <= end and end < L:\n",
    "            if tmp < target:\n",
    "                end += 1\n",
    "                if end < L:\n",
    "                    tmp += nums[end]\n",
    "            else:\n",
    "                res = min(res, end-start+1)\n",
    "                tmp -= nums[start]\n",
    "                start += 1\n",
    "\n",
    "        return res if res != math.inf else 0\n",
    "                \n",
    "\n"
   ]
  },
  {
   "cell_type": "markdown",
   "metadata": {},
   "source": [
    "48. Rotate Image\n",
    "\n",
    "You are given an n x n 2D matrix representing an image, rotate the image by 90 degrees (clockwise).\n",
    "\n",
    "You have to rotate the image in-place, which means you have to modify the input 2D matrix directly. DO NOT allocate another 2D matrix and do the rotation."
   ]
  },
  {
   "cell_type": "code",
   "execution_count": null,
   "metadata": {},
   "outputs": [],
   "source": [
    "class Solution:\n",
    "    def rotate(self, matrix: List[List[int]]) -> None:\n",
    "        \"\"\"\n",
    "        Do not return anything, modify matrix in-place instead.\n",
    "        \"\"\"\n",
    "        N = len(matrix)\n",
    "\n",
    "        for r in range(N//2+N%2):\n",
    "            for c in range(N//2):\n",
    "                matrix[c][N-1-r], matrix[N-1-r][N-1-c], matrix[N-1-c][r],  matrix[r][c] = matrix[r][c], matrix[c][N-1-r], matrix[N-1-r][N-1-c], matrix[N-1-c][r]\n",
    "        \n"
   ]
  },
  {
   "cell_type": "markdown",
   "metadata": {},
   "source": [
    "49. Group Anagrams\n",
    "\n",
    "Given an array of strings strs, group the anagrams together. You can return the answer in any order.\n",
    "\n",
    "An Anagram is a word or phrase formed by rearranging the letters of a different word or phrase, typically using all the original letters exactly once."
   ]
  },
  {
   "cell_type": "code",
   "execution_count": null,
   "metadata": {},
   "outputs": [],
   "source": [
    "import collections\n",
    "\n",
    "\n",
    "class Solution:\n",
    "    def groupAnagrams(self, strs: List[str]) -> List[List[str]]:\n",
    "        tmp = collections.defaultdict(list)\n",
    "        for s in strs:\n",
    "            key = ''.join(sorted(list(s)))\n",
    "            tmp[key].append(s)\n",
    "        return tmp.values()"
   ]
  },
  {
   "cell_type": "markdown",
   "metadata": {},
   "source": [
    "57. Insert Interval\n",
    "\n",
    "You are given an array of non-overlapping intervals intervals where intervals[i] = [starti, endi] represent the start and the end of the ith interval and intervals is sorted in ascending order by starti. You are also given an interval newInterval = [start, end] that represents the start and end of another interval.\n",
    "\n",
    "Insert newInterval into intervals such that intervals is still sorted in ascending order by starti and intervals still does not have any overlapping intervals (merge overlapping intervals if necessary).\n",
    "\n",
    "Return intervals after the insertion.\n",
    "\n",
    "Note that you don't need to modify intervals in-place. You can make a new array and return it."
   ]
  },
  {
   "cell_type": "code",
   "execution_count": null,
   "metadata": {},
   "outputs": [],
   "source": [
    "class Solution:\n",
    "    def insert(self, intervals: List[List[int]], newInterval: List[int]) -> List[List[int]]:\n",
    "        res = []\n",
    "        ns, ne = newInterval\n",
    "        addNew = False\n",
    "        for s, e in intervals:\n",
    "            if e<ns:\n",
    "                res.append([s,e])\n",
    "            elif ns <= e and s <= ne: \n",
    "                ns = min(ns, s)\n",
    "                ne = max(e, ne)\n",
    "            elif s > ne and not addNew:\n",
    "                res.append([ns, ne])\n",
    "                addNew = True\n",
    "            if s > ne:\n",
    "                res.append([s,e])\n",
    "        if not addNew:\n",
    "            res.append([ns, ne])\n",
    "        return res\n",
    "\n",
    "\n",
    "            \n"
   ]
  },
  {
   "cell_type": "markdown",
   "metadata": {},
   "source": [
    "71. Simplify Path\n",
    "\n",
    "Given an absolute path for a Unix-style file system, which begins with a slash '/', transform this path into its simplified canonical path.\n",
    "\n",
    "In Unix-style file system context, a single period '.' signifies the current directory, a double period \"..\" denotes moving up one directory level, and multiple slashes such as \"//\" are interpreted as a single slash. In this problem, treat sequences of periods not covered by the previous rules (like \"...\") as valid names for files or directories.\n",
    "\n",
    "The simplified canonical path should adhere to the following rules:\n",
    "\n",
    "It must start with a single slash '/'.\n",
    "Directories within the path should be separated by only one slash '/'.\n",
    "It should not end with a slash '/', unless it's the root directory.\n",
    "It should exclude any single or double periods used to denote current or parent directories.\n",
    "Return the new path."
   ]
  },
  {
   "cell_type": "code",
   "execution_count": null,
   "metadata": {},
   "outputs": [],
   "source": [
    "class Solution:\n",
    "    def simplifyPath(self, path: str) -> str:\n",
    "        paths = path.split('/')\n",
    "        res = []\n",
    "        for p in paths:\n",
    "            if not p or p == '.':\n",
    "                continue\n",
    "            elif p == '..':\n",
    "                if res:\n",
    "                    res.pop()\n",
    "            else:\n",
    "                res.append(p)\n",
    "        return '/' + '/'.join(res)\n",
    "            \n"
   ]
  },
  {
   "cell_type": "markdown",
   "metadata": {},
   "source": [
    "121. Best Time to Buy and Sell Stock\n",
    "\n",
    "You are given an array prices where prices[i] is the price of a given stock on the ith day.\n",
    "\n",
    "You want to maximize your profit by choosing a single day to buy one stock and choosing a different day in the future to sell that stock.\n",
    "\n",
    "Return the maximum profit you can achieve from this transaction. If you cannot achieve any profit, return 0."
   ]
  },
  {
   "cell_type": "code",
   "execution_count": null,
   "metadata": {},
   "outputs": [],
   "source": [
    "class Solution:\n",
    "    def maxProfit(self, prices: List[int]) -> int:\n",
    "        if not prices:\n",
    "            return 0\n",
    "        tmpMin = prices[0]\n",
    "        res = 0\n",
    "        for p in prices:\n",
    "            res = max(res, p-tmpMin)\n",
    "            tmpMin = min(tmpMin, p)\n",
    "        return res"
   ]
  },
  {
   "cell_type": "markdown",
   "metadata": {},
   "source": [
    "122. Best Time to Buy and Sell Stock II\n",
    "\n",
    "You are given an integer array prices where prices[i] is the price of a given stock on the ith day.\n",
    "\n",
    "On each day, you may decide to buy and/or sell the stock. You can only hold at most one share of the stock at any time. However, you can buy it then immediately sell it on the same day.\n",
    "\n",
    "Find and return the maximum profit you can achieve."
   ]
  },
  {
   "cell_type": "code",
   "execution_count": null,
   "metadata": {},
   "outputs": [],
   "source": [
    "class Solution:\n",
    "    def maxProfit(self, prices: List[int]) -> int:\n",
    "        res = 0\n",
    "        for i in range(1,len(prices)):\n",
    "            res += max(0, prices[i] - prices[i-1])\n",
    "        return res"
   ]
  },
  {
   "cell_type": "markdown",
   "metadata": {},
   "source": [
    "55. Jump Game\n",
    "\n",
    "You are given an integer array nums. You are initially positioned at the array's first index, and each element in the array represents your maximum jump length at that position.\n",
    "\n",
    "Return true if you can reach the last index, or false otherwise."
   ]
  },
  {
   "cell_type": "code",
   "execution_count": null,
   "metadata": {},
   "outputs": [],
   "source": [
    "class Solution:\n",
    "    def canJump(self, nums: List[int]) -> bool:\n",
    "        L = len(nums)\n",
    "        start, end = 0, 1\n",
    "        while start < end:\n",
    "            s, e = start, end\n",
    "            for i in range(s, e):\n",
    "                jump = nums[i]\n",
    "                start = i\n",
    "                end = max(end, min(L, i+jump+1))\n",
    "                if end == L:\n",
    "                    return True\n",
    "            if s == start and e == end:\n",
    "                return False\n",
    "                \n",
    "        return False"
   ]
  },
  {
   "cell_type": "markdown",
   "metadata": {},
   "source": [
    "45. Jump Game II\n",
    "\n",
    "You are given a 0-indexed array of integers nums of length n. You are initially positioned at nums[0].\n",
    "\n",
    "Each element nums[i] represents the maximum length of a forward jump from index i. In other words, if you are at nums[i], you can jump to any nums[i + j] where:\n",
    "\n",
    "0 <= j <= nums[i] and\n",
    "i + j < n\n",
    "Return the minimum number of jumps to reach nums[n - 1]. The test cases are generated such that you can reach nums[n - 1]."
   ]
  },
  {
   "cell_type": "code",
   "execution_count": null,
   "metadata": {},
   "outputs": [],
   "source": [
    "class Solution:\n",
    "    def jump(self, nums: List[int]) -> int:\n",
    "        L = len(nums)\n",
    "        if L == 1:\n",
    "            return 0\n",
    "        start, end = 0, 1\n",
    "        cnt = 0\n",
    "        reach = False\n",
    "        while start < end and not reach:\n",
    "            s, e = start, end\n",
    "            cnt += 1\n",
    "            for i in range(s, e):\n",
    "                jump = nums[i]\n",
    "                start = i\n",
    "                end = max(end, min(L, i+jump+1))\n",
    "                if end == L:\n",
    "                    reach = True\n",
    "            if s == start and e == end:\n",
    "                break\n",
    "                \n",
    "        return cnt if reach else -1"
   ]
  },
  {
   "cell_type": "code",
   "execution_count": 12,
   "metadata": {},
   "outputs": [
    {
     "data": {
      "text/plain": [
       "2"
      ]
     },
     "execution_count": 12,
     "metadata": {},
     "output_type": "execute_result"
    }
   ],
   "source": [
    "import math\n",
    "class Solution:\n",
    "    def jump(self, nums: List[int]) -> int:\n",
    "        L = len(nums)\n",
    "        dp = [math.inf] * L\n",
    "        dp[0] = 0\n",
    "        for i in range(0,L):\n",
    "            jump = nums[i]\n",
    "            for j in range(max(0, i-jump), min(L, i+jump+1)):\n",
    "                dp[j] = min(dp[j], dp[i]+1)\n",
    "        return dp[-1]\n",
    "    \n",
    "\n",
    "# Solution().jump([2,3,1,1,4])"
   ]
  },
  {
   "cell_type": "markdown",
   "metadata": {},
   "source": [
    "274. H-Index\n",
    "\n",
    "Given an array of integers citations where citations[i] is the number of citations a researcher received for their ith paper, return the researcher's h-index.\n",
    "\n",
    "According to the definition of h-index on Wikipedia: The h-index is defined as the maximum value of h such that the given researcher has published at least h papers that have each been cited at least h times."
   ]
  },
  {
   "cell_type": "code",
   "execution_count": null,
   "metadata": {},
   "outputs": [],
   "source": [
    "class Solution:\n",
    "    def hIndex(self, citations: List[int]) -> int:\n",
    "        hh = [-i for i in citations]\n",
    "        heapq.heapify(hh)\n",
    "        res = 0\n",
    "        for i in range(len(citations)):\n",
    "            cnt = i+1\n",
    "            cite = -heapq.heappop(hh)\n",
    "            if cite < cnt:\n",
    "                return res\n",
    "            else:\n",
    "                res = cnt\n",
    "            \n",
    "        return res "
   ]
  },
  {
   "cell_type": "code",
   "execution_count": null,
   "metadata": {},
   "outputs": [],
   "source": [
    "class Solution:\n",
    "    def hIndex(self, citations: List[int]) -> int:\n",
    "        citations.sort(key=lambda x: -x)\n",
    "        L = len(citations)\n",
    "        start, end = 0, L-1\n",
    "        while start + 1 < end:\n",
    "            mid = start + (end-start)//2\n",
    "            cite = citations[mid]\n",
    "            if cite < mid+1:\n",
    "                end = mid-1\n",
    "            elif cite >= mid+1:\n",
    "                start = mid\n",
    "\n",
    "        if citations[end] >= end+1:\n",
    "            return end+1\n",
    "        elif citations[start] >= start+1:\n",
    "            return start+1\n",
    "        else:\n",
    "            return 0\n",
    "\n"
   ]
  },
  {
   "cell_type": "markdown",
   "metadata": {},
   "source": [
    "380. Insert Delete GetRandom O(1)\n",
    "\n",
    "Implement the RandomizedSet class:\n",
    "\n",
    "RandomizedSet() Initializes the RandomizedSet object.\n",
    "bool insert(int val) Inserts an item val into the set if not present. Returns true if the item was not present, false otherwise.\n",
    "bool remove(int val) Removes an item val from the set if present. Returns true if the item was present, false otherwise.\n",
    "int getRandom() Returns a random element from the current set of elements (it's guaranteed that at least one element exists when this method is called). Each element must have the same probability of being returned.\n",
    "You must implement the functions of the class such that each function works in average O(1) time complexity."
   ]
  },
  {
   "cell_type": "code",
   "execution_count": 18,
   "metadata": {},
   "outputs": [
    {
     "data": {
      "text/plain": [
       "True"
      ]
     },
     "execution_count": 18,
     "metadata": {},
     "output_type": "execute_result"
    }
   ],
   "source": [
    "import random\n",
    "class RandomizedSet:\n",
    "\n",
    "    def __init__(self):\n",
    "        self.array = []\n",
    "        self.n2i = {}\n",
    "        self.size = 0\n",
    "\n",
    "    def insert(self, val: int) -> bool:\n",
    "        if val in self.n2i:\n",
    "            return False\n",
    "        self.array.append(val)\n",
    "        self.n2i[val] = self.size\n",
    "        self.size += 1\n",
    "        return True\n",
    "        \n",
    "\n",
    "    def remove(self, val: int) -> bool:\n",
    "        if val not in self.n2i:\n",
    "            return False\n",
    "        idx = self.n2i.pop(val)\n",
    "        if idx != self.size - 1:\n",
    "            self.array[idx], self.array[-1] = self.array[-1], self.array[idx]\n",
    "            self.n2i[self.array[idx]] = idx\n",
    "        self.array.pop()\n",
    "        self.size -= 1\n",
    "\n",
    "        return True\n",
    "            \n",
    "\n",
    "        \n",
    "\n",
    "    def getRandom(self) -> int:\n",
    "        if self.size == 0:\n",
    "            return None\n",
    "        idx = random.randint(0, self.size-1)\n",
    "        return self.array[idx]\n",
    "        \n",
    "\n",
    "\n",
    "# Your RandomizedSet object will be instantiated and called as such:\n",
    "# obj = RandomizedSet()\n",
    "# obj.remove(0)\n",
    "# obj.remove(0)\n",
    "# obj.insert(0)\n",
    "# obj.getRandom()\n",
    "# obj.remove(0)\n",
    "# obj.insert(0)"
   ]
  },
  {
   "cell_type": "markdown",
   "metadata": {},
   "source": [
    "238. Product of Array Except Self\n",
    "\n",
    "Given an integer array nums, return an array answer such that answer[i] is equal to the product of all the elements of nums except nums[i].\n",
    "\n",
    "The product of any prefix or suffix of nums is guaranteed to fit in a 32-bit integer.\n",
    "\n",
    "You must write an algorithm that runs in O(n) time and without using the division operation."
   ]
  },
  {
   "cell_type": "code",
   "execution_count": null,
   "metadata": {},
   "outputs": [],
   "source": [
    "class Solution:\n",
    "    def productExceptSelf(self, nums: List[int]) -> List[int]:\n",
    "        L = len(nums)\n",
    "        pre = [1] * L\n",
    "        post = [1] * L\n",
    "\n",
    "        tmp = 1\n",
    "        for i in range(L):\n",
    "            pre[i] = tmp*nums[i]\n",
    "            tmp = pre[i]\n",
    "        tmp = 1\n",
    "        for i in range(L-1, -1, -1):\n",
    "            post[i] = tmp * nums[i]\n",
    "            tmp = post[i]\n",
    "\n",
    "        res = [0] * L\n",
    "        res[0] = post[1]\n",
    "        res[L-1] = pre[L-2]\n",
    "        for i in range(1,L-1):\n",
    "            res[i] = pre[i-1] * post[i+1]\n",
    "        return res"
   ]
  },
  {
   "cell_type": "markdown",
   "metadata": {},
   "source": [
    "134. Gas Station\n",
    "\n",
    "There are n gas stations along a circular route, where the amount of gas at the ith station is gas[i].\n",
    "\n",
    "You have a car with an unlimited gas tank and it costs cost[i] of gas to travel from the ith station to its next (i + 1)th station. You begin the journey with an empty tank at one of the gas stations.\n",
    "\n",
    "Given two integer arrays gas and cost, return the starting gas station's index if you can travel around the circuit once in the clockwise direction, otherwise return -1. If there exists a solution, it is guaranteed to be unique"
   ]
  },
  {
   "cell_type": "code",
   "execution_count": null,
   "metadata": {},
   "outputs": [],
   "source": [
    "class Solution:\n",
    "    def canCompleteCircuit(self, gas: List[int], cost: List[int]) -> int:\n",
    "        minIdx = 0\n",
    "        L = len(gas)\n",
    "        curGas = 0\n",
    "        minGas = 0 # at 0 before add gas\n",
    "        for i in range(L):\n",
    "            curGas += gas[i] # add gas i\n",
    "            curGas -=cost[i] # move to  i+1\n",
    "            if curGas < minGas:\n",
    "                minGas = curGas\n",
    "                minIdx = (i+1) % L \n",
    "        if curGas >= 0:\n",
    "            return minIdx\n",
    "        else:\n",
    "            return -1\n",
    "\n"
   ]
  },
  {
   "cell_type": "markdown",
   "metadata": {},
   "source": [
    "135. Candy\n",
    "\n",
    "There are n children standing in a line. Each child is assigned a rating value given in the integer array ratings.\n",
    "\n",
    "You are giving candies to these children subjected to the following requirements:\n",
    "\n",
    "Each child must have at least one candy.\n",
    "Children with a higher rating get more candies than their neighbors.\n",
    "Return the minimum number of candies you need to have to distribute the candies to the children."
   ]
  },
  {
   "cell_type": "code",
   "execution_count": null,
   "metadata": {},
   "outputs": [],
   "source": [
    "class Solution:\n",
    "    def candy(self, ratings: List[int]) -> int:\n",
    "        L = len(ratings)\n",
    "        res = []\n",
    "        contIncrease = [0] *L\n",
    "        contDecrease = [0] *L\n",
    "        for i in range(1, L):\n",
    "            if ratings[i] > ratings[i-1]:\n",
    "                contIncrease[i] = contIncrease[i-1]+1\n",
    "        for i in range(L-2, -1, -1):\n",
    "            if ratings[i] > ratings[i+1]:\n",
    "                contDecrease[i] = contDecrease[i+1]+1\n",
    "\n",
    "        res = []\n",
    "        for i in range(L):\n",
    "            res.append(1 + max(contIncrease[i], contDecrease[i]))\n",
    "        return sum(res)\n",
    "    \n",
    "\n",
    "    # 0,10,20,18,16,15,14 ratings\n",
    "    # 0,1, 2, 0, 0, 0, 0  continue increase\n",
    "    # 0, 0, 4, 3, 2, 1, 0 continue decrease\n",
    "    # 1, 2, 5, 4, 3, 2, 1 minimum candies\n"
   ]
  },
  {
   "cell_type": "markdown",
   "metadata": {},
   "source": [
    "42. Trapping Rain Water\n",
    "\n",
    "Given n non-negative integers representing an elevation map where the width of each bar is 1, compute how much water it can trap after raining."
   ]
  },
  {
   "cell_type": "code",
   "execution_count": null,
   "metadata": {},
   "outputs": [],
   "source": [
    "class Solution:\n",
    "    def trap(self, height: List[int]) -> int:\n",
    "        L = len(height)\n",
    "        curMax = 0\n",
    "        leftMax = []\n",
    "        for i in range(L):\n",
    "            leftMax.append(curMax)\n",
    "            curMax = max(curMax, height[i])\n",
    "        rightMax = [0]*L\n",
    "        curMax = 0\n",
    "        for i in range(L-1, -1, -1):\n",
    "            rightMax[i] = curMax\n",
    "            curMax = max(curMax, height[i])\n",
    "        res = 0\n",
    "        for i in range(L):\n",
    "            res += max(0, min(leftMax[i], rightMax[i]) - height[i])\n",
    "        return res\n"
   ]
  },
  {
   "cell_type": "markdown",
   "metadata": {},
   "source": [
    "13. Roman to Integer\n",
    "\n",
    "Roman numerals are represented by seven different symbols: I, V, X, L, C, D and M.\n",
    "\n",
    "Symbol       Value\n",
    "I             1\n",
    "V             5\n",
    "X             10\n",
    "L             50\n",
    "C             100\n",
    "D             500\n",
    "M             1000\n",
    "For example, 2 is written as II in Roman numeral, just two ones added together. 12 is written as XII, which is simply X + II. The number 27 is written as XXVII, which is XX + V + II.\n",
    "\n",
    "Roman numerals are usually written largest to smallest from left to right. However, the numeral for four is not IIII. Instead, the number four is written as IV. Because the one is before the five we subtract it making four. The same principle applies to the number nine, which is written as IX. There are six instances where subtraction is used:\n",
    "\n",
    "I can be placed before V (5) and X (10) to make 4 and 9. \n",
    "X can be placed before L (50) and C (100) to make 40 and 90. \n",
    "C can be placed before D (500) and M (1000) to make 400 and 900.\n",
    "Given a roman numeral, convert it to an integer."
   ]
  },
  {
   "cell_type": "code",
   "execution_count": null,
   "metadata": {},
   "outputs": [],
   "source": [
    "class Solution:\n",
    "    def romanToInt(self, s: str) -> int:\n",
    "        romans = 'IVXLCDM'\n",
    "        numbers = [1,5,10,50,100,500,1000]\n",
    "        r2n = {}\n",
    "        for r,n in zip(romans, numbers):\n",
    "            r2n[r] = n\n",
    "        tmp = []\n",
    "        for c in s:\n",
    "            tmp.append(r2n[c])\n",
    "        res = tmp[0]\n",
    "        for i in range(1,len(tmp)):\n",
    "            if tmp[i] > tmp[i-1]:\n",
    "                res -= 2*tmp[i-1]\n",
    "            res += tmp[i]\n",
    "        return res\n"
   ]
  },
  {
   "cell_type": "markdown",
   "metadata": {},
   "source": [
    "12. Integer to Roman\n",
    "\n",
    "Seven different symbols represent Roman numerals with the following values:\n",
    "\n",
    "Symbol\tValue\n",
    "I\t1\n",
    "V\t5\n",
    "X\t10\n",
    "L\t50\n",
    "C\t100\n",
    "D\t500\n",
    "M\t1000\n",
    "Roman numerals are formed by appending the conversions of decimal place values from highest to lowest. Converting a decimal place value into a Roman numeral has the following rules:\n",
    "\n",
    "If the value does not start with 4 or 9, select the symbol of the maximal value that can be subtracted from the input, append that symbol to the result, subtract its value, and convert the remainder to a Roman numeral.\n",
    "If the value starts with 4 or 9 use the subtractive form representing one symbol subtracted from the following symbol, for example, 4 is 1 (I) less than 5 (V): IV and 9 is 1 (I) less than 10 (X): IX. Only the following subtractive forms are used: 4 (IV), 9 (IX), 40 (XL), 90 (XC), 400 (CD) and 900 (CM).\n",
    "Only powers of 10 (I, X, C, M) can be appended consecutively at most 3 times to represent multiples of 10. You cannot append 5 (V), 50 (L), or 500 (D) multiple times. If you need to append a symbol 4 times use the subtractive form.\n",
    "Given an integer, convert it to a Roman numeral."
   ]
  },
  {
   "cell_type": "code",
   "execution_count": null,
   "metadata": {},
   "outputs": [],
   "source": [
    "class Solution:\n",
    "    def intToRoman(self, num: int) -> str:\n",
    "        nums = [1000, 900, 500, 400, 100, 90, 50, 40, 10, 9, 5, 4, 1]\n",
    "        romans = ['M', 'CM', 'D', 'CD', 'C', 'XC', 'L', 'XL', 'X', 'IX', 'V', 'IV', 'I']\n",
    "        res = []\n",
    "        n2r = {}\n",
    "        for n, r in zip(nums, romans):\n",
    "            n2r[n]=r\n",
    "        for n in nums:\n",
    "            cnt = num // n\n",
    "            num = num % n\n",
    "            for i in range(cnt):\n",
    "                res.append(n2r[n])\n",
    "        return ''.join(res)\n"
   ]
  },
  {
   "cell_type": "markdown",
   "metadata": {},
   "source": [
    "58. Length of Last Word\n",
    "\n",
    "Given a string s consisting of words and spaces, return the length of the last word in the string.\n",
    "\n",
    "A word is a maximal \n",
    "substring\n",
    " consisting of non-space characters only."
   ]
  },
  {
   "cell_type": "code",
   "execution_count": null,
   "metadata": {},
   "outputs": [],
   "source": [
    "class Solution:\n",
    "    def lengthOfLastWord(self, s: str) -> int:\n",
    "        words = s.split(' ')\n",
    "        for i in range(len(words)-1, -1, -1):\n",
    "            if words[i]:\n",
    "                return len(words[i])\n",
    "        return 0"
   ]
  },
  {
   "cell_type": "markdown",
   "metadata": {},
   "source": [
    "14. Longest Common Prefix\n",
    "\n",
    "Write a function to find the longest common prefix string amongst an array of strings.\n",
    "\n",
    "If there is no common prefix, return an empty string \"\"."
   ]
  },
  {
   "cell_type": "code",
   "execution_count": null,
   "metadata": {},
   "outputs": [],
   "source": [
    "class Solution:\n",
    "    def longestCommonPrefix(self, strs: List[str]) -> str:\n",
    "        if not strs:\n",
    "            return ''\n",
    "        L = len(strs[0])\n",
    "        for i in range(L):\n",
    "            for s in strs:\n",
    "                if i < len(s) and s[i] == strs[0][i]:\n",
    "                    continue\n",
    "                else:\n",
    "                    return strs[0][:i]\n",
    "                \n",
    "        return strs[0]\n",
    "        "
   ]
  },
  {
   "cell_type": "markdown",
   "metadata": {},
   "source": [
    "151. Reverse Words in a String\n",
    "\n",
    "Given an input string s, reverse the order of the words.\n",
    "\n",
    "A word is defined as a sequence of non-space characters. The words in s will be separated by at least one space.\n",
    "\n",
    "Return a string of the words in reverse order concatenated by a single space.\n",
    "\n",
    "Note that s may contain leading or trailing spaces or multiple spaces between two words. The returned string should only have a single space separating the words. Do not include any extra spaces."
   ]
  },
  {
   "cell_type": "code",
   "execution_count": null,
   "metadata": {},
   "outputs": [],
   "source": [
    "class Solution:\n",
    "    def reverseWords(self, s: str) -> str:\n",
    "        words = [w for w in s.split(' ') if w] # if needed w[::-1] is to revert each string as well\n",
    "        words.reverse()\n",
    "        return ' '.join(words)\n"
   ]
  },
  {
   "cell_type": "markdown",
   "metadata": {},
   "source": [
    "6. Zigzag Conversion\n",
    "\n",
    "The string \"PAYPALISHIRING\" is written in a zigzag pattern on a given number of rows like this: (you may want to display this pattern in a fixed font for better legibility)\n",
    "\n",
    "P   A   H   N\n",
    "A P L S I I G\n",
    "Y   I   R\n",
    "And then read line by line: \"PAHNAPLSIIGYIR\"\n",
    "\n",
    "Write the code that will take a string and make this conversion given a number of rows:\n",
    "\n",
    "string convert(string s, int numRows);"
   ]
  },
  {
   "cell_type": "code",
   "execution_count": null,
   "metadata": {},
   "outputs": [],
   "source": [
    "class Solution:\n",
    "    def convert(self, s: str, numRows: int) -> str:\n",
    "        # if numRows == 1:\n",
    "        #     return s\n",
    "        res = [[] for _ in range(numRows)]\n",
    "        delta = 1\n",
    "        row = 0\n",
    "        for c in s:\n",
    "            res[row].append(c)\n",
    "            if row + delta <0 or row+delta > numRows-1:\n",
    "                continue\n",
    "            row += delta\n",
    "            if row == numRows - 1 or row == 0:\n",
    "                delta *= -1\n",
    "        result = []\n",
    "        for t in res:\n",
    "            result.append(''.join(t))\n",
    "        return ''.join(result)\n"
   ]
  },
  {
   "cell_type": "code",
   "execution_count": null,
   "metadata": {},
   "outputs": [],
   "source": [
    "class Solution:\n",
    "    def convert(self, s: str, numRows: int) -> str:\n",
    "        if numRows == 1:\n",
    "            return s\n",
    "        res = [[] for _ in range(numRows)]\n",
    "        delta = 1\n",
    "        row = 0\n",
    "        for c in s:\n",
    "            res[row].append(c)\n",
    "            # if row + delta <0 or row+delta > numRows-1:\n",
    "            #     continue\n",
    "            row += delta\n",
    "            if row == numRows - 1 or row == 0:\n",
    "                delta *= -1\n",
    "        result = []\n",
    "        for t in res:\n",
    "            result.append(''.join(t))\n",
    "        return ''.join(result)\n"
   ]
  },
  {
   "cell_type": "markdown",
   "metadata": {},
   "source": [
    "28. Find the Index of the First Occurrence in a String\n",
    "\n",
    "Given two strings needle and haystack, return the index of the first occurrence of needle in haystack, or -1 if needle is not part of haystack.\n",
    "\n"
   ]
  },
  {
   "cell_type": "code",
   "execution_count": null,
   "metadata": {},
   "outputs": [],
   "source": [
    "class Solution:\n",
    "    def strStr(self, haystack: str, needle: str) -> int:\n",
    "        LH = len(haystack)\n",
    "        LN = len(needle)\n",
    "        for ih in range(LH):\n",
    "            id = 0\n",
    "            while id < LN and ih+id < LH:\n",
    "                if haystack[ih+id] != needle[id]:\n",
    "                    id = 0\n",
    "                    break\n",
    "                id += 1\n",
    "            if id == LN:\n",
    "                return ih\n",
    "        return -1\n",
    "\n"
   ]
  },
  {
   "cell_type": "code",
   "execution_count": null,
   "metadata": {},
   "outputs": [],
   "source": [
    "class Solution:\n",
    "    def strStr(self, haystack: str, needle: str) -> int:\n",
    "        LH = len(haystack)\n",
    "        LN = len(needle)\n",
    "        if LN > LH:\n",
    "            return -1\n",
    "        pre = [0]*LN\n",
    "        idxMatch = 0\n",
    "        for i in range(1, LN): # upto current position, how long has matched from the begining \n",
    "            while idxMatch > 0 and needle[idxMatch] != needle[i]:\n",
    "                idxMatch = pre[idxMatch-1]\n",
    "            if needle[idxMatch] == needle[i]:\n",
    "                idxMatch += 1\n",
    "            pre[i] = idxMatch\n",
    "\n",
    "        idxMatch = 0\n",
    "        for i in range(LH):\n",
    "            while idxMatch > 0 and haystack[i] != needle[idxMatch]:\n",
    "                idxMatch = pre[idxMatch-1]\n",
    "                # the max rollback length is idxMatch, which need to be matched during\n",
    "                # previous steps\n",
    "                # in total we do 2 * LH, we match step by step and roll back maximum maybe\n",
    "            if haystack[i] == needle[idxMatch]:\n",
    "                idxMatch += 1\n",
    "            if idxMatch == LN:\n",
    "                return i-LN+1\n",
    "        return -1"
   ]
  },
  {
   "cell_type": "markdown",
   "metadata": {},
   "source": [
    "68. Text Justification\n",
    "\n",
    "Given an array of strings words and a width maxWidth, format the text such that each line has exactly maxWidth characters and is fully (left and right) justified.\n",
    "\n",
    "You should pack your words in a greedy approach; that is, pack as many words as you can in each line. Pad extra spaces ' ' when necessary so that each line has exactly maxWidth characters.\n",
    "\n",
    "Extra spaces between words should be distributed as evenly as possible. If the number of spaces on a line does not divide evenly between words, the empty slots on the left will be assigned more spaces than the slots on the right.\n",
    "\n",
    "For the last line of text, it should be left-justified, and no extra space is inserted between words.\n",
    "\n",
    "Note:\n",
    "\n",
    "A word is defined as a character sequence consisting of non-space characters only.\n",
    "Each word's length is guaranteed to be greater than 0 and not exceed maxWidth.\n",
    "The input array words contains at least one word."
   ]
  },
  {
   "cell_type": "code",
   "execution_count": null,
   "metadata": {},
   "outputs": [],
   "source": [
    "class Solution:\n",
    "    def fullJustify(self, words: List[str], maxWidth: int) -> List[str]:\n",
    "        res = []\n",
    "        if not words:\n",
    "            return res\n",
    "        curWords = []\n",
    "        curlen = 0\n",
    "        for w in words:\n",
    "            wlen = len(w)\n",
    "            if wlen > maxWidth:\n",
    "                return None\n",
    "            nextlen = 0 if len(curWords) == 0 else 1 # space to connect next word at minimum\n",
    "            nextlen += curlen + wlen\n",
    "            if nextlen <= maxWidth:\n",
    "                curlen = nextlen\n",
    "                curWords.append(w)\n",
    "            else:\n",
    "                gaps = max(len(curWords) -1, 0)\n",
    "                cntChar = curlen-gaps\n",
    "                space = maxWidth - cntChar\n",
    "                avgSpace = space // gaps if gaps > 0 else space\n",
    "                leftSpace = space % gaps if gaps > 0 else 0\n",
    "                curline =[curWords[0]]\n",
    "                for i in range(max(gaps, 1)):\n",
    "                    numSpace = avgSpace\n",
    "                    if leftSpace > 0:\n",
    "                        numSpace += 1\n",
    "                        leftSpace -= 1\n",
    "                    curline.append(' ' * numSpace)\n",
    "                    if i+1 < len(curWords):\n",
    "                        curline.append(curWords[i+1])\n",
    "                res.append(''.join(curline))\n",
    "                curWords = [w]\n",
    "                curlen = wlen\n",
    "\n",
    "            \n",
    "        if curWords:\n",
    "            rightSpace = maxWidth - curlen\n",
    "            res.append(' '.join(curWords) + ' ' * rightSpace)\n",
    "        return res\n"
   ]
  },
  {
   "cell_type": "code",
   "execution_count": null,
   "metadata": {},
   "outputs": [],
   "source": [
    "class Solution:\n",
    "    def fullJustify(self, words: List[str], maxWidth: int) -> List[str]:\n",
    "        res = []\n",
    "        if not words:\n",
    "            return res\n",
    "        curWords = []\n",
    "        curlen = 0\n",
    "        for w in words:\n",
    "            wlen = len(w)\n",
    "            if wlen > maxWidth:\n",
    "                return None\n",
    "            nextlen = 0 if len(curWords) == 0 else 1 # space to connect next word at minimum\n",
    "            nextlen += curlen + wlen\n",
    "            if nextlen <= maxWidth:\n",
    "                curlen = nextlen\n",
    "                curWords.append(w)\n",
    "            else: # add current word will exceed this line max width\n",
    "                gaps = max(len(curWords) -1, 0)\n",
    "                if gaps == 0: # only one word\n",
    "                    space = maxWidth - len(curWords[0])\n",
    "                    res.append(curWords[0]+ ' '*space)\n",
    "                else:\n",
    "                    cntChar = curlen-gaps\n",
    "                    space = maxWidth - cntChar\n",
    "                    avgSpace = space // gaps \n",
    "                    leftSpace = space % gaps \n",
    "                    curline =[curWords[0]]\n",
    "                    for i in range(gaps):\n",
    "                        numSpace = avgSpace\n",
    "                        if leftSpace > 0:\n",
    "                            numSpace += 1\n",
    "                            leftSpace -= 1\n",
    "                        curline.append(' ' * numSpace)\n",
    "                        curline.append(curWords[i+1])\n",
    "                    res.append(''.join(curline))\n",
    "                curWords = [w]\n",
    "                curlen = wlen\n",
    "\n",
    "            \n",
    "        if curWords:\n",
    "            rightSpace = maxWidth - curlen\n",
    "            res.append(' '.join(curWords) + ' ' * rightSpace)\n",
    "        return res"
   ]
  },
  {
   "cell_type": "markdown",
   "metadata": {},
   "source": [
    "15. 3Sum\n",
    "\n",
    "Given an integer array nums, return all the triplets [nums[i], nums[j], nums[k]] such that i != j, i != k, and j != k, and nums[i] + nums[j] + nums[k] == 0.\n",
    "\n",
    "Notice that the solution set must not contain duplicate triplets."
   ]
  },
  {
   "cell_type": "code",
   "execution_count": null,
   "metadata": {},
   "outputs": [],
   "source": [
    "class Solution:\n",
    "    def threeSum(self, nums: List[int]) -> List[List[int]]:\n",
    "        res = []\n",
    "        nums.sort()\n",
    "        L = len(nums)\n",
    "        for i in range(L-2):\n",
    "            if i>0 and nums[i] == nums[i-1]:\n",
    "                continue\n",
    "            s, e = i+1, L-1\n",
    "            while s < e:\n",
    "                if nums[s] + nums[e] > -nums[i]:\n",
    "                    e -= 1\n",
    "                elif nums[s] + nums[e] < -nums[i]:\n",
    "                    s += 1\n",
    "                else:\n",
    "                    res.append([nums[i], nums[s], nums[e]])\n",
    "                    ts = nums[s]\n",
    "                    while ts == nums[s] and s < e:\n",
    "                        s += 1\n",
    "        return res\n",
    "\n"
   ]
  },
  {
   "cell_type": "markdown",
   "metadata": {},
   "source": [
    "3. Longest Substring Without Repeating Characters\n",
    "\n",
    "Given a string s, find the length of the longest \n",
    "substring\n",
    " without repeating characters."
   ]
  },
  {
   "cell_type": "code",
   "execution_count": 21,
   "metadata": {},
   "outputs": [
    {
     "data": {
      "text/plain": [
       "3"
      ]
     },
     "execution_count": 21,
     "metadata": {},
     "output_type": "execute_result"
    }
   ],
   "source": [
    "class Solution:\n",
    "    def lengthOfLongestSubstring(self, s: str) -> int:\n",
    "        char2cnt = {}\n",
    "        duplicates = set()\n",
    "        res = 0\n",
    "        slow, fast = 0,0\n",
    "        L = len(s)\n",
    "        while fast < L:\n",
    "            if s[fast] in char2cnt:\n",
    "                duplicates.add(s[fast])\n",
    "                char2cnt[s[fast]] += 1\n",
    "                while duplicates and slow < fast:\n",
    "                    char2cnt[s[slow]] -= 1\n",
    "                    if char2cnt[s[slow]] == 1:\n",
    "                        duplicates.discard(s[slow])\n",
    "                    elif char2cnt[s[slow]] == 0:\n",
    "                        char2cnt.pop(s[slow])\n",
    "                    slow += 1\n",
    "            else:\n",
    "                char2cnt[s[fast]] = 1\n",
    "            if not duplicates:\n",
    "                res = max(res, fast - slow + 1)\n",
    "            fast += 1\n",
    "        return res\n",
    "\n",
    "# Solution().lengthOfLongestSubstring(\"pwwkew\")\n"
   ]
  },
  {
   "cell_type": "markdown",
   "metadata": {},
   "source": [
    "30. Substring with Concatenation of All Words\n",
    "\n",
    "You are given a string s and an array of strings words. All the strings of words are of the same length.\n",
    "\n",
    "A concatenated string is a string that exactly contains all the strings of any permutation of words concatenated.\n",
    "\n",
    "For example, if words = [\"ab\",\"cd\",\"ef\"], then \"abcdef\", \"abefcd\", \"cdabef\", \"cdefab\", \"efabcd\", and \"efcdab\" are all concatenated strings. \"acdbef\" is not a concatenated string because it is not the concatenation of any permutation of words.\n",
    "Return an array of the starting indices of all the concatenated substrings in s. You can return the answer in any order."
   ]
  },
  {
   "cell_type": "code",
   "execution_count": 25,
   "metadata": {},
   "outputs": [
    {
     "data": {
      "text/plain": [
       "[0, 9]"
      ]
     },
     "execution_count": 25,
     "metadata": {},
     "output_type": "execute_result"
    }
   ],
   "source": [
    "import collections # time limit execeed \n",
    "class Solution:\n",
    "    def findSubstring(self, s: str, words: List[str]) -> List[int]:\n",
    "        wset = set(words)\n",
    "        wcnt = collections.Counter(words)\n",
    "        W = len(words)\n",
    "        L = len(words[0])\n",
    "        wi = []\n",
    "        i2w = {}\n",
    "        for i in range(len(s)-L+1):\n",
    "            pw = s[i:i+L]\n",
    "            if pw in wset:\n",
    "                wi.append(i)\n",
    "                i2w[i] = pw\n",
    "        res = []\n",
    "        for i in wi:\n",
    "            wcnt2 = wcnt.copy()\n",
    "            idx = i\n",
    "            while idx in i2w and wcnt2[i2w[idx]] > 0:\n",
    "                w = i2w[idx]\n",
    "                wcnt2[w] -= 1\n",
    "                if wcnt2[w] == 0:\n",
    "                    wcnt2.pop(w)\n",
    "                idx += L\n",
    "            if len(wcnt2) == 0:\n",
    "                res.append(i)\n",
    "\n",
    "        return res\n",
    "            \n",
    "\n",
    "\n",
    "# Solution().findSubstring(\"barfoothefoobarman\", [\"foo\",\"bar\"])\n"
   ]
  },
  {
   "cell_type": "code",
   "execution_count": null,
   "metadata": {},
   "outputs": [],
   "source": [
    "import collections \n",
    "class Solution:\n",
    "    def findSubstring(self, s: str, words: List[str]) -> List[int]:\n",
    "        wcnt = collections.Counter(words)\n",
    "        W = len(words)\n",
    "        L = len(words[0])\n",
    "\n",
    "        def check(idx):\n",
    "            cnt = wcnt.copy()\n",
    "            w = s[idx: idx+L]\n",
    "            while w in cnt and cnt[w] > 0:\n",
    "                cnt[w] -= 1\n",
    "                if cnt[w] == 0:\n",
    "                    cnt.pop(w)\n",
    "                idx += L\n",
    "                w = s[idx: idx+L]\n",
    "            if not cnt:\n",
    "                return True\n",
    "            else:\n",
    "                return False\n",
    "\n",
    "\n",
    "        res = []\n",
    "        for i in range(len(s)-W*L+1): # start + len -1 = end\n",
    "            if check(i):\n",
    "                res.append(i)\n",
    "\n",
    "       \n",
    "        return res"
   ]
  },
  {
   "cell_type": "markdown",
   "metadata": {},
   "source": [
    "76. Minimum Window Substring\n",
    "\n",
    "Given two strings s and t of lengths m and n respectively, return the minimum window \n",
    "substring\n",
    " of s such that every character in t (including duplicates) is included in the window. If there is no such substring, return the empty string \"\".\n",
    "\n",
    "The testcases will be generated such that the answer is unique."
   ]
  },
  {
   "cell_type": "code",
   "execution_count": null,
   "metadata": {},
   "outputs": [],
   "source": [
    "class Solution:\n",
    "    def minWindow(self, s: str, t: str) -> str:\n",
    "        tcnt = collections.Counter(t)\n",
    "        cnt = collections.Counter()\n",
    "        include = 0\n",
    "        slow= 0\n",
    "        res = \"\"\n",
    "        L = len(s)\n",
    "        for fast in range(L):\n",
    "            c = s[fast]\n",
    "            cnt[c] += 1\n",
    "            if c in tcnt and tcnt[c] == cnt[c]:\n",
    "                include += 1\n",
    "            while include == len(tcnt.keys()):\n",
    "                if fast - slow + 1 < len(res) or len(res) == 0:\n",
    "                    res = s[slow:fast+1]\n",
    "                ch = s[slow]\n",
    "                cnt[ch] -= 1\n",
    "                if ch in tcnt and tcnt[ch] > cnt[ch]:\n",
    "                    include -= 1\n",
    "                slow += 1\n",
    "        return res\n",
    "                \n",
    "\n"
   ]
  },
  {
   "cell_type": "markdown",
   "metadata": {},
   "source": [
    "36. Valid Sudoku\n",
    "\n",
    "Determine if a 9 x 9 Sudoku board is valid. Only the filled cells need to be validated according to the following rules:\n",
    "\n",
    "Each row must contain the digits 1-9 without repetition.\n",
    "Each column must contain the digits 1-9 without repetition.\n",
    "Each of the nine 3 x 3 sub-boxes of the grid must contain the digits 1-9 without repetition.\n",
    "Note:\n",
    "\n",
    "A Sudoku board (partially filled) could be valid but is not necessarily solvable.\n",
    "Only the filled cells need to be validated according to the mentioned rules.\n"
   ]
  },
  {
   "cell_type": "code",
   "execution_count": null,
   "metadata": {},
   "outputs": [],
   "source": [
    "class Solution:\n",
    "    def isValidSudoku(self, board: List[List[str]]) -> bool:\n",
    "        rows = [[0] * 9 for _ in range(9)]\n",
    "        cols = [[0] * 9 for _ in range(9)]\n",
    "        square = [[0] * 9 for _ in range(9)]\n",
    "        for i in range(9):\n",
    "            for j in range(9):\n",
    "                c = board[i][j]\n",
    "                if c == '.':\n",
    "                    continue\n",
    "                num = int(c)-1 # 1-9 => 0-8\n",
    "                if rows[i][num] or cols[j][num] or square[i//3 *3 + j//3][num]:\n",
    "                    return False\n",
    "                else:\n",
    "                    rows[i][num] =1 \n",
    "                    cols[j][num] =1\n",
    "                    square[i//3 *3 + j//3][num] =1\n",
    "        return True\n",
    "    \n",
    "\n"
   ]
  },
  {
   "cell_type": "markdown",
   "metadata": {},
   "source": [
    "54. Spiral Matrix\n",
    "\n",
    "Given an m x n matrix, return all elements of the matrix in spiral order."
   ]
  },
  {
   "cell_type": "code",
   "execution_count": 1,
   "metadata": {},
   "outputs": [
    {
     "data": {
      "text/plain": [
       "[1, 2, 3, 4, 8, 12, 11, 10, 9, 5, 6, 7]"
      ]
     },
     "execution_count": 1,
     "metadata": {},
     "output_type": "execute_result"
    }
   ],
   "source": [
    "from typing import List\n",
    "class Solution:\n",
    "    def spiralOrder(self, matrix: List[List[int]]) -> List[int]:\n",
    "        R = len(matrix)\n",
    "        C = len(matrix[0])\n",
    "        res = []\n",
    "        startrow = 0\n",
    "        endrow = R\n",
    "        startcol = 0\n",
    "        endcol = C\n",
    "        while startrow < endrow and startcol < endcol:\n",
    "            for col in range(startcol, endcol):\n",
    "                # if startrow < 0 or startrow>endrow-1:\n",
    "                #     continue\n",
    "                res.append(matrix[startrow][col])\n",
    "            startrow += 1\n",
    "            if not (startrow < endrow and startcol < endcol):\n",
    "                break\n",
    "            for row in range(startrow, endrow):\n",
    "                # if endcol-1 < 0 or endcol-1 < startcol:\n",
    "                #     continue\n",
    "                res.append(matrix[row][endcol-1])\n",
    "            endcol -= 1\n",
    "            if not (startrow < endrow and startcol < endcol):\n",
    "                break\n",
    "            for col in range(endcol-1, startcol-1, -1):\n",
    "                # if endrow-1 < 0 or endrow-1 < startrow:\n",
    "                #     continue\n",
    "                res.append(matrix[endrow-1][col])\n",
    "            endrow -= 1\n",
    "            if not (startrow < endrow and startcol < endcol):\n",
    "                break\n",
    "            for row in range(endrow-1, startrow-1, -1):\n",
    "                # if startcol < 0 or startcol > endcol-1:\n",
    "                #     continue\n",
    "                res.append(matrix[row][startcol])\n",
    "            startcol += 1\n",
    "        return res\n",
    "\n",
    "# Solution().spiralOrder([[1,2,3,4],[5,6,7,8],[9,10,11,12]])"
   ]
  },
  {
   "cell_type": "markdown",
   "metadata": {},
   "source": [
    "73. Set Matrix Zeroes\n",
    "\n",
    "Given an m x n integer matrix matrix, if an element is 0, set its entire row and column to 0's.\n",
    "\n",
    "You must do it in place."
   ]
  },
  {
   "cell_type": "code",
   "execution_count": null,
   "metadata": {},
   "outputs": [],
   "source": [
    "class Solution:\n",
    "    def setZeroes(self, matrix: List[List[int]]) -> None:\n",
    "        \"\"\"\n",
    "        Do not return anything, modify matrix in-place instead.\n",
    "        \"\"\"\n",
    "        R = len(matrix)\n",
    "        C = len(matrix[0])\n",
    "        firstRowZero = False\n",
    "        firstColZero = False\n",
    "        for i in range(R):\n",
    "            if matrix[i][0] == 0:\n",
    "                firstColZero = True\n",
    "                break\n",
    "        for j in range(C):\n",
    "            if matrix[0][j] == 0:\n",
    "                firstRowZero = True\n",
    "                break\n",
    "        for i in range(1,R):\n",
    "            for j in range(1,C):\n",
    "                if matrix[i][j] == 0:\n",
    "                    matrix[0][j] = 0\n",
    "                    matrix[i][0] = 0\n",
    "        \n",
    "        for i in range(1, R):\n",
    "            if matrix[i][0] == 0:\n",
    "                for j in range(1,C):\n",
    "                    matrix[i][j] = 0\n",
    "\n",
    "        for j in range(1,C):\n",
    "            if matrix[0][j] == 0:\n",
    "                for i in range(1,R):\n",
    "                    matrix[i][j] = 0\n",
    "\n",
    "        if firstColZero:\n",
    "            for i in range(R):\n",
    "                matrix[i][0] = 0\n",
    "        if firstRowZero:\n",
    "            for j in range(C):\n",
    "                matrix[0][j] = 0\n",
    "        "
   ]
  },
  {
   "cell_type": "markdown",
   "metadata": {},
   "source": [
    "289. Game of Life\n",
    "\n",
    "According to Wikipedia's article: \"The Game of Life, also known simply as Life, is a cellular automaton devised by the British mathematician John Horton Conway in 1970.\"\n",
    "\n",
    "The board is made up of an m x n grid of cells, where each cell has an initial state: live (represented by a 1) or dead (represented by a 0). Each cell interacts with its eight neighbors (horizontal, vertical, diagonal) using the following four rules (taken from the above Wikipedia article):\n",
    "\n",
    "Any live cell with fewer than two live neighbors dies as if caused by under-population.\n",
    "Any live cell with two or three live neighbors lives on to the next generation.\n",
    "Any live cell with more than three live neighbors dies, as if by over-population.\n",
    "Any dead cell with exactly three live neighbors becomes a live cell, as if by reproduction.\n",
    "The next state is created by applying the above rules simultaneously to every cell in the current state, where births and deaths occur simultaneously. Given the current state of the m x n grid board, return the next state."
   ]
  },
  {
   "cell_type": "code",
   "execution_count": null,
   "metadata": {},
   "outputs": [],
   "source": [
    "class Solution:\n",
    "    def gameOfLife(self, board: List[List[int]]) -> None:\n",
    "        \"\"\"\n",
    "        Do not return anything, modify board in-place instead.\n",
    "        \"\"\"\n",
    "        R = len(board)\n",
    "        C = len(board[0])\n",
    "        for i in range(R):\n",
    "            for j in range(C):\n",
    "                livecnt = 0 \n",
    "                # 1->0 => 10\n",
    "                # 1->1 => 1\n",
    "                # 0->1 => -1\n",
    "                # 0->0 => 0\n",
    "                for di, dj in (-1,0), (1,0), (0,-1), (0,1),(-1,-1),(1,1),(-1,1),(1,-1):\n",
    "                    ni, nj = i+di, j+dj\n",
    "                    if ni < 0 or ni > R-1 or nj < 0 or nj > C-1:\n",
    "                        continue\n",
    "                    c = board[ni][nj]\n",
    "                    if c in (10, 1):\n",
    "                        livecnt += 1\n",
    "                cnext = board[i][j]\n",
    "                if cnext == 1 and (livecnt < 2 or livecnt >3):\n",
    "                    cnext = 10\n",
    "                if cnext == 0 and livecnt == 3:\n",
    "                    cnext = -1\n",
    "                board[i][j] = cnext\n",
    "\n",
    "        for i in range(R):\n",
    "            for j in range(C):\n",
    "                c = board[i][j]\n",
    "                cnext = c \n",
    "                if c == 10:\n",
    "                    cnext = 0\n",
    "                if c == -1:\n",
    "                    cnext = 1\n",
    "                board[i][j] = cnext\n",
    "\n",
    "\n",
    "        "
   ]
  },
  {
   "cell_type": "markdown",
   "metadata": {},
   "source": [
    "383. Ransom Note\n",
    "\n",
    "Given two strings ransomNote and magazine, return true if ransomNote can be constructed by using the letters from magazine and false otherwise.\n",
    "\n",
    "Each letter in magazine can only be used once in ransomNote."
   ]
  },
  {
   "cell_type": "code",
   "execution_count": 5,
   "metadata": {},
   "outputs": [
    {
     "data": {
      "text/plain": [
       "True"
      ]
     },
     "execution_count": 5,
     "metadata": {},
     "output_type": "execute_result"
    }
   ],
   "source": [
    "import collections\n",
    "class Solution:\n",
    "    def canConstruct(self, ransomNote: str, magazine: str) -> bool:\n",
    "        note = collections.Counter(ransomNote)\n",
    "        mag = collections.Counter(magazine)\n",
    "        diff = note-mag # from note remove mag, then it is empty\n",
    "        return not diff\n",
    "    \n",
    "# Solution().canConstruct(\"aa\", \"aab\")"
   ]
  },
  {
   "cell_type": "markdown",
   "metadata": {},
   "source": [
    "205. Isomorphic Strings\n",
    "\n",
    "Given two strings s and t, determine if they are isomorphic.\n",
    "\n",
    "Two strings s and t are isomorphic if the characters in s can be replaced to get t.\n",
    "\n",
    "All occurrences of a character must be replaced with another character while preserving the order of characters. No two characters may map to the same character, but a character may map to itself."
   ]
  },
  {
   "cell_type": "code",
   "execution_count": null,
   "metadata": {},
   "outputs": [],
   "source": [
    "class Solution:\n",
    "    def isIsomorphic(self, s: str, t: str) -> bool:\n",
    "        LS = len(s)\n",
    "        LT = len(t)\n",
    "        if LS != LT:\n",
    "            return False\n",
    "        s2t = {}\n",
    "        t2s = {}\n",
    "        for i in range(LS):\n",
    "            chs = s[i]\n",
    "            cht = t[i]\n",
    "            if chs not in s2t and cht not in t2s:\n",
    "                s2t[chs] = cht\n",
    "                t2s[cht] = chs\n",
    "            # elif chs in s2t and s2t[chs] != cht:\n",
    "            #     return False\n",
    "            # elif cht in t2s and t2s[cht] != chs:\n",
    "            #     return False\n",
    "            elif chs in s2t and cht in t2s and s2t[chs] == cht and t2s[cht] == chs:\n",
    "                continue\n",
    "            else:\n",
    "                return False\n",
    "        return True\n"
   ]
  },
  {
   "cell_type": "markdown",
   "metadata": {},
   "source": [
    "290. Word Pattern\n",
    "\n",
    "Given a pattern and a string s, find if s follows the same pattern.\n",
    "\n",
    "Here follow means a full match, such that there is a bijection between a letter in pattern and a non-empty word in s."
   ]
  },
  {
   "cell_type": "code",
   "execution_count": null,
   "metadata": {},
   "outputs": [],
   "source": [
    "class Solution:\n",
    "    def wordPattern(self, pattern: str, s: str) -> bool:\n",
    "        LP = len(pattern)\n",
    "        words = s.split(' ')\n",
    "        LW = len(words)\n",
    "        if LP != LW:\n",
    "            return False\n",
    "        p2w = {}\n",
    "        w2p = {}\n",
    "        for i in range(LP):\n",
    "            p = pattern[i]\n",
    "            w = words[i]\n",
    "            if p not in p2w and w not in w2p:\n",
    "                p2w[p] = w\n",
    "                w2p[w] = p\n",
    "            elif p in p2w and w in w2p and p2w[p] == w and w2p[w] == p:\n",
    "                continue\n",
    "            else:\n",
    "                return False\n",
    "        return True"
   ]
  },
  {
   "cell_type": "markdown",
   "metadata": {},
   "source": [
    "242. Valid Anagram\n",
    "\n",
    "Given two strings s and t, return true if t is an anagram of s, and false otherwise.\n",
    "\n",
    "An Anagram is a word or phrase formed by rearranging the letters of a different word or phrase, typically using all the original letters exactly once."
   ]
  },
  {
   "cell_type": "code",
   "execution_count": null,
   "metadata": {},
   "outputs": [],
   "source": [
    "class Solution:\n",
    "    def isAnagram(self, s: str, t: str) -> bool:\n",
    "        scnt = collections.Counter(s)\n",
    "        tcnt = collections.Counter(t)\n",
    "        return not scnt-tcnt and not tcnt-scnt"
   ]
  },
  {
   "cell_type": "markdown",
   "metadata": {},
   "source": [
    "\n",
    "1. Two Sum\n",
    "\n",
    "Given an array of integers nums and an integer target, return indices of the two numbers such that they add up to target.\n",
    "\n",
    "You may assume that each input would have exactly one solution, and you may not use the same element twice.\n",
    "\n",
    "You can return the answer in any order."
   ]
  },
  {
   "cell_type": "code",
   "execution_count": null,
   "metadata": {},
   "outputs": [],
   "source": [
    "class Solution:\n",
    "    def twoSum(self, nums: List[int], target: int) -> List[int]:\n",
    "        n2i = {}\n",
    "        for i in range(len(nums)):\n",
    "            cur = nums[i]\n",
    "            if target - cur in n2i:\n",
    "                return [n2i[target-cur], i]\n",
    "            n2i[cur] = i\n",
    "        return []"
   ]
  },
  {
   "cell_type": "markdown",
   "metadata": {},
   "source": [
    "202. Happy Number\n",
    "\n",
    "Write an algorithm to determine if a number n is happy.\n",
    "\n",
    "A happy number is a number defined by the following process:\n",
    "\n",
    "Starting with any positive integer, replace the number by the sum of the squares of its digits.\n",
    "Repeat the process until the number equals 1 (where it will stay), or it loops endlessly in a cycle which does not include 1.\n",
    "Those numbers for which this process ends in 1 are happy.\n",
    "Return true if n is a happy number, and false if not."
   ]
  },
  {
   "cell_type": "code",
   "execution_count": 10,
   "metadata": {},
   "outputs": [
    {
     "data": {
      "text/plain": [
       "True"
      ]
     },
     "execution_count": 10,
     "metadata": {},
     "output_type": "execute_result"
    }
   ],
   "source": [
    "class Solution:\n",
    "    def isHappy(self, n: int) -> bool:\n",
    "        if n == 1:\n",
    "            return True\n",
    "        path = set()\n",
    "        while True:\n",
    "            if n in path:\n",
    "                return False\n",
    "            path.add(n)\n",
    "            next = 0\n",
    "            while n > 0:\n",
    "                next += (n%10) ** 2\n",
    "                n //= 10\n",
    "            if next == 1:\n",
    "                return True\n",
    "            else:\n",
    "                n = next\n",
    "\n",
    "        return False\n",
    "    \n",
    "Solution().isHappy(19)"
   ]
  },
  {
   "cell_type": "markdown",
   "metadata": {},
   "source": [
    "219. Contains Duplicate II\n",
    "\n",
    "Given an integer array nums and an integer k, return true if there are two distinct indices i and j in the array such that nums[i] == nums[j] and abs(i - j) <= k."
   ]
  },
  {
   "cell_type": "code",
   "execution_count": null,
   "metadata": {},
   "outputs": [],
   "source": [
    "class Solution:\n",
    "    def containsNearbyDuplicate(self, nums: List[int], k: int) -> bool:\n",
    "        n2i = {}\n",
    "        for i in range(len(nums)):\n",
    "            n = nums[i]\n",
    "            if n in n2i and i - n2i[n] <=k: \n",
    "            # index range smaller than k, then the last occurance is best chance to be true\n",
    "                return True\n",
    "            n2i[n] = i\n",
    "        return False"
   ]
  },
  {
   "cell_type": "markdown",
   "metadata": {},
   "source": [
    "128. Longest Consecutive Sequence\n",
    "\n",
    "Given an unsorted array of integers nums, return the length of the longest consecutive elements sequence.\n",
    "\n",
    "You must write an algorithm that runs in O(n) time."
   ]
  },
  {
   "cell_type": "code",
   "execution_count": null,
   "metadata": {},
   "outputs": [],
   "source": [
    "class Solution:\n",
    "    def longestConsecutive(self, nums: List[int]) -> int:\n",
    "        nset = set(nums)\n",
    "        res = 0\n",
    "        for n in nums:\n",
    "            cur = 1\n",
    "            tmp = n\n",
    "            nset.discard(tmp)\n",
    "            while tmp - 1 in nset:\n",
    "                cur += 1\n",
    "                nset.discard(tmp-1)\n",
    "                tmp -= 1\n",
    "            tmp = n\n",
    "            while tmp + 1 in nset:\n",
    "                cur += 1\n",
    "                nset.discard(tmp+1)\n",
    "                tmp += 1\n",
    "\n",
    "            res = max(res, cur)\n",
    "        return res\n"
   ]
  },
  {
   "cell_type": "markdown",
   "metadata": {},
   "source": [
    "228. Summary Ranges\n",
    "\n",
    "You are given a sorted unique integer array nums.\n",
    "\n",
    "A range [a,b] is the set of all integers from a to b (inclusive).\n",
    "\n",
    "Return the smallest sorted list of ranges that cover all the numbers in the array exactly. That is, each element of nums is covered by exactly one of the ranges, and there is no integer x such that x is in one of the ranges but not in nums.\n",
    "\n",
    "Each range [a,b] in the list should be output as:\n",
    "\n",
    "\"a->b\" if a != b\n",
    "\"a\" if a == b"
   ]
  },
  {
   "cell_type": "code",
   "execution_count": null,
   "metadata": {},
   "outputs": [],
   "source": [
    "class Solution:\n",
    "    def summaryRanges(self, nums: List[int]) -> List[str]:\n",
    "        res = []\n",
    "        if not nums:\n",
    "            return res\n",
    "        start, end = None, None\n",
    "\n",
    "        def printRange(start, end):\n",
    "            if start == end:\n",
    "                return str(start)\n",
    "            return str(start) +'->'+str(end)\n",
    "\n",
    "        for i,n in enumerate(nums):\n",
    "            if i==0 or n > nums[i-1]+1:\n",
    "                if start is not None:\n",
    "                    res.append(printRange(start, end))\n",
    "                start = n\n",
    "                end = n\n",
    "            elif n == nums[i-1]+1:\n",
    "                end = n\n",
    "        \n",
    "        res.append(printRange(start, end))\n",
    "        return res\n",
    "\n"
   ]
  },
  {
   "cell_type": "markdown",
   "metadata": {},
   "source": [
    "56. Merge Intervals\n",
    "\n",
    "Given an array of intervals where intervals[i] = [starti, endi], merge all overlapping intervals, and return an array of the non-overlapping intervals that cover all the intervals in the input."
   ]
  },
  {
   "cell_type": "code",
   "execution_count": null,
   "metadata": {},
   "outputs": [],
   "source": [
    "class Solution:\n",
    "    def merge(self, intervals: List[List[int]]) -> List[List[int]]:\n",
    "        elements = []\n",
    "        for start, end in intervals:\n",
    "            elements.append((start,-1)) # start first if start time == end time previous\n",
    "            elements.append((end,1))\n",
    "        elements.sort()\n",
    "        res = []\n",
    "        cur = 0\n",
    "        start = None\n",
    "        for t, s in elements:\n",
    "            if start is None: # not in any inteval yet\n",
    "                start = t\n",
    "            cur += s\n",
    "            if cur == 0:\n",
    "                res.append([start, t])\n",
    "                start = None\n",
    "\n",
    "        return res\n"
   ]
  },
  {
   "cell_type": "markdown",
   "metadata": {},
   "source": [
    "452. Minimum Number of Arrows to Burst Balloons\n",
    "\n",
    "There are some spherical balloons taped onto a flat wall that represents the XY-plane. The balloons are represented as a 2D integer array points where points[i] = [xstart, xend] denotes a balloon whose horizontal diameter stretches between xstart and xend. You do not know the exact y-coordinates of the balloons.\n",
    "\n",
    "Arrows can be shot up directly vertically (in the positive y-direction) from different points along the x-axis. A balloon with xstart and xend is burst by an arrow shot at x if xstart <= x <= xend. There is no limit to the number of arrows that can be shot. A shot arrow keeps traveling up infinitely, bursting any balloons in its path.\n",
    "\n",
    "Given the array points, return the minimum number of arrows that must be shot to burst all balloons."
   ]
  },
  {
   "cell_type": "code",
   "execution_count": null,
   "metadata": {},
   "outputs": [],
   "source": [
    "class Solution:\n",
    "    def findMinArrowShots(self, points: List[List[int]]) -> int:\n",
    "        edges = []\n",
    "        for i, [s,e] in enumerate(points):\n",
    "            edges.append((s,-1, i)) # first start, then end if at the same position, because edge position can break balloon\n",
    "            edges.append((e,1, i))\n",
    "        edges.sort()\n",
    "        res = 0\n",
    "        adding = None\n",
    "        curSet = set() # currently overlapping with overlap positions\n",
    "        for _, s, i in edges:\n",
    "            if adding and s == 1 and i in curSet: \n",
    "                # first ending after continuously adding \n",
    "                # this is max overlapping with same position \n",
    "                res += 1 # one arraw to break all\n",
    "                adding = False\n",
    "                curSet.clear() # all balloons are destroyed\n",
    "            elif s == -1:\n",
    "                adding = True\n",
    "                curSet.add(i)\n",
    "            \n",
    "        return res\n",
    "\n"
   ]
  },
  {
   "cell_type": "markdown",
   "metadata": {},
   "source": [
    "20. Valid Parentheses\n",
    "\n",
    "Given a string s containing just the characters '(', ')', '{', '}', '[' and ']', determine if the input string is valid.\n",
    "\n",
    "An input string is valid if:\n",
    "\n",
    "Open brackets must be closed by the same type of brackets.\n",
    "Open brackets must be closed in the correct order.\n",
    "Every close bracket has a corresponding open bracket of the same type."
   ]
  },
  {
   "cell_type": "code",
   "execution_count": null,
   "metadata": {},
   "outputs": [],
   "source": [
    "class Solution:\n",
    "    def isValid(self, s: str) -> bool:\n",
    "        lefts = \"([{\"\n",
    "        rights = \")]}\"\n",
    "        r2l = {}\n",
    "        for l, r in zip(lefts, rights):\n",
    "            r2l[r] = l\n",
    "        stack = []\n",
    "        for c in s:\n",
    "            if c in lefts:\n",
    "                stack.append(c)\n",
    "            elif c in rights:\n",
    "                if stack and r2l[c] == stack[-1]:\n",
    "                    stack.pop()\n",
    "                else:\n",
    "                    return False\n",
    "        return not stack"
   ]
  },
  {
   "cell_type": "markdown",
   "metadata": {},
   "source": [
    "155. Min Stack\n",
    "\n",
    "Design a stack that supports push, pop, top, and retrieving the minimum element in constant time.\n",
    "\n",
    "Implement the MinStack class:\n",
    "\n",
    "MinStack() initializes the stack object.\n",
    "void push(int val) pushes the element val onto the stack.\n",
    "void pop() removes the element on the top of the stack.\n",
    "int top() gets the top element of the stack.\n",
    "int getMin() retrieves the minimum element in the stack.\n",
    "You must implement a solution with O(1) time complexity for each function."
   ]
  },
  {
   "cell_type": "code",
   "execution_count": null,
   "metadata": {},
   "outputs": [],
   "source": [
    "class MinStack:\n",
    "\n",
    "    def __init__(self):\n",
    "        self.stack = []\n",
    "        self.min = []\n",
    "\n",
    "        \n",
    "\n",
    "    def push(self, val: int) -> None:\n",
    "        self.stack.append(val)\n",
    "        if not self.min or val <= self.min[-1]: # add same min value, need to add to min stack\n",
    "            self.min.append(val)\n",
    "        \n",
    "        \n",
    "\n",
    "    def pop(self) -> None:\n",
    "        val = self.stack.pop()\n",
    "        if val == self.min[-1]: # remove the min stack if the val is minimum value\n",
    "            self.min.pop()\n",
    "        \n",
    "\n",
    "    def top(self) -> int:\n",
    "        return self.stack[-1]\n",
    "        \n",
    "\n",
    "    def getMin(self) -> int:\n",
    "        return self.min[-1]\n",
    "        \n",
    "\n",
    "\n",
    "# Your MinStack object will be instantiated and called as such:\n",
    "# obj = MinStack()\n",
    "# obj.push(val)\n",
    "# obj.pop()\n",
    "# param_3 = obj.top()\n",
    "# param_4 = obj.getMin()"
   ]
  },
  {
   "cell_type": "code",
   "execution_count": null,
   "metadata": {},
   "outputs": [],
   "source": [
    "class MinStack:\n",
    "\n",
    "    def __init__(self):\n",
    "        self.stack = []\n",
    "        \n",
    "\n",
    "    def push(self, val: int) -> None:\n",
    "        curMin = val if not self.stack else min(val, self.stack[-1][1])\n",
    "        self.stack.append((val, curMin))\n",
    "\n",
    "        \n",
    "\n",
    "    def pop(self) -> None:\n",
    "        if self.stack:\n",
    "            self.stack.pop()\n",
    "        \n",
    "\n",
    "    def top(self) -> int:\n",
    "        # if not self.stack:\n",
    "        #     return None\n",
    "        return self.stack[-1][0]\n",
    "        \n",
    "\n",
    "    def getMin(self) -> int:\n",
    "        # if not self.stack:\n",
    "        #     return None\n",
    "        return self.stack[-1][1]\n",
    "        \n",
    "\n",
    "\n",
    "# Your MinStack object will be instantiated and called as such:\n",
    "# obj = MinStack()\n",
    "# obj.push(val)\n",
    "# obj.pop()\n",
    "# param_3 = obj.top()\n",
    "# param_4 = obj.getMin()"
   ]
  },
  {
   "cell_type": "markdown",
   "metadata": {},
   "source": [
    "150. Evaluate Reverse Polish Notation\n",
    "\n",
    "You are given an array of strings tokens that represents an arithmetic expression in a Reverse Polish Notation.\n",
    "\n",
    "Evaluate the expression. Return an integer that represents the value of the expression.\n",
    "\n",
    "Note that:\n",
    "\n",
    "The valid operators are '+', '-', '*', and '/'.\n",
    "Each operand may be an integer or another expression.\n",
    "The division between two integers always truncates toward zero.\n",
    "There will not be any division by zero.\n",
    "The input represents a valid arithmetic expression in a reverse polish notation.\n",
    "The answer and all the intermediate calculations can be represented in a 32-bit integer."
   ]
  },
  {
   "cell_type": "code",
   "execution_count": 16,
   "metadata": {},
   "outputs": [
    {
     "data": {
      "text/plain": [
       "22"
      ]
     },
     "execution_count": 16,
     "metadata": {},
     "output_type": "execute_result"
    }
   ],
   "source": [
    "class Solution:\n",
    "    def evalRPN(self, tokens: List[str]) -> int:\n",
    "        stack = []\n",
    "        for t in tokens:\n",
    "            if t not in '+-*/':\n",
    "                stack.append(int(t))\n",
    "            else:\n",
    "                two = stack.pop()\n",
    "                one = stack.pop()\n",
    "                next = None\n",
    "                if t == '+':\n",
    "                    next = one + two\n",
    "                elif t == '-':\n",
    "                    next = one - two\n",
    "                elif t == '*':\n",
    "                    next = one * two\n",
    "                elif t == '/':\n",
    "                    next = int(one / two) # round to 0\n",
    "                stack.append(next)\n",
    "\n",
    "        return stack[-1]\n",
    "    \n",
    "\n",
    "\n",
    "# Solution().evalRPN([\"10\",\"6\",\"9\",\"3\",\"+\",\"-11\",\"*\",\"/\",\"*\",\"17\",\"+\",\"5\",\"+\"])"
   ]
  },
  {
   "cell_type": "markdown",
   "metadata": {},
   "source": [
    "224. Basic Calculator\n",
    "\n",
    "Given a string s representing a valid expression, implement a basic calculator to evaluate it, and return the result of the evaluation.\n",
    "\n",
    "Note: You are not allowed to use any built-in function which evaluates strings as mathematical expressions, such as eval()."
   ]
  },
  {
   "cell_type": "code",
   "execution_count": 17,
   "metadata": {},
   "outputs": [
    {
     "data": {
      "text/plain": [
       "-1"
      ]
     },
     "execution_count": 17,
     "metadata": {},
     "output_type": "execute_result"
    }
   ],
   "source": [
    "class Solution:\n",
    "    def calculate(self, s: str) -> int:\n",
    "        if not s:\n",
    "            return 0\n",
    "        L = len(s)\n",
    "        \n",
    "        def parse(idx):\n",
    "            res = 0\n",
    "            sign = 1\n",
    "            while idx < L:\n",
    "                c = s[idx]\n",
    "                if c.isdigit():\n",
    "                    start = idx\n",
    "                    while idx+1 < L and s[idx+1].isdigit():\n",
    "                        idx +=1\n",
    "                    num = int(s[start: idx+1])\n",
    "                    res += sign * num\n",
    "                elif c == '-':\n",
    "                    sign = -1\n",
    "                elif c == '+':\n",
    "                    sign = 1\n",
    "                elif c == '(':\n",
    "                    num, idx = parse(idx+1)\n",
    "                    res += sign * num\n",
    "                elif c == ')':\n",
    "                    return res, idx\n",
    "                idx += 1\n",
    "            return res, idx\n",
    "\n",
    "        val, _ = parse(0)\n",
    "        return val\n",
    "    \n",
    "\n",
    "# Solution().calculate(\" 2-1 + 2 \")"
   ]
  },
  {
   "cell_type": "code",
   "execution_count": null,
   "metadata": {},
   "outputs": [],
   "source": [
    "class Solution:\n",
    "    def calculate(self, s: str) -> int:\n",
    "        if not s:\n",
    "            return 0\n",
    "        L = len(s)\n",
    "\n",
    "        stack = []\n",
    "        digits = []\n",
    "        res, sign = 0, 1\n",
    "        for i in range(L):\n",
    "            c=s[i]\n",
    "            if c.isdigit():\n",
    "                digits.append(c)\n",
    "            if digits and (i==L-1 or not c.isdigit()):\n",
    "                num = int(''.join(digits))\n",
    "                digits = []\n",
    "                res += sign * num\n",
    "            if c == '-':\n",
    "                sign = -1\n",
    "            elif c == '+':\n",
    "                sign = 1\n",
    "            if c == '(':\n",
    "                stack.append((res, sign))\n",
    "                res = 0\n",
    "                sign = 1\n",
    "            elif c == ')':\n",
    "                preval, presign = stack.pop()\n",
    "                preval += res * presign\n",
    "                res = preval\n",
    "                sign = 1\n",
    "\n",
    "        return res\n",
    "\n",
    "\n",
    "        \n",
    "        \n",
    "    \n",
    "\n",
    "# Solution().calculate(\" 2-1 + 2 \")"
   ]
  },
  {
   "cell_type": "markdown",
   "metadata": {},
   "source": [
    "141. Linked List Cycle\n",
    "\n",
    "Given head, the head of a linked list, determine if the linked list has a cycle in it.\n",
    "\n",
    "There is a cycle in a linked list if there is some node in the list that can be reached again by continuously following the next pointer. Internally, pos is used to denote the index of the node that tail's next pointer is connected to. Note that pos is not passed as a parameter.\n",
    "\n",
    "Return true if there is a cycle in the linked list. Otherwise, return false."
   ]
  },
  {
   "cell_type": "code",
   "execution_count": null,
   "metadata": {},
   "outputs": [],
   "source": [
    "# Definition for singly-linked list.\n",
    "# class ListNode:\n",
    "#     def __init__(self, x):\n",
    "#         self.val = x\n",
    "#         self.next = None\n",
    "\n",
    "class Solution:\n",
    "    def hasCycle(self, head: Optional[ListNode]) -> bool:\n",
    "        slow, fast = head, head\n",
    "        while fast and fast.next:\n",
    "            fast = fast.next.next\n",
    "            slow = slow.next\n",
    "            if fast == slow:\n",
    "                return True\n",
    "        return False\n",
    "     "
   ]
  },
  {
   "cell_type": "markdown",
   "metadata": {},
   "source": [
    "142. Linked List Cycle II\n",
    "\n",
    "Given the head of a linked list, return the node where the cycle begins. If there is no cycle, return null.\n",
    "\n",
    "There is a cycle in a linked list if there is some node in the list that can be reached again by continuously following the next pointer. Internally, pos is used to denote the index of the node that tail's next pointer is connected to (0-indexed). It is -1 if there is no cycle. Note that pos is not passed as a parameter.\n",
    "\n",
    "Do not modify the linked list."
   ]
  },
  {
   "cell_type": "code",
   "execution_count": null,
   "metadata": {},
   "outputs": [],
   "source": [
    "# Definition for singly-linked list.\n",
    "# class ListNode:\n",
    "#     def __init__(self, x):\n",
    "#         self.val = x\n",
    "#         self.next = None\n",
    "\n",
    "class Solution:\n",
    "    def detectCycle(self, head: Optional[ListNode]) -> Optional[ListNode]:\n",
    "\n",
    "        # a from head to cycle\n",
    "        # b from cycle to first meet\n",
    "        # c is cycle length\n",
    "        # when meet: slow go a+b; fast go 2(a+b) == a+b + n*c\n",
    "        # a+b = nc\n",
    "        # fast from head go a, reach the cycle\n",
    "        # slow from b go a which is n*c, reach the cycle entrance\n",
    "        slow =head\n",
    "        fast = slow\n",
    "        cycle = False\n",
    "        while fast and fast.next:\n",
    "            fast = fast.next.next\n",
    "            slow = slow.next\n",
    "            if slow == fast:\n",
    "                cycle = True\n",
    "                break\n",
    "        if cycle == False:\n",
    "            return None\n",
    "        fast = head\n",
    "        while cycle:\n",
    "            if fast == slow:\n",
    "                return slow\n",
    "            fast = fast.next\n",
    "            slow = slow.next\n",
    "            "
   ]
  },
  {
   "cell_type": "markdown",
   "metadata": {},
   "source": [
    "2. Add Two Numbers\n",
    "\n",
    "You are given two non-empty linked lists representing two non-negative integers. The digits are stored in reverse order, and each of their nodes contains a single digit. Add the two numbers and return the sum as a linked list.\n",
    "\n",
    "You may assume the two numbers do not contain any leading zero, except the number 0 itself."
   ]
  },
  {
   "cell_type": "code",
   "execution_count": null,
   "metadata": {},
   "outputs": [],
   "source": [
    "# Definition for singly-linked list.\n",
    "# class ListNode:\n",
    "#     def __init__(self, val=0, next=None):\n",
    "#         self.val = val\n",
    "#         self.next = next\n",
    "class Solution:\n",
    "    def addTwoNumbers(self, l1: Optional[ListNode], l2: Optional[ListNode]) -> Optional[ListNode]:\n",
    "        head = ListNode(-1)\n",
    "        cur = head\n",
    "        carry = 0\n",
    "        while l1 or l2 or carry:\n",
    "            v1 = l1.val if l1 else 0\n",
    "            v2 = l2.val if l2 else 0\n",
    "            val = v1 + v2 + carry\n",
    "            carry = val // 10\n",
    "            val %= 10\n",
    "            cur.next = ListNode(val)\n",
    "            cur = cur.next\n",
    "            l1 = l1.next if l1 else None\n",
    "            l2 = l2.next if l2 else None\n",
    "\n",
    "        return head.next\n",
    "\n"
   ]
  },
  {
   "cell_type": "markdown",
   "metadata": {},
   "source": [
    "21. Merge Two Sorted Lists\n",
    "\n",
    "You are given the heads of two sorted linked lists list1 and list2.\n",
    "\n",
    "Merge the two lists into one sorted list. The list should be made by splicing together the nodes of the first two lists.\n",
    "\n",
    "Return the head of the merged linked list."
   ]
  },
  {
   "cell_type": "code",
   "execution_count": null,
   "metadata": {},
   "outputs": [],
   "source": [
    "# Definition for singly-linked list.\n",
    "# class ListNode:\n",
    "#     def __init__(self, val=0, next=None):\n",
    "#         self.val = val\n",
    "#         self.next = next\n",
    "class Solution:\n",
    "    def mergeTwoLists(self, list1: Optional[ListNode], list2: Optional[ListNode]) -> Optional[ListNode]:\n",
    "        head = ListNode(-1)\n",
    "        cur = head\n",
    "        while list1 or list2:\n",
    "            v1 = list1.val if list1 else math.inf\n",
    "            v2 = list2.val if list2 else math.inf\n",
    "            if v1 <= v2:\n",
    "                cur.next = list1\n",
    "                list1 = list1.next\n",
    "            else:\n",
    "                cur.next = list2\n",
    "                list2 = list2.next\n",
    "            cur = cur.next\n",
    "\n",
    "        return head.next"
   ]
  },
  {
   "cell_type": "code",
   "execution_count": null,
   "metadata": {},
   "outputs": [],
   "source": [
    "# Definition for singly-linked list.\n",
    "# class ListNode:\n",
    "#     def __init__(self, val=0, next=None):\n",
    "#         self.val = val\n",
    "#         self.next = next\n",
    "class Solution:\n",
    "    def mergeTwoLists(self, list1: Optional[ListNode], list2: Optional[ListNode]) -> Optional[ListNode]:\n",
    "        head = ListNode(-1)\n",
    "        cur = head\n",
    "        while list1 and list2:\n",
    "            v1 = list1.val\n",
    "            v2 = list2.val\n",
    "            if v1 <= v2:\n",
    "                cur.next = list1\n",
    "                list1 = list1.next\n",
    "            else:\n",
    "                cur.next = list2\n",
    "                list2 = list2.next\n",
    "            cur = cur.next\n",
    "\n",
    "        rest = list1 if list2 is None else list2\n",
    "        cur.next = rest\n",
    "            \n",
    "\n",
    "        return head.next"
   ]
  },
  {
   "cell_type": "markdown",
   "metadata": {},
   "source": [
    "138. Copy List with Random Pointer\n",
    "Medium\n",
    "Topics\n",
    "Companies\n",
    "Hint\n",
    "A linked list of length n is given such that each node contains an additional random pointer, which could point to any node in the list, or null.\n",
    "\n",
    "Construct a deep copy of the list. The deep copy should consist of exactly n brand new nodes, where each new node has its value set to the value of its corresponding original node. Both the next and random pointer of the new nodes should point to new nodes in the copied list such that the pointers in the original list and copied list represent the same list state. None of the pointers in the new list should point to nodes in the original list.\n",
    "\n",
    "For example, if there are two nodes X and Y in the original list, where X.random --> Y, then for the corresponding two nodes x and y in the copied list, x.random --> y.\n",
    "\n",
    "Return the head of the copied linked list.\n",
    "\n",
    "The linked list is represented in the input/output as a list of n nodes. Each node is represented as a pair of [val, random_index] where:\n",
    "\n",
    "val: an integer representing Node.val\n",
    "random_index: the index of the node (range from 0 to n-1) that the random pointer points to, or null if it does not point to any node.\n",
    "Your code will only be given the head of the original linked list."
   ]
  },
  {
   "cell_type": "code",
   "execution_count": null,
   "metadata": {},
   "outputs": [],
   "source": [
    "\"\"\"\n",
    "# Definition for a Node.\n",
    "class Node:\n",
    "    def __init__(self, x: int, next: 'Node' = None, random: 'Node' = None):\n",
    "        self.val = int(x)\n",
    "        self.next = next\n",
    "        self.random = random\n",
    "\"\"\"\n",
    "\n",
    "class Solution:\n",
    "    def copyRandomList(self, head: 'Optional[Node]') -> 'Optional[Node]':\n",
    "        cur = head\n",
    "        while cur: # duplicate node with value\n",
    "            next = cur.next\n",
    "            cur.next = Node(cur.val)\n",
    "            cur= cur.next\n",
    "            cur.next = next\n",
    "            cur = cur.next\n",
    "\n",
    "        cur = head\n",
    "        while cur: # set random pointer in copy\n",
    "            cur.next.random = cur.random.next if cur.random else None\n",
    "            cur = cur.next.next\n",
    "        \n",
    "        newHead = Node(-1)\n",
    "        cur = newHead\n",
    "        old = head\n",
    "        while old: # seperate the copy to its own list\n",
    "            cur.next = old.next\n",
    "            cur = cur.next\n",
    "            old.next = old.next.next\n",
    "            cur.next = None\n",
    "            old = old.next\n",
    "\n",
    "        return newHead.next\n"
   ]
  },
  {
   "cell_type": "markdown",
   "metadata": {},
   "source": [
    "206. Reverse Linked List\n",
    "\n",
    "Given the head of a singly linked list, reverse the list, and return the reversed list."
   ]
  },
  {
   "cell_type": "code",
   "execution_count": null,
   "metadata": {},
   "outputs": [],
   "source": [
    "# Definition for singly-linked list.\n",
    "# class ListNode:\n",
    "#     def __init__(self, val=0, next=None):\n",
    "#         self.val = val\n",
    "#         self.next = next\n",
    "class Solution:\n",
    "    def reverseList(self, head: Optional[ListNode]) -> Optional[ListNode]:\n",
    "        pre = None\n",
    "        cur = head\n",
    "        while cur:\n",
    "            next = cur.next\n",
    "            cur.next = pre\n",
    "            pre = cur\n",
    "            cur = next\n",
    "        return pre"
   ]
  },
  {
   "cell_type": "code",
   "execution_count": null,
   "metadata": {},
   "outputs": [],
   "source": [
    "# Definition for singly-linked list.\n",
    "# class ListNode:\n",
    "#     def __init__(self, val=0, next=None):\n",
    "#         self.val = val\n",
    "#         self.next = next\n",
    "class Solution:\n",
    "    def reverseList(self, head: Optional[ListNode]) -> Optional[ListNode]:\n",
    "        if not head or not head.next:\n",
    "            return head\n",
    "        p = self.reverseList(head.next)\n",
    "        head.next.next = head\n",
    "        head.next = None\n",
    "        return p\n",
    "    "
   ]
  },
  {
   "cell_type": "markdown",
   "metadata": {},
   "source": [
    "92. Reverse Linked List II\n",
    "\n",
    "Given the head of a singly linked list and two integers left and right where left <= right, reverse the nodes of the list from position left to position right, and return the reversed list."
   ]
  },
  {
   "cell_type": "code",
   "execution_count": null,
   "metadata": {},
   "outputs": [],
   "source": [
    "# Definition for singly-linked list.\n",
    "# class ListNode:\n",
    "#     def __init__(self, val=0, next=None):\n",
    "#         self.val = val\n",
    "#         self.next = next\n",
    "class Solution: # this is for matching values not position, wrong code\n",
    "    def reverseBetween(self, head: Optional[ListNode], left: int, right: int) -> Optional[ListNode]:\n",
    "        newHead = ListNode(-1)\n",
    "        newHead.next = head\n",
    "        before, start, end, after = None, None, None, None\n",
    "        cur = head\n",
    "        pre = newHead\n",
    "        while cur:\n",
    "            if cur.val == left:\n",
    "                start = cur\n",
    "                before = pre\n",
    "            if cur.val == right:\n",
    "                end = cur\n",
    "                after = cur.next\n",
    "            pre = cur\n",
    "            cur = cur.next\n",
    "        if not start or not end:\n",
    "            return head\n",
    "        \n",
    "        \n",
    "        cur = start\n",
    "        pre = None\n",
    "        while pre != end:\n",
    "            next = cur.next\n",
    "            cur.next = pre\n",
    "            \n",
    "            pre = cur\n",
    "            cur = next\n",
    "\n",
    "        before.next = end\n",
    "        start.next = after\n",
    "        return newHead.next\n"
   ]
  },
  {
   "cell_type": "code",
   "execution_count": null,
   "metadata": {},
   "outputs": [],
   "source": [
    "# Definition for singly-linked list.\n",
    "# class ListNode:\n",
    "#     def __init__(self, val=0, next=None):\n",
    "#         self.val = val\n",
    "#         self.next = next\n",
    "class Solution: # correct\n",
    "    def reverseBetween(self, head: Optional[ListNode], left: int, right: int) -> Optional[ListNode]:\n",
    "        newHead = ListNode(-1)\n",
    "        newHead.next = head\n",
    "        before, start, end, after = None, None, None, None\n",
    "        cur = head\n",
    "        pre = newHead\n",
    "        cnt = 1\n",
    "        while cur:\n",
    "            if cnt == left:\n",
    "                start = cur\n",
    "                before = pre\n",
    "            if cnt == right:\n",
    "                end = cur\n",
    "                after = cur.next\n",
    "            pre = cur\n",
    "            cur = cur.next\n",
    "            cnt += 1\n",
    "        if not start or not end:\n",
    "            return head\n",
    "        \n",
    "        # revert from start to end\n",
    "        cur = start\n",
    "        pre = None\n",
    "        while pre != end:\n",
    "            next = cur.next\n",
    "            cur.next = pre\n",
    "            \n",
    "            pre = cur\n",
    "            cur = next\n",
    "\n",
    "        before.next = end\n",
    "        start.next = after\n",
    "        return newHead.next\n"
   ]
  },
  {
   "cell_type": "markdown",
   "metadata": {},
   "source": [
    "25. Reverse Nodes in k-Group\n",
    "\n",
    "Given the head of a linked list, reverse the nodes of the list k at a time, and return the modified list.\n",
    "\n",
    "k is a positive integer and is less than or equal to the length of the linked list. If the number of nodes is not a multiple of k then left-out nodes, in the end, should remain as it is.\n",
    "\n",
    "You may not alter the values in the list's nodes, only nodes themselves may be changed."
   ]
  },
  {
   "cell_type": "code",
   "execution_count": null,
   "metadata": {},
   "outputs": [],
   "source": [
    "# Definition for singly-linked list.\n",
    "# class ListNode:\n",
    "#     def __init__(self, val=0, next=None):\n",
    "#         self.val = val\n",
    "#         self.next = next\n",
    "class Solution:\n",
    "    def reverseKGroup(self, head: Optional[ListNode], k: int) -> Optional[ListNode]:\n",
    "        if k == 1:\n",
    "            return head\n",
    "        newHead = ListNode(-1)\n",
    "        newHead.next = head\n",
    "        cur = head\n",
    "        cnt = 1\n",
    "        pre = newHead\n",
    "        before, start, end, after = None, None, None, None\n",
    "\n",
    "        def reverse(start, end):\n",
    "            pre = None\n",
    "            cur = start\n",
    "            while pre != end:\n",
    "                next = cur.next\n",
    "                cur.next = pre\n",
    "                pre = cur\n",
    "                cur = next\n",
    "\n",
    "        while cur:\n",
    "            if cnt == k:\n",
    "                end = cur\n",
    "                after = cur.next\n",
    "                # reverse start to end\n",
    "                reverse(start, end)\n",
    "                before.next = end\n",
    "                start.next = after\n",
    "                cnt = 1\n",
    "                cur = after\n",
    "                pre = start\n",
    "            else:\n",
    "                if cnt == 1:\n",
    "                    before = pre\n",
    "                    start = cur\n",
    "                pre = cur\n",
    "                cur = cur.next\n",
    "                cnt += 1\n",
    "                \n",
    "\n",
    "        return newHead.next\n",
    "                \n"
   ]
  }
 ],
 "metadata": {
  "kernelspec": {
   "display_name": "Python 3",
   "language": "python",
   "name": "python3"
  },
  "language_info": {
   "codemirror_mode": {
    "name": "ipython",
    "version": 3
   },
   "file_extension": ".py",
   "mimetype": "text/x-python",
   "name": "python",
   "nbconvert_exporter": "python",
   "pygments_lexer": "ipython3",
   "version": "3.9.6"
  }
 },
 "nbformat": 4,
 "nbformat_minor": 2
}
