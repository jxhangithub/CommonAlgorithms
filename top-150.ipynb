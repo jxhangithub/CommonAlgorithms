{
 "cells": [
  {
   "cell_type": "markdown",
   "metadata": {},
   "source": [
    "88. Merge Sorted Array\n",
    "\n",
    "You are given two integer arrays nums1 and nums2, sorted in non-decreasing order, and two integers m and n, representing the number of elements in nums1 and nums2 respectively.\n",
    "\n",
    "Merge nums1 and nums2 into a single array sorted in non-decreasing order.\n",
    "\n",
    "The final sorted array should not be returned by the function, but instead be stored inside the array nums1. To accommodate this, nums1 has a length of m + n, where the first m elements denote the elements that should be merged, and the last n elements are set to 0 and should be ignored. nums2 has a length of n."
   ]
  },
  {
   "cell_type": "code",
   "execution_count": null,
   "metadata": {},
   "outputs": [],
   "source": [
    "class Solution:\n",
    "    def merge(self, nums1: List[int], m: int, nums2: List[int], n: int) -> None:\n",
    "        \"\"\"\n",
    "        Do not return anything, modify nums1 in-place instead.\n",
    "        \"\"\"\n",
    "        idx = m+n-1\n",
    "        i1 = m-1\n",
    "        i2 = n-1\n",
    "        while i1 > -1 and i2 > -1:\n",
    "            if nums1[i1] >= nums2[i2]:\n",
    "                nums1[idx] = nums1[i1]\n",
    "                idx -= 1\n",
    "                i1 -= 1\n",
    "            else:\n",
    "                nums1[idx] = nums2[i2]\n",
    "                idx -= 1\n",
    "                i2 -= 1\n",
    "        while i2 > -1:\n",
    "            nums1[idx] = nums2[i2]\n",
    "            idx -= 1\n",
    "            i2 -= 1"
   ]
  },
  {
   "cell_type": "markdown",
   "metadata": {},
   "source": [
    "27. Remove Element\n",
    "\n",
    "Given an integer array nums and an integer val, remove all occurrences of val in nums in-place. The order of the elements may be changed. Then return the number of elements in nums which are not equal to val.\n",
    "\n",
    "Consider the number of elements in nums which are not equal to val be k, to get accepted, you need to do the following things:\n",
    "\n",
    "Change the array nums such that the first k elements of nums contain the elements which are not equal to val. The remaining elements of nums are not important as well as the size of nums.\n",
    "Return k."
   ]
  },
  {
   "cell_type": "code",
   "execution_count": 5,
   "metadata": {},
   "outputs": [
    {
     "name": "stdout",
     "output_type": "stream",
     "text": [
      "0\n"
     ]
    }
   ],
   "source": [
    "from typing import List\n",
    "class Solution:\n",
    "    def removeElement(self, nums: List[int], val: int) -> int:\n",
    "        L = len(nums)\n",
    "        start, end = 0,L-1\n",
    "        while start < end:\n",
    "            while start < end and nums[start] != val:\n",
    "                start += 1\n",
    "            if start < end:\n",
    "                nums[start], nums[end] = nums[end], nums[start]\n",
    "                end -= 1\n",
    "\n",
    "        for i in range(L):\n",
    "            if nums[i] == val:\n",
    "                return i\n"
   ]
  },
  {
   "cell_type": "code",
   "execution_count": null,
   "metadata": {},
   "outputs": [],
   "source": [
    "from typing import List\n",
    "class Solution:\n",
    "    def removeElement(self, nums: List[int], val: int) -> int:\n",
    "        L = len(nums)\n",
    "        slow = 0\n",
    "        for i in range(L):\n",
    "            if nums[i] != val:\n",
    "                nums[i], nums[slow] = nums[slow], nums[i]\n",
    "                slow += 1\n",
    "        return slow\n"
   ]
  },
  {
   "cell_type": "markdown",
   "metadata": {},
   "source": [
    "26. Remove Duplicates from Sorted Array\n",
    "\n",
    "Given an integer array nums sorted in non-decreasing order, remove the duplicates in-place such that each unique element appears only once. The relative order of the elements should be kept the same. Then return the number of unique elements in nums.\n",
    "\n",
    "Consider the number of unique elements of nums to be k, to get accepted, you need to do the following things:\n",
    "\n",
    "Change the array nums such that the first k elements of nums contain the unique elements in the order they were present in nums initially. The remaining elements of nums are not important as well as the size of nums.\n",
    "Return k.\n"
   ]
  },
  {
   "cell_type": "code",
   "execution_count": null,
   "metadata": {},
   "outputs": [],
   "source": [
    "class Solution:\n",
    "    def removeDuplicates(self, nums: List[int]) -> int:\n",
    "        L = len(nums)\n",
    "        slow = -1\n",
    "        for i in range(L):\n",
    "            if slow < 0 or nums[i] != nums[slow]:\n",
    "                slow += 1\n",
    "                nums[slow] = nums[i]\n",
    "        return slow\n",
    "\n"
   ]
  },
  {
   "cell_type": "markdown",
   "metadata": {},
   "source": [
    "80. Remove Duplicates from Sorted Array II\n",
    "\n",
    "Given an integer array nums sorted in non-decreasing order, remove some duplicates in-place such that each unique element appears at most twice. The relative order of the elements should be kept the same.\n",
    "\n",
    "Since it is impossible to change the length of the array in some languages, you must instead have the result be placed in the first part of the array nums. More formally, if there are k elements after removing the duplicates, then the first k elements of nums should hold the final result. It does not matter what you leave beyond the first k elements.\n",
    "\n",
    "Return k after placing the final result in the first k slots of nums.\n",
    "\n",
    "Do not allocate extra space for another array. You must do this by modifying the input array in-place with O(1) extra memory."
   ]
  },
  {
   "cell_type": "code",
   "execution_count": null,
   "metadata": {},
   "outputs": [],
   "source": [
    "class Solution:\n",
    "    def removeDuplicates(self, nums: List[int]) -> int:\n",
    "        L = len(nums)\n",
    "        slow = -1\n",
    "        cnt = 0\n",
    "        for i in range(L):\n",
    "            if slow < 0 or nums[i] != nums[slow]:\n",
    "                slow += 1\n",
    "                nums[slow] = nums[i]\n",
    "                cnt = 1\n",
    "            elif nums[i] == nums[slow] and cnt < 2:\n",
    "                slow += 1\n",
    "                nums[slow] = nums[i]\n",
    "                cnt += 1\n",
    "\n",
    "        return slow +1\n",
    "\n"
   ]
  },
  {
   "cell_type": "markdown",
   "metadata": {},
   "source": [
    "169. Majority Element\n",
    "\n",
    "Given an array nums of size n, return the majority element.\n",
    "\n",
    "The majority element is the element that appears more than ⌊n / 2⌋ times. You may assume that the majority element always exists in the array."
   ]
  },
  {
   "cell_type": "code",
   "execution_count": null,
   "metadata": {},
   "outputs": [],
   "source": [
    "class Solution:\n",
    "    def majorityElement(self, nums: List[int]) -> int:\n",
    "        e = nums[0]\n",
    "        cnt = 0\n",
    "        for i in nums:\n",
    "            if e == i:\n",
    "                cnt += 1\n",
    "            else:\n",
    "                cnt -= 1\n",
    "                if cnt == 0:\n",
    "                    e = i\n",
    "                    cnt = 1\n",
    "        return e\n"
   ]
  },
  {
   "cell_type": "markdown",
   "metadata": {},
   "source": [
    "189. Rotate Array\n",
    "\n",
    "Given an integer array nums, rotate the array to the right by k steps, where k is non-negative."
   ]
  },
  {
   "cell_type": "code",
   "execution_count": null,
   "metadata": {},
   "outputs": [],
   "source": [
    "class Solution:\n",
    "    def rotate(self, nums: List[int], k: int) -> None:\n",
    "        \"\"\"\n",
    "        Do not return anything, modify nums in-place instead.\n",
    "        \"\"\"\n",
    "        def reverse(start, end):\n",
    "            while start < end:\n",
    "                nums[start], nums[end] = nums[end], nums[start]\n",
    "                start += 1\n",
    "                end -= 1\n",
    "        L = len(nums)\n",
    "        k %= L\n",
    "        reverse(0, L-1)\n",
    "        reverse(0,k-1)\n",
    "        reverse(k, L-1)\n",
    "        "
   ]
  },
  {
   "cell_type": "markdown",
   "metadata": {},
   "source": [
    "125. Valid Palindrome\n",
    "\n",
    "A phrase is a palindrome if, after converting all uppercase letters into lowercase letters and removing all non-alphanumeric characters, it reads the same forward and backward. Alphanumeric characters include letters and numbers.\n",
    "\n",
    "Given a string s, return true if it is a palindrome, or false otherwise."
   ]
  },
  {
   "cell_type": "code",
   "execution_count": null,
   "metadata": {},
   "outputs": [],
   "source": [
    "class Solution:\n",
    "    def isPalindrome(self, s: str) -> bool:\n",
    "        L = len(s)\n",
    "        start, end = 0, L-1\n",
    "        while start < end:\n",
    "            if not s[start].isalnum():\n",
    "                start += 1\n",
    "            elif not s[end].isalnum():\n",
    "                end -= 1\n",
    "            elif s[start].lower() != s[end].lower():\n",
    "                return False\n",
    "            else:\n",
    "                start += 1\n",
    "                end -= 1\n",
    "        return True\n",
    "    \n",
    "# Solution().isPalindrome(\"A man, a plan, a canal: Panama\")"
   ]
  },
  {
   "cell_type": "markdown",
   "metadata": {},
   "source": [
    "392. Is Subsequence\n",
    "\n",
    "Given two strings s and t, return true if s is a subsequence of t, or false otherwise.\n",
    "\n",
    "A subsequence of a string is a new string that is formed from the original string by deleting some (can be none) of the characters without disturbing the relative positions of the remaining characters. (i.e., \"ace\" is a subsequence of \"abcde\" while \"aec\" is not)."
   ]
  },
  {
   "cell_type": "code",
   "execution_count": null,
   "metadata": {},
   "outputs": [],
   "source": [
    "class Solution:\n",
    "    def isSubsequence(self, s: str, t: str) -> bool:\n",
    "        ps, pt = 0, 0\n",
    "        for c in t:\n",
    "            if ps < len(s) and c == s[ps]:\n",
    "                ps += 1\n",
    "        return ps == len(s)"
   ]
  },
  {
   "cell_type": "markdown",
   "metadata": {},
   "source": [
    "167. Two Sum II - Input Array Is Sorted\n",
    "\n",
    "Given a 1-indexed array of integers numbers that is already sorted in non-decreasing order, find two numbers such that they add up to a specific target number. Let these two numbers be numbers[index1] and numbers[index2] where 1 <= index1 < index2 <= numbers.length.\n",
    "\n",
    "Return the indices of the two numbers, index1 and index2, added by one as an integer array [index1, index2] of length 2.\n",
    "\n",
    "The tests are generated such that there is exactly one solution. You may not use the same element twice.\n",
    "\n",
    "Your solution must use only constant extra space."
   ]
  },
  {
   "cell_type": "code",
   "execution_count": null,
   "metadata": {},
   "outputs": [],
   "source": [
    "class Solution:\n",
    "    def twoSum(self, numbers: List[int], target: int) -> List[int]:\n",
    "        start, end = 0, len(numbers)-1\n",
    "        while start < end:\n",
    "            tmp = numbers[start] + numbers[end]\n",
    "            if tmp == target:\n",
    "                return [start+1, end+1]\n",
    "            elif tmp < target:\n",
    "                start += 1\n",
    "            else:\n",
    "                end -= 1\n",
    "        return [] "
   ]
  },
  {
   "cell_type": "markdown",
   "metadata": {},
   "source": [
    "11. Container With Most Water\n",
    "\n",
    "You are given an integer array height of length n. There are n vertical lines drawn such that the two endpoints of the ith line are (i, 0) and (i, height[i]).\n",
    "\n",
    "Find two lines that together with the x-axis form a container, such that the container contains the most water.\n",
    "\n",
    "Return the maximum amount of water a container can store.\n",
    "\n",
    "Notice that you may not slant the container."
   ]
  },
  {
   "cell_type": "code",
   "execution_count": null,
   "metadata": {},
   "outputs": [],
   "source": [
    "class Solution:\n",
    "    def maxArea(self, height: List[int]) -> int:\n",
    "        start, end = 0, len(height)-1\n",
    "        res = 0\n",
    "        while start < end:\n",
    "            s = height[start]\n",
    "            e = height[end]\n",
    "            res = max(res, min(s,e)*(end-start))\n",
    "            if s <= e:\n",
    "                start += 1\n",
    "            else:\n",
    "                end -= 1\n",
    "        return res"
   ]
  },
  {
   "cell_type": "markdown",
   "metadata": {},
   "source": [
    "209. Minimum Size Subarray Sum\n",
    "\n",
    "Given an array of positive integers nums and a positive integer target, return the minimal length of a \n",
    "subarray\n",
    " whose sum is greater than or equal to target. If there is no such subarray, return 0 instead."
   ]
  },
  {
   "cell_type": "code",
   "execution_count": null,
   "metadata": {},
   "outputs": [],
   "source": [
    "class Solution:\n",
    "    def minSubArrayLen(self, target: int, nums: List[int]) -> int:\n",
    "        tmp = nums[0]\n",
    "        start, end = 0,0\n",
    "        L = len(nums)\n",
    "        res = math.inf\n",
    "        while start <= end and end < L:\n",
    "            if tmp < target:\n",
    "                end += 1\n",
    "                if end < L:\n",
    "                    tmp += nums[end]\n",
    "            else:\n",
    "                res = min(res, end-start+1)\n",
    "                tmp -= nums[start]\n",
    "                start += 1\n",
    "\n",
    "        return res if res != math.inf else 0\n",
    "                \n",
    "\n"
   ]
  },
  {
   "cell_type": "markdown",
   "metadata": {},
   "source": [
    "48. Rotate Image\n",
    "\n",
    "You are given an n x n 2D matrix representing an image, rotate the image by 90 degrees (clockwise).\n",
    "\n",
    "You have to rotate the image in-place, which means you have to modify the input 2D matrix directly. DO NOT allocate another 2D matrix and do the rotation."
   ]
  },
  {
   "cell_type": "code",
   "execution_count": null,
   "metadata": {},
   "outputs": [],
   "source": [
    "class Solution:\n",
    "    def rotate(self, matrix: List[List[int]]) -> None:\n",
    "        \"\"\"\n",
    "        Do not return anything, modify matrix in-place instead.\n",
    "        \"\"\"\n",
    "        N = len(matrix)\n",
    "\n",
    "        for r in range(N//2+N%2):\n",
    "            for c in range(N//2):\n",
    "                matrix[c][N-1-r], matrix[N-1-r][N-1-c], matrix[N-1-c][r],  matrix[r][c] = matrix[r][c], matrix[c][N-1-r], matrix[N-1-r][N-1-c], matrix[N-1-c][r]\n",
    "        \n"
   ]
  },
  {
   "cell_type": "markdown",
   "metadata": {},
   "source": [
    "49. Group Anagrams\n",
    "\n",
    "Given an array of strings strs, group the anagrams together. You can return the answer in any order.\n",
    "\n",
    "An Anagram is a word or phrase formed by rearranging the letters of a different word or phrase, typically using all the original letters exactly once."
   ]
  },
  {
   "cell_type": "code",
   "execution_count": null,
   "metadata": {},
   "outputs": [],
   "source": [
    "import collections\n",
    "\n",
    "\n",
    "class Solution:\n",
    "    def groupAnagrams(self, strs: List[str]) -> List[List[str]]:\n",
    "        tmp = collections.defaultdict(list)\n",
    "        for s in strs:\n",
    "            key = ''.join(sorted(list(s)))\n",
    "            tmp[key].append(s)\n",
    "        return tmp.values()"
   ]
  },
  {
   "cell_type": "markdown",
   "metadata": {},
   "source": [
    "57. Insert Interval\n",
    "\n",
    "You are given an array of non-overlapping intervals intervals where intervals[i] = [starti, endi] represent the start and the end of the ith interval and intervals is sorted in ascending order by starti. You are also given an interval newInterval = [start, end] that represents the start and end of another interval.\n",
    "\n",
    "Insert newInterval into intervals such that intervals is still sorted in ascending order by starti and intervals still does not have any overlapping intervals (merge overlapping intervals if necessary).\n",
    "\n",
    "Return intervals after the insertion.\n",
    "\n",
    "Note that you don't need to modify intervals in-place. You can make a new array and return it."
   ]
  },
  {
   "cell_type": "code",
   "execution_count": null,
   "metadata": {},
   "outputs": [],
   "source": [
    "class Solution:\n",
    "    def insert(self, intervals: List[List[int]], newInterval: List[int]) -> List[List[int]]:\n",
    "        res = []\n",
    "        ns, ne = newInterval\n",
    "        addNew = False\n",
    "        for s, e in intervals:\n",
    "            if e<ns:\n",
    "                res.append([s,e])\n",
    "            elif ns <= e and s <= ne: \n",
    "                ns = min(ns, s)\n",
    "                ne = max(e, ne)\n",
    "            elif s > ne and not addNew:\n",
    "                res.append([ns, ne])\n",
    "                addNew = True\n",
    "            if s > ne:\n",
    "                res.append([s,e])\n",
    "        if not addNew:\n",
    "            res.append([ns, ne])\n",
    "        return res\n",
    "\n",
    "\n",
    "            \n"
   ]
  },
  {
   "cell_type": "markdown",
   "metadata": {},
   "source": [
    "71. Simplify Path\n",
    "\n",
    "Given an absolute path for a Unix-style file system, which begins with a slash '/', transform this path into its simplified canonical path.\n",
    "\n",
    "In Unix-style file system context, a single period '.' signifies the current directory, a double period \"..\" denotes moving up one directory level, and multiple slashes such as \"//\" are interpreted as a single slash. In this problem, treat sequences of periods not covered by the previous rules (like \"...\") as valid names for files or directories.\n",
    "\n",
    "The simplified canonical path should adhere to the following rules:\n",
    "\n",
    "It must start with a single slash '/'.\n",
    "Directories within the path should be separated by only one slash '/'.\n",
    "It should not end with a slash '/', unless it's the root directory.\n",
    "It should exclude any single or double periods used to denote current or parent directories.\n",
    "Return the new path."
   ]
  },
  {
   "cell_type": "code",
   "execution_count": null,
   "metadata": {},
   "outputs": [],
   "source": [
    "class Solution:\n",
    "    def simplifyPath(self, path: str) -> str:\n",
    "        paths = path.split('/')\n",
    "        res = []\n",
    "        for p in paths:\n",
    "            if not p or p == '.':\n",
    "                continue\n",
    "            elif p == '..':\n",
    "                if res:\n",
    "                    res.pop()\n",
    "            else:\n",
    "                res.append(p)\n",
    "        return '/' + '/'.join(res)\n",
    "            \n"
   ]
  },
  {
   "cell_type": "markdown",
   "metadata": {},
   "source": [
    "121. Best Time to Buy and Sell Stock\n",
    "\n",
    "You are given an array prices where prices[i] is the price of a given stock on the ith day.\n",
    "\n",
    "You want to maximize your profit by choosing a single day to buy one stock and choosing a different day in the future to sell that stock.\n",
    "\n",
    "Return the maximum profit you can achieve from this transaction. If you cannot achieve any profit, return 0."
   ]
  },
  {
   "cell_type": "code",
   "execution_count": null,
   "metadata": {},
   "outputs": [],
   "source": [
    "class Solution:\n",
    "    def maxProfit(self, prices: List[int]) -> int:\n",
    "        if not prices:\n",
    "            return 0\n",
    "        tmpMin = prices[0]\n",
    "        res = 0\n",
    "        for p in prices:\n",
    "            res = max(res, p-tmpMin)\n",
    "            tmpMin = min(tmpMin, p)\n",
    "        return res"
   ]
  },
  {
   "cell_type": "markdown",
   "metadata": {},
   "source": [
    "122. Best Time to Buy and Sell Stock II\n",
    "\n",
    "You are given an integer array prices where prices[i] is the price of a given stock on the ith day.\n",
    "\n",
    "On each day, you may decide to buy and/or sell the stock. You can only hold at most one share of the stock at any time. However, you can buy it then immediately sell it on the same day.\n",
    "\n",
    "Find and return the maximum profit you can achieve."
   ]
  },
  {
   "cell_type": "code",
   "execution_count": null,
   "metadata": {},
   "outputs": [],
   "source": [
    "class Solution:\n",
    "    def maxProfit(self, prices: List[int]) -> int:\n",
    "        res = 0\n",
    "        for i in range(1,len(prices)):\n",
    "            res += max(0, prices[i] - prices[i-1])\n",
    "        return res"
   ]
  },
  {
   "cell_type": "markdown",
   "metadata": {},
   "source": [
    "55. Jump Game\n",
    "\n",
    "You are given an integer array nums. You are initially positioned at the array's first index, and each element in the array represents your maximum jump length at that position.\n",
    "\n",
    "Return true if you can reach the last index, or false otherwise."
   ]
  },
  {
   "cell_type": "code",
   "execution_count": null,
   "metadata": {},
   "outputs": [],
   "source": [
    "class Solution:\n",
    "    def canJump(self, nums: List[int]) -> bool:\n",
    "        L = len(nums)\n",
    "        start, end = 0, 1\n",
    "        while start < end:\n",
    "            s, e = start, end\n",
    "            for i in range(s, e):\n",
    "                jump = nums[i]\n",
    "                start = i\n",
    "                end = max(end, min(L, i+jump+1))\n",
    "                if end == L:\n",
    "                    return True\n",
    "            if s == start and e == end:\n",
    "                return False\n",
    "                \n",
    "        return False"
   ]
  },
  {
   "cell_type": "markdown",
   "metadata": {},
   "source": [
    "45. Jump Game II\n",
    "\n",
    "You are given a 0-indexed array of integers nums of length n. You are initially positioned at nums[0].\n",
    "\n",
    "Each element nums[i] represents the maximum length of a forward jump from index i. In other words, if you are at nums[i], you can jump to any nums[i + j] where:\n",
    "\n",
    "0 <= j <= nums[i] and\n",
    "i + j < n\n",
    "Return the minimum number of jumps to reach nums[n - 1]. The test cases are generated such that you can reach nums[n - 1]."
   ]
  },
  {
   "cell_type": "code",
   "execution_count": null,
   "metadata": {},
   "outputs": [],
   "source": [
    "class Solution:\n",
    "    def jump(self, nums: List[int]) -> int:\n",
    "        L = len(nums)\n",
    "        if L == 1:\n",
    "            return 0\n",
    "        start, end = 0, 1\n",
    "        cnt = 0\n",
    "        reach = False\n",
    "        while start < end and not reach:\n",
    "            s, e = start, end\n",
    "            cnt += 1\n",
    "            for i in range(s, e):\n",
    "                jump = nums[i]\n",
    "                start = i\n",
    "                end = max(end, min(L, i+jump+1))\n",
    "                if end == L:\n",
    "                    reach = True\n",
    "            if s == start and e == end:\n",
    "                break\n",
    "                \n",
    "        return cnt if reach else -1"
   ]
  },
  {
   "cell_type": "code",
   "execution_count": 12,
   "metadata": {},
   "outputs": [
    {
     "data": {
      "text/plain": [
       "2"
      ]
     },
     "execution_count": 12,
     "metadata": {},
     "output_type": "execute_result"
    }
   ],
   "source": [
    "import math\n",
    "class Solution:\n",
    "    def jump(self, nums: List[int]) -> int:\n",
    "        L = len(nums)\n",
    "        dp = [math.inf] * L\n",
    "        dp[0] = 0\n",
    "        for i in range(0,L):\n",
    "            jump = nums[i]\n",
    "            for j in range(max(0, i-jump), min(L, i+jump+1)):\n",
    "                dp[j] = min(dp[j], dp[i]+1)\n",
    "        return dp[-1]\n",
    "    \n",
    "\n",
    "# Solution().jump([2,3,1,1,4])"
   ]
  },
  {
   "cell_type": "markdown",
   "metadata": {},
   "source": [
    "274. H-Index\n",
    "\n",
    "Given an array of integers citations where citations[i] is the number of citations a researcher received for their ith paper, return the researcher's h-index.\n",
    "\n",
    "According to the definition of h-index on Wikipedia: The h-index is defined as the maximum value of h such that the given researcher has published at least h papers that have each been cited at least h times."
   ]
  },
  {
   "cell_type": "code",
   "execution_count": null,
   "metadata": {},
   "outputs": [],
   "source": [
    "class Solution:\n",
    "    def hIndex(self, citations: List[int]) -> int:\n",
    "        hh = [-i for i in citations]\n",
    "        heapq.heapify(hh)\n",
    "        res = 0\n",
    "        for i in range(len(citations)):\n",
    "            cnt = i+1\n",
    "            cite = -heapq.heappop(hh)\n",
    "            if cite < cnt:\n",
    "                return res\n",
    "            else:\n",
    "                res = cnt\n",
    "            \n",
    "        return res "
   ]
  },
  {
   "cell_type": "code",
   "execution_count": null,
   "metadata": {},
   "outputs": [],
   "source": [
    "class Solution:\n",
    "    def hIndex(self, citations: List[int]) -> int:\n",
    "        citations.sort(key=lambda x: -x)\n",
    "        L = len(citations)\n",
    "        start, end = 0, L-1\n",
    "        while start + 1 < end:\n",
    "            mid = start + (end-start)//2\n",
    "            cite = citations[mid]\n",
    "            if cite < mid+1:\n",
    "                end = mid-1\n",
    "            elif cite >= mid+1:\n",
    "                start = mid\n",
    "\n",
    "        if citations[end] >= end+1:\n",
    "            return end+1\n",
    "        elif citations[start] >= start+1:\n",
    "            return start+1\n",
    "        else:\n",
    "            return 0\n",
    "\n"
   ]
  },
  {
   "cell_type": "markdown",
   "metadata": {},
   "source": [
    "380. Insert Delete GetRandom O(1)\n",
    "\n",
    "Implement the RandomizedSet class:\n",
    "\n",
    "RandomizedSet() Initializes the RandomizedSet object.\n",
    "bool insert(int val) Inserts an item val into the set if not present. Returns true if the item was not present, false otherwise.\n",
    "bool remove(int val) Removes an item val from the set if present. Returns true if the item was present, false otherwise.\n",
    "int getRandom() Returns a random element from the current set of elements (it's guaranteed that at least one element exists when this method is called). Each element must have the same probability of being returned.\n",
    "You must implement the functions of the class such that each function works in average O(1) time complexity."
   ]
  },
  {
   "cell_type": "code",
   "execution_count": 18,
   "metadata": {},
   "outputs": [
    {
     "data": {
      "text/plain": [
       "True"
      ]
     },
     "execution_count": 18,
     "metadata": {},
     "output_type": "execute_result"
    }
   ],
   "source": [
    "import random\n",
    "class RandomizedSet:\n",
    "\n",
    "    def __init__(self):\n",
    "        self.array = []\n",
    "        self.n2i = {}\n",
    "        self.size = 0\n",
    "\n",
    "    def insert(self, val: int) -> bool:\n",
    "        if val in self.n2i:\n",
    "            return False\n",
    "        self.array.append(val)\n",
    "        self.n2i[val] = self.size\n",
    "        self.size += 1\n",
    "        return True\n",
    "        \n",
    "\n",
    "    def remove(self, val: int) -> bool:\n",
    "        if val not in self.n2i:\n",
    "            return False\n",
    "        idx = self.n2i.pop(val)\n",
    "        if idx != self.size - 1:\n",
    "            self.array[idx], self.array[-1] = self.array[-1], self.array[idx]\n",
    "            self.n2i[self.array[idx]] = idx\n",
    "        self.array.pop()\n",
    "        self.size -= 1\n",
    "\n",
    "        return True\n",
    "            \n",
    "\n",
    "        \n",
    "\n",
    "    def getRandom(self) -> int:\n",
    "        if self.size == 0:\n",
    "            return None\n",
    "        idx = random.randint(0, self.size-1)\n",
    "        return self.array[idx]\n",
    "        \n",
    "\n",
    "\n",
    "# Your RandomizedSet object will be instantiated and called as such:\n",
    "# obj = RandomizedSet()\n",
    "# obj.remove(0)\n",
    "# obj.remove(0)\n",
    "# obj.insert(0)\n",
    "# obj.getRandom()\n",
    "# obj.remove(0)\n",
    "# obj.insert(0)"
   ]
  },
  {
   "cell_type": "markdown",
   "metadata": {},
   "source": [
    "238. Product of Array Except Self\n",
    "\n",
    "Given an integer array nums, return an array answer such that answer[i] is equal to the product of all the elements of nums except nums[i].\n",
    "\n",
    "The product of any prefix or suffix of nums is guaranteed to fit in a 32-bit integer.\n",
    "\n",
    "You must write an algorithm that runs in O(n) time and without using the division operation."
   ]
  },
  {
   "cell_type": "code",
   "execution_count": null,
   "metadata": {},
   "outputs": [],
   "source": [
    "class Solution:\n",
    "    def productExceptSelf(self, nums: List[int]) -> List[int]:\n",
    "        L = len(nums)\n",
    "        pre = [1] * L\n",
    "        post = [1] * L\n",
    "\n",
    "        tmp = 1\n",
    "        for i in range(L):\n",
    "            pre[i] = tmp*nums[i]\n",
    "            tmp = pre[i]\n",
    "        tmp = 1\n",
    "        for i in range(L-1, -1, -1):\n",
    "            post[i] = tmp * nums[i]\n",
    "            tmp = post[i]\n",
    "\n",
    "        res = [0] * L\n",
    "        res[0] = post[1]\n",
    "        res[L-1] = pre[L-2]\n",
    "        for i in range(1,L-1):\n",
    "            res[i] = pre[i-1] * post[i+1]\n",
    "        return res"
   ]
  },
  {
   "cell_type": "markdown",
   "metadata": {},
   "source": [
    "134. Gas Station\n",
    "\n",
    "There are n gas stations along a circular route, where the amount of gas at the ith station is gas[i].\n",
    "\n",
    "You have a car with an unlimited gas tank and it costs cost[i] of gas to travel from the ith station to its next (i + 1)th station. You begin the journey with an empty tank at one of the gas stations.\n",
    "\n",
    "Given two integer arrays gas and cost, return the starting gas station's index if you can travel around the circuit once in the clockwise direction, otherwise return -1. If there exists a solution, it is guaranteed to be unique"
   ]
  },
  {
   "cell_type": "code",
   "execution_count": null,
   "metadata": {},
   "outputs": [],
   "source": [
    "class Solution:\n",
    "    def canCompleteCircuit(self, gas: List[int], cost: List[int]) -> int:\n",
    "        minIdx = 0\n",
    "        L = len(gas)\n",
    "        curGas = 0\n",
    "        minGas = 0 # at 0 before add gas\n",
    "        for i in range(L):\n",
    "            curGas += gas[i] # add gas i\n",
    "            curGas -=cost[i] # move to  i+1\n",
    "            if curGas < minGas:\n",
    "                minGas = curGas\n",
    "                minIdx = (i+1) % L \n",
    "        if curGas >= 0:\n",
    "            return minIdx\n",
    "        else:\n",
    "            return -1\n",
    "\n"
   ]
  },
  {
   "cell_type": "markdown",
   "metadata": {},
   "source": [
    "135. Candy\n",
    "\n",
    "There are n children standing in a line. Each child is assigned a rating value given in the integer array ratings.\n",
    "\n",
    "You are giving candies to these children subjected to the following requirements:\n",
    "\n",
    "Each child must have at least one candy.\n",
    "Children with a higher rating get more candies than their neighbors.\n",
    "Return the minimum number of candies you need to have to distribute the candies to the children."
   ]
  },
  {
   "cell_type": "code",
   "execution_count": null,
   "metadata": {},
   "outputs": [],
   "source": [
    "class Solution:\n",
    "    def candy(self, ratings: List[int]) -> int:\n",
    "        L = len(ratings)\n",
    "        res = []\n",
    "        contIncrease = [0] *L\n",
    "        contDecrease = [0] *L\n",
    "        for i in range(1, L):\n",
    "            if ratings[i] > ratings[i-1]:\n",
    "                contIncrease[i] = contIncrease[i-1]+1\n",
    "        for i in range(L-2, -1, -1):\n",
    "            if ratings[i] > ratings[i+1]:\n",
    "                contDecrease[i] = contDecrease[i+1]+1\n",
    "\n",
    "        res = []\n",
    "        for i in range(L):\n",
    "            res.append(1 + max(contIncrease[i], contDecrease[i]))\n",
    "        return sum(res)\n",
    "    \n",
    "\n",
    "    # 0,10,20,18,16,15,14 ratings\n",
    "    # 0,1, 2, 0, 0, 0, 0  continue increase\n",
    "    # 0, 0, 4, 3, 2, 1, 0 continue decrease\n",
    "    # 1, 2, 5, 4, 3, 2, 1 minimum candies\n"
   ]
  },
  {
   "cell_type": "markdown",
   "metadata": {},
   "source": [
    "42. Trapping Rain Water\n",
    "\n",
    "Given n non-negative integers representing an elevation map where the width of each bar is 1, compute how much water it can trap after raining."
   ]
  },
  {
   "cell_type": "code",
   "execution_count": null,
   "metadata": {},
   "outputs": [],
   "source": [
    "class Solution:\n",
    "    def trap(self, height: List[int]) -> int:\n",
    "        L = len(height)\n",
    "        curMax = 0\n",
    "        leftMax = []\n",
    "        for i in range(L):\n",
    "            leftMax.append(curMax)\n",
    "            curMax = max(curMax, height[i])\n",
    "        rightMax = [0]*L\n",
    "        curMax = 0\n",
    "        for i in range(L-1, -1, -1):\n",
    "            rightMax[i] = curMax\n",
    "            curMax = max(curMax, height[i])\n",
    "        res = 0\n",
    "        for i in range(L):\n",
    "            res += max(0, min(leftMax[i], rightMax[i]) - height[i])\n",
    "        return res\n"
   ]
  },
  {
   "cell_type": "markdown",
   "metadata": {},
   "source": [
    "13. Roman to Integer\n",
    "\n",
    "Roman numerals are represented by seven different symbols: I, V, X, L, C, D and M.\n",
    "\n",
    "Symbol       Value\n",
    "I             1\n",
    "V             5\n",
    "X             10\n",
    "L             50\n",
    "C             100\n",
    "D             500\n",
    "M             1000\n",
    "For example, 2 is written as II in Roman numeral, just two ones added together. 12 is written as XII, which is simply X + II. The number 27 is written as XXVII, which is XX + V + II.\n",
    "\n",
    "Roman numerals are usually written largest to smallest from left to right. However, the numeral for four is not IIII. Instead, the number four is written as IV. Because the one is before the five we subtract it making four. The same principle applies to the number nine, which is written as IX. There are six instances where subtraction is used:\n",
    "\n",
    "I can be placed before V (5) and X (10) to make 4 and 9. \n",
    "X can be placed before L (50) and C (100) to make 40 and 90. \n",
    "C can be placed before D (500) and M (1000) to make 400 and 900.\n",
    "Given a roman numeral, convert it to an integer."
   ]
  },
  {
   "cell_type": "code",
   "execution_count": null,
   "metadata": {},
   "outputs": [],
   "source": [
    "class Solution:\n",
    "    def romanToInt(self, s: str) -> int:\n",
    "        romans = 'IVXLCDM'\n",
    "        numbers = [1,5,10,50,100,500,1000]\n",
    "        r2n = {}\n",
    "        for r,n in zip(romans, numbers):\n",
    "            r2n[r] = n\n",
    "        tmp = []\n",
    "        for c in s:\n",
    "            tmp.append(r2n[c])\n",
    "        res = tmp[0]\n",
    "        for i in range(1,len(tmp)):\n",
    "            if tmp[i] > tmp[i-1]:\n",
    "                res -= 2*tmp[i-1]\n",
    "            res += tmp[i]\n",
    "        return res\n"
   ]
  },
  {
   "cell_type": "markdown",
   "metadata": {},
   "source": [
    "12. Integer to Roman\n",
    "\n",
    "Seven different symbols represent Roman numerals with the following values:\n",
    "\n",
    "Symbol\tValue\n",
    "I\t1\n",
    "V\t5\n",
    "X\t10\n",
    "L\t50\n",
    "C\t100\n",
    "D\t500\n",
    "M\t1000\n",
    "Roman numerals are formed by appending the conversions of decimal place values from highest to lowest. Converting a decimal place value into a Roman numeral has the following rules:\n",
    "\n",
    "If the value does not start with 4 or 9, select the symbol of the maximal value that can be subtracted from the input, append that symbol to the result, subtract its value, and convert the remainder to a Roman numeral.\n",
    "If the value starts with 4 or 9 use the subtractive form representing one symbol subtracted from the following symbol, for example, 4 is 1 (I) less than 5 (V): IV and 9 is 1 (I) less than 10 (X): IX. Only the following subtractive forms are used: 4 (IV), 9 (IX), 40 (XL), 90 (XC), 400 (CD) and 900 (CM).\n",
    "Only powers of 10 (I, X, C, M) can be appended consecutively at most 3 times to represent multiples of 10. You cannot append 5 (V), 50 (L), or 500 (D) multiple times. If you need to append a symbol 4 times use the subtractive form.\n",
    "Given an integer, convert it to a Roman numeral."
   ]
  },
  {
   "cell_type": "code",
   "execution_count": null,
   "metadata": {},
   "outputs": [],
   "source": [
    "class Solution:\n",
    "    def intToRoman(self, num: int) -> str:\n",
    "        nums = [1000, 900, 500, 400, 100, 90, 50, 40, 10, 9, 5, 4, 1]\n",
    "        romans = ['M', 'CM', 'D', 'CD', 'C', 'XC', 'L', 'XL', 'X', 'IX', 'V', 'IV', 'I']\n",
    "        res = []\n",
    "        n2r = {}\n",
    "        for n, r in zip(nums, romans):\n",
    "            n2r[n]=r\n",
    "        for n in nums:\n",
    "            cnt = num // n\n",
    "            num = num % n\n",
    "            for i in range(cnt):\n",
    "                res.append(n2r[n])\n",
    "        return ''.join(res)\n"
   ]
  },
  {
   "cell_type": "markdown",
   "metadata": {},
   "source": [
    "58. Length of Last Word\n",
    "\n",
    "Given a string s consisting of words and spaces, return the length of the last word in the string.\n",
    "\n",
    "A word is a maximal \n",
    "substring\n",
    " consisting of non-space characters only."
   ]
  },
  {
   "cell_type": "code",
   "execution_count": null,
   "metadata": {},
   "outputs": [],
   "source": [
    "class Solution:\n",
    "    def lengthOfLastWord(self, s: str) -> int:\n",
    "        words = s.split(' ')\n",
    "        for i in range(len(words)-1, -1, -1):\n",
    "            if words[i]:\n",
    "                return len(words[i])\n",
    "        return 0"
   ]
  },
  {
   "cell_type": "markdown",
   "metadata": {},
   "source": [
    "14. Longest Common Prefix\n",
    "\n",
    "Write a function to find the longest common prefix string amongst an array of strings.\n",
    "\n",
    "If there is no common prefix, return an empty string \"\"."
   ]
  },
  {
   "cell_type": "code",
   "execution_count": null,
   "metadata": {},
   "outputs": [],
   "source": [
    "class Solution:\n",
    "    def longestCommonPrefix(self, strs: List[str]) -> str:\n",
    "        if not strs:\n",
    "            return ''\n",
    "        L = len(strs[0])\n",
    "        for i in range(L):\n",
    "            for s in strs:\n",
    "                if i < len(s) and s[i] == strs[0][i]:\n",
    "                    continue\n",
    "                else:\n",
    "                    return strs[0][:i]\n",
    "                \n",
    "        return strs[0]\n",
    "        "
   ]
  },
  {
   "cell_type": "markdown",
   "metadata": {},
   "source": [
    "151. Reverse Words in a String\n",
    "\n",
    "Given an input string s, reverse the order of the words.\n",
    "\n",
    "A word is defined as a sequence of non-space characters. The words in s will be separated by at least one space.\n",
    "\n",
    "Return a string of the words in reverse order concatenated by a single space.\n",
    "\n",
    "Note that s may contain leading or trailing spaces or multiple spaces between two words. The returned string should only have a single space separating the words. Do not include any extra spaces."
   ]
  },
  {
   "cell_type": "code",
   "execution_count": null,
   "metadata": {},
   "outputs": [],
   "source": [
    "class Solution:\n",
    "    def reverseWords(self, s: str) -> str:\n",
    "        words = [w for w in s.split(' ') if w] # if needed w[::-1] is to revert each string as well\n",
    "        words.reverse()\n",
    "        return ' '.join(words)\n"
   ]
  },
  {
   "cell_type": "markdown",
   "metadata": {},
   "source": [
    "6. Zigzag Conversion\n",
    "\n",
    "The string \"PAYPALISHIRING\" is written in a zigzag pattern on a given number of rows like this: (you may want to display this pattern in a fixed font for better legibility)\n",
    "\n",
    "P   A   H   N\n",
    "A P L S I I G\n",
    "Y   I   R\n",
    "And then read line by line: \"PAHNAPLSIIGYIR\"\n",
    "\n",
    "Write the code that will take a string and make this conversion given a number of rows:\n",
    "\n",
    "string convert(string s, int numRows);"
   ]
  },
  {
   "cell_type": "code",
   "execution_count": null,
   "metadata": {},
   "outputs": [],
   "source": [
    "class Solution:\n",
    "    def convert(self, s: str, numRows: int) -> str:\n",
    "        # if numRows == 1:\n",
    "        #     return s\n",
    "        res = [[] for _ in range(numRows)]\n",
    "        delta = 1\n",
    "        row = 0\n",
    "        for c in s:\n",
    "            res[row].append(c)\n",
    "            if row + delta <0 or row+delta > numRows-1:\n",
    "                continue\n",
    "            row += delta\n",
    "            if row == numRows - 1 or row == 0:\n",
    "                delta *= -1\n",
    "        result = []\n",
    "        for t in res:\n",
    "            result.append(''.join(t))\n",
    "        return ''.join(result)\n"
   ]
  },
  {
   "cell_type": "code",
   "execution_count": null,
   "metadata": {},
   "outputs": [],
   "source": [
    "class Solution:\n",
    "    def convert(self, s: str, numRows: int) -> str:\n",
    "        if numRows == 1:\n",
    "            return s\n",
    "        res = [[] for _ in range(numRows)]\n",
    "        delta = 1\n",
    "        row = 0\n",
    "        for c in s:\n",
    "            res[row].append(c)\n",
    "            # if row + delta <0 or row+delta > numRows-1:\n",
    "            #     continue\n",
    "            row += delta\n",
    "            if row == numRows - 1 or row == 0:\n",
    "                delta *= -1\n",
    "        result = []\n",
    "        for t in res:\n",
    "            result.append(''.join(t))\n",
    "        return ''.join(result)\n"
   ]
  },
  {
   "cell_type": "markdown",
   "metadata": {},
   "source": [
    "28. Find the Index of the First Occurrence in a String\n",
    "\n",
    "Given two strings needle and haystack, return the index of the first occurrence of needle in haystack, or -1 if needle is not part of haystack.\n",
    "\n"
   ]
  },
  {
   "cell_type": "code",
   "execution_count": null,
   "metadata": {},
   "outputs": [],
   "source": [
    "class Solution:\n",
    "    def strStr(self, haystack: str, needle: str) -> int:\n",
    "        "
   ]
  }
 ],
 "metadata": {
  "kernelspec": {
   "display_name": "Python 3",
   "language": "python",
   "name": "python3"
  },
  "language_info": {
   "codemirror_mode": {
    "name": "ipython",
    "version": 3
   },
   "file_extension": ".py",
   "mimetype": "text/x-python",
   "name": "python",
   "nbconvert_exporter": "python",
   "pygments_lexer": "ipython3",
   "version": "3.9.6"
  }
 },
 "nbformat": 4,
 "nbformat_minor": 2
}
