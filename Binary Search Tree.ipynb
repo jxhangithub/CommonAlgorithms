{
 "cells": [
  {
   "cell_type": "code",
   "execution_count": null,
   "metadata": {},
   "outputs": [],
   "source": [
    "# find lower bound of a target\n",
    "# i.e., find a largest node that is <= target\n",
    "\n",
    "\n",
    "def get_lower_bound(root, target):\n",
    "    \n",
    "    if root is None:\n",
    "        return None\n",
    "    \n",
    "    if target < root.val:\n",
    "        return get_lower_bound(root.left, target)\n",
    "    else:\n",
    "        # if target >= root, we seek the right sub tree \n",
    "        lower = get_lower_bound(root.right, target)\n",
    "        # if all right sub-tree is greater than target, lower will be None\n",
    "        return root if lower is None else lower\n",
    "    \n",
    "    \n",
    "def get_upper_bound(root, target):\n",
    "  # i.e., find a smallest node that is >= target  \n",
    "    if root is None:\n",
    "        return None\n",
    "    \n",
    "    if target > root.val:\n",
    "        return get_upper_bound(root.right, target)\n",
    "    else:\n",
    "        upper = get_upper_bound(root.right, target)\n",
    "        \n",
    "        return root if upper is None else upper\n",
    "        \n",
    "\n"
   ]
  }
 ],
 "metadata": {
  "kernelspec": {
   "display_name": "Python 3",
   "language": "python",
   "name": "python3"
  },
  "language_info": {
   "codemirror_mode": {
    "name": "ipython",
    "version": 3
   },
   "file_extension": ".py",
   "mimetype": "text/x-python",
   "name": "python",
   "nbconvert_exporter": "python",
   "pygments_lexer": "ipython3",
   "version": "3.7.4"
  }
 },
 "nbformat": 4,
 "nbformat_minor": 2
}
