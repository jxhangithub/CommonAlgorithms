{
 "cells": [
  {
   "cell_type": "markdown",
   "metadata": {
    "toc": true
   },
   "source": [
    "<h1>Table of Contents<span class=\"tocSkip\"></span></h1>\n",
    "<div class=\"toc\"><ul class=\"toc-item\"></ul></div>"
   ]
  },
  {
   "cell_type": "markdown",
   "metadata": {},
   "source": [
    "# Greedy algorithms"
   ]
  },
  {
   "cell_type": "markdown",
   "metadata": {},
   "source": [
    "## Basic greedy algorithms\n",
    "Greedy is an algorithmic paradigm that builds up a solution piece by piece, always choosing the next piece that offers the most obvious and immediate benefit. Greedy algorithms are used for optimization problems. An optimization problem can be solved using Greedy if the problem has the following property: At every step, we can make a choice that looks best at the moment, and we get the optimal solution of the complete problem."
   ]
  },
  {
   "cell_type": "markdown",
   "metadata": {},
   "source": [
    "### 1221. Split a String in Balanced Strings\n",
    "\n",
    "Balanced strings are those who have equal quantity of 'L' and 'R' characters.\n",
    "\n",
    "Given a balanced string s split it in the maximum amount of balanced strings.\n",
    "\n",
    "Return the maximum amount of splitted balanced strings."
   ]
  },
  {
   "cell_type": "code",
   "execution_count": null,
   "metadata": {},
   "outputs": [],
   "source": [
    "class Solution:\n",
    "    def balancedStringSplit(self, s: str) -> int:\n",
    "        \n",
    "        count = 0\n",
    "        bal = 0\n",
    "        for c in s:\n",
    "            if c == 'R':\n",
    "                bal += 1\n",
    "            elif c == 'L':\n",
    "                bal -= 1\n",
    "            if bal == 0:\n",
    "                count += 1\n",
    "                bal = 0\n",
    "        return count"
   ]
  },
  {
   "cell_type": "markdown",
   "metadata": {},
   "source": [
    "### 55. Jump Game\n",
    "Given an array of non-negative integers, you are initially positioned at the first index of the array.\n",
    "\n",
    "Each element in the array represents your maximum jump length at that position.\n",
    "\n",
    "Determine if you are able to reach the last index."
   ]
  },
  {
   "cell_type": "code",
   "execution_count": null,
   "metadata": {},
   "outputs": [],
   "source": [
    "class Solution:\n",
    "    def canJump(self, nums: List[int]) -> bool:\n",
    "        \n",
    "        \n",
    "        maxReach = 0\n",
    "        \n",
    "        for i, x in enumerate(nums):\n",
    "            \n",
    "            if i > maxReach:\n",
    "                return False\n",
    "            \n",
    "            maxReach = max(maxReach, i + x)\n",
    "            \n",
    "        \n",
    "        return maxReach >= (len(nums) - 1)"
   ]
  },
  {
   "cell_type": "markdown",
   "metadata": {},
   "source": [
    "### 1196. How Many Apples Can You Put into the Basket\n",
    "You have some apples, where arr[i] is the weight of the i-th apple.  You also have a basket that can carry up to 5000 units of weight.\n",
    "\n",
    "Return the maximum number of apples you can put in the basket.\n",
    "\n",
    " "
   ]
  },
  {
   "cell_type": "code",
   "execution_count": null,
   "metadata": {},
   "outputs": [],
   "source": [
    "class Solution:\n",
    "    def maxNumberOfApples(self, arr: List[int]) -> int:\n",
    "        arr.sort()\n",
    "        count = 0\n",
    "        tempSum = 0\n",
    "        i = 0\n",
    "        while i < len(arr):\n",
    "            tempSum += arr[i]\n",
    "            if tempSum <= 5000:\n",
    "                count += 1\n",
    "            else:\n",
    "                break\n",
    "            i += 1\n",
    "        return count\n",
    "        "
   ]
  },
  {
   "cell_type": "markdown",
   "metadata": {},
   "source": [
    "### 881. Boats to Save People\n",
    "\n",
    "The i-th person has weight people[i], and each boat can carry a maximum weight of limit.\n",
    "\n",
    "Each boat carries at most 2 people at the same time, provided the sum of the weight of those people is at most limit.\n",
    "\n",
    "Return the minimum number of boats to carry every given person.  (It is guaranteed each person can be carried by a boat.)"
   ]
  },
  {
   "cell_type": "code",
   "execution_count": null,
   "metadata": {},
   "outputs": [],
   "source": [
    "class Solution:\n",
    "    def numRescueBoats(self, people: List[int], limit: int) -> int:\n",
    "        people.sort()\n",
    "        \n",
    "        left, right = 0, len(people) - 1\n",
    "        answer = 0\n",
    "        while left <= right:\n",
    "            answer += 1\n",
    "            if people[left] + people[right] <= limit:\n",
    "                left += 1\n",
    "            right -= 1\n",
    "        return answer\n",
    "            "
   ]
  },
  {
   "cell_type": "markdown",
   "metadata": {},
   "source": [
    "### 1414. Find the Minimum Number of Fibonacci Numbers Whose Sum Is K\n",
    "Given the number k, return the minimum number of Fibonacci numbers whose sum is equal to k, whether a Fibonacci number could be used multiple times.\n",
    "\n",
    "The Fibonacci numbers are defined as:\n",
    "\n",
    "F1 = 1\n",
    "F2 = 1\n",
    "Fn = Fn-1 + Fn-2 , for n > 2.\n",
    "It is guaranteed that for the given constraints we can always find such fibonacci numbers that sum k."
   ]
  },
  {
   "cell_type": "code",
   "execution_count": null,
   "metadata": {},
   "outputs": [],
   "source": [
    "class Solution:\n",
    "    def findMinFibonacciNumbers(self, k: int) -> int:\n",
    "        \n",
    "        f = [1, 1]\n",
    "        \n",
    "        while f[-1] <= k:\n",
    "            f.append(f[-1] + f[-2])\n",
    "        count = 0\n",
    "        while True:\n",
    "            idx = bisect.bisect_left(f, k)\n",
    "            count += 1\n",
    "            if f[idx] == k:\n",
    "                return count\n",
    "            elif f[idx] > k:\n",
    "                k -= f[idx - 1]\n",
    "        return count\n",
    "                "
   ]
  },
  {
   "cell_type": "markdown",
   "metadata": {},
   "source": [
    "## Interval maximization"
   ]
  },
  {
   "cell_type": "markdown",
   "metadata": {},
   "source": [
    "### Interval Scheduling maximization\n",
    "The interval scheduling maximization problem (ISMP) is to find a largest compatible set - a set of non-overlapping intervals of maximum size. \n",
    "\n",
    "1) Sort the activities according to their finishing time\n",
    "2) Select the first activity from the sorted array.\n",
    "3) Do following for remaining activities in the sorted array.\n",
    "…….a) If the start time of this activity is greater than or equal to the finish time of previously selected activity then select this activity."
   ]
  },
  {
   "cell_type": "code",
   "execution_count": null,
   "metadata": {},
   "outputs": [],
   "source": [
    "def activitySelection(events):\n",
    "    \n",
    "    events.sort(key=lambda x: x[1])\n",
    "    result = []\n",
    "    for i in range(len(events)):\n",
    "        if not result or events[i][0] >= result[-1][1]:\n",
    "            result.append(events[i])\n",
    "    return result\n",
    "\n",
    "\n",
    "events = [[5, 9], [8, 9], [5, 7], [0, 6], [3, 4], [1, 2]]\n",
    "\n",
    "print(activitySelection(events))"
   ]
  },
  {
   "cell_type": "markdown",
   "metadata": {},
   "source": [
    "### 646. Maximum Length of Pair Chain\n",
    "\n",
    "You are given n pairs of numbers. In every pair, the first number is always smaller than the second number.\n",
    "\n",
    "Now, we define a pair (c, d) can follow another pair (a, b) if and only if b < c. Chain of pairs can be formed in this fashion.\n",
    "\n",
    "Given a set of pairs, find the length longest chain which can be formed. You needn't use up all the given pairs. You can select pairs in any order."
   ]
  },
  {
   "cell_type": "code",
   "execution_count": null,
   "metadata": {},
   "outputs": [],
   "source": [
    "# greedy algorithm\n",
    "class Solution:\n",
    "    def findLongestChain(self, pairs: List[List[int]]) -> int:\n",
    "        \n",
    "        pairs.sort(key = lambda x: x[1])\n",
    "        count = 1\n",
    "        end = pairs[0][1]\n",
    "        for i in range(1, len(pairs)):\n",
    "            if pairs[i][0] > end:\n",
    "                count += 1\n",
    "                end = pairs[i][1]\n",
    "        return count\n",
    "# longest path in graph, dp solution\n",
    "class Solution:\n",
    "    def findLongestChain(self, pairs: List[List[int]]) -> int:\n",
    "        \n",
    "        dp = [0] * (len(pairs))\n",
    "        pairs = [tuple(e) for e in pairs]\n",
    "        pairs.sort()\n",
    "        for i in range(len(pairs)):\n",
    "            if i == 0:\n",
    "                dp[i] = 1\n",
    "            else:\n",
    "                dp[i] = 1\n",
    "                for j in range(i):\n",
    "                    if pairs[j][1] < pairs[i][0]:\n",
    "                        dp[i] = max(dp[i], 1 + dp[j])\n",
    "                \n",
    "        return max(dp)"
   ]
  },
  {
   "cell_type": "markdown",
   "metadata": {},
   "source": [
    "### 435. Non-overlapping Intervals\n",
    "Given a collection of intervals, find the minimum number of intervals you need to remove to make the rest of the intervals non-overlapping."
   ]
  },
  {
   "cell_type": "code",
   "execution_count": null,
   "metadata": {},
   "outputs": [],
   "source": [
    "# sort the starting point\n",
    "class Solution:\n",
    "    def eraseOverlapIntervals(self, intervals: List[List[int]]) -> int:\n",
    "        \n",
    "        if len(intervals) < 2:\n",
    "            return 0\n",
    "        # if two overlapped, at least one needs to be removed. Remove the one last longer\n",
    "        \n",
    "        intervals.sort(key=lambda x: (x[0], x[1]))\n",
    "        \n",
    "        prev = 0\n",
    "        curr = 1\n",
    "        count = 0\n",
    "        while curr < len(intervals):\n",
    "            #overlap\n",
    "            if intervals[curr][0] < intervals[prev][1]:\n",
    "                count += 1\n",
    "                if intervals[curr][1] > intervals[prev][1]:\n",
    "                    curr += 1\n",
    "                else:\n",
    "                    prev = curr\n",
    "                    curr += 1\n",
    "            else:# no overlap\n",
    "                prev = curr\n",
    "                curr += 1\n",
    "        return count"
   ]
  },
  {
   "cell_type": "markdown",
   "metadata": {},
   "source": [
    "### 763. Partition Labels\n",
    "\n",
    "A string S of lowercase English letters is given. We want to partition this string into as many parts as possible so that each letter appears in at most one part, and return a list of integers representing the size of these parts."
   ]
  },
  {
   "cell_type": "code",
   "execution_count": null,
   "metadata": {},
   "outputs": [],
   "source": [
    "class Solution:\n",
    "    def partitionLabels(self, s: str) -> List[int]:\n",
    "        \n",
    "        ends = {}\n",
    "        for i in range(len(s) - 1, -1, -1):\n",
    "            if s[i] not in ends:\n",
    "                ends[s[i]] = i\n",
    "                \n",
    "        res = []\n",
    "        currStart = 0\n",
    "        currEnd = 0\n",
    "        for i in range(len(s)):\n",
    "            currEnd = max(currEnd, ends[s[i]])\n",
    "            if i == currEnd:\n",
    "                res.append(currEnd - currStart + 1)\n",
    "                currStart = i + 1\n",
    "        return res\n",
    "            "
   ]
  }
 ],
 "metadata": {
  "kernelspec": {
   "display_name": "Python 3",
   "language": "python",
   "name": "python3"
  },
  "language_info": {
   "codemirror_mode": {
    "name": "ipython",
    "version": 3
   },
   "file_extension": ".py",
   "mimetype": "text/x-python",
   "name": "python",
   "nbconvert_exporter": "python",
   "pygments_lexer": "ipython3",
   "version": "3.7.4"
  },
  "toc": {
   "base_numbering": 1,
   "nav_menu": {},
   "number_sections": true,
   "sideBar": true,
   "skip_h1_title": false,
   "title_cell": "Table of Contents",
   "title_sidebar": "Contents",
   "toc_cell": true,
   "toc_position": {},
   "toc_section_display": true,
   "toc_window_display": true
  }
 },
 "nbformat": 4,
 "nbformat_minor": 2
}
