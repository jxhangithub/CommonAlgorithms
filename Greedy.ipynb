{
 "cells": [
  {
   "cell_type": "markdown",
   "metadata": {
    "toc": true
   },
   "source": [
    "<h1>Table of Contents<span class=\"tocSkip\"></span></h1>\n",
    "<div class=\"toc\"><ul class=\"toc-item\"><li><span><a href=\"#Greedy-algorithms\" data-toc-modified-id=\"Greedy-algorithms-1\"><span class=\"toc-item-num\">1&nbsp;&nbsp;</span>Greedy algorithms</a></span><ul class=\"toc-item\"><li><span><a href=\"#Basic-greedy-algorithms\" data-toc-modified-id=\"Basic-greedy-algorithms-1.1\"><span class=\"toc-item-num\">1.1&nbsp;&nbsp;</span>Basic greedy algorithms</a></span><ul class=\"toc-item\"><li><span><a href=\"#1221.-Split-a-String-in-Balanced-Strings\" data-toc-modified-id=\"1221.-Split-a-String-in-Balanced-Strings-1.1.1\"><span class=\"toc-item-num\">1.1.1&nbsp;&nbsp;</span>1221. Split a String in Balanced Strings</a></span></li><li><span><a href=\"#55.-Jump-Game\" data-toc-modified-id=\"55.-Jump-Game-1.1.2\"><span class=\"toc-item-num\">1.1.2&nbsp;&nbsp;</span>55. Jump Game</a></span></li><li><span><a href=\"#1196.-How-Many-Apples-Can-You-Put-into-the-Basket\" data-toc-modified-id=\"1196.-How-Many-Apples-Can-You-Put-into-the-Basket-1.1.3\"><span class=\"toc-item-num\">1.1.3&nbsp;&nbsp;</span>1196. How Many Apples Can You Put into the Basket</a></span></li><li><span><a href=\"#881.-Boats-to-Save-People\" data-toc-modified-id=\"881.-Boats-to-Save-People-1.1.4\"><span class=\"toc-item-num\">1.1.4&nbsp;&nbsp;</span>881. Boats to Save People</a></span></li><li><span><a href=\"#1414.-Find-the-Minimum-Number-of-Fibonacci-Numbers-Whose-Sum-Is-K\" data-toc-modified-id=\"1414.-Find-the-Minimum-Number-of-Fibonacci-Numbers-Whose-Sum-Is-K-1.1.5\"><span class=\"toc-item-num\">1.1.5&nbsp;&nbsp;</span>1414. Find the Minimum Number of Fibonacci Numbers Whose Sum Is K</a></span></li><li><span><a href=\"#1167.-Minimum-Cost-to-Connect-Sticks\" data-toc-modified-id=\"1167.-Minimum-Cost-to-Connect-Sticks-1.1.6\"><span class=\"toc-item-num\">1.1.6&nbsp;&nbsp;</span>1167. Minimum Cost to Connect Sticks</a></span></li></ul></li><li><span><a href=\"#Interval-maximization\" data-toc-modified-id=\"Interval-maximization-1.2\"><span class=\"toc-item-num\">1.2&nbsp;&nbsp;</span>Interval maximization</a></span><ul class=\"toc-item\"><li><span><a href=\"#Interval-Scheduling-maximization\" data-toc-modified-id=\"Interval-Scheduling-maximization-1.2.1\"><span class=\"toc-item-num\">1.2.1&nbsp;&nbsp;</span>Interval Scheduling maximization</a></span></li><li><span><a href=\"#646.-Maximum-Length-of-Pair-Chain\" data-toc-modified-id=\"646.-Maximum-Length-of-Pair-Chain-1.2.2\"><span class=\"toc-item-num\">1.2.2&nbsp;&nbsp;</span>646. Maximum Length of Pair Chain</a></span></li><li><span><a href=\"#435.-Non-overlapping-Intervals\" data-toc-modified-id=\"435.-Non-overlapping-Intervals-1.2.3\"><span class=\"toc-item-num\">1.2.3&nbsp;&nbsp;</span>435. Non-overlapping Intervals</a></span></li><li><span><a href=\"#763.-Partition-Labels\" data-toc-modified-id=\"763.-Partition-Labels-1.2.4\"><span class=\"toc-item-num\">1.2.4&nbsp;&nbsp;</span>763. Partition Labels</a></span></li></ul></li></ul></li></ul></div>"
   ]
  },
  {
   "cell_type": "markdown",
   "metadata": {},
   "source": [
    "# Greedy algorithms"
   ]
  },
  {
   "cell_type": "markdown",
   "metadata": {},
   "source": [
    "## Basic greedy algorithms\n",
    "Greedy is an algorithmic paradigm that builds up a solution piece by piece, always choosing the next piece that offers the most obvious and immediate benefit. Greedy algorithms are used for optimization problems. An optimization problem can be solved using Greedy if the problem has the following property: At every step, we can make a choice that looks best at the moment, and we get the optimal solution of the complete problem."
   ]
  },
  {
   "cell_type": "markdown",
   "metadata": {},
   "source": [
    "### 1221. Split a String in Balanced Strings\n",
    "\n",
    "Balanced strings are those who have equal quantity of 'L' and 'R' characters.\n",
    "\n",
    "Given a balanced string s split it in the maximum amount of balanced strings.\n",
    "\n",
    "Return the maximum amount of splitted balanced strings."
   ]
  },
  {
   "cell_type": "code",
   "execution_count": null,
   "metadata": {},
   "outputs": [],
   "source": [
    "class Solution:\n",
    "    def balancedStringSplit(self, s: str) -> int:\n",
    "        \n",
    "        count = 0\n",
    "        bal = 0\n",
    "        for c in s:\n",
    "            if c == 'R':\n",
    "                bal += 1\n",
    "            elif c == 'L':\n",
    "                bal -= 1\n",
    "            if bal == 0:\n",
    "                count += 1\n",
    "                bal = 0\n",
    "        return count"
   ]
  },
  {
   "cell_type": "markdown",
   "metadata": {},
   "source": [
    "### 55. Jump Game\n",
    "Given an array of non-negative integers, you are initially positioned at the first index of the array.\n",
    "\n",
    "Each element in the array represents your maximum jump length at that position.\n",
    "\n",
    "Determine if you are able to reach the last index."
   ]
  },
  {
   "cell_type": "code",
   "execution_count": null,
   "metadata": {},
   "outputs": [],
   "source": [
    "class Solution:\n",
    "    def canJump(self, nums: List[int]) -> bool:\n",
    "        \n",
    "        \n",
    "        maxReach = 0\n",
    "        \n",
    "        for i, x in enumerate(nums):\n",
    "            \n",
    "            if i > maxReach:\n",
    "                return False\n",
    "            \n",
    "            maxReach = max(maxReach, i + x)\n",
    "            \n",
    "        \n",
    "        return maxReach >= (len(nums) - 1)\n",
    "    \n",
    "# greedy solution\n",
    "class Solution:\n",
    "    def canJump(self, nums: List[int]) -> bool:\n",
    "        \n",
    "        max_reach = 0\n",
    "        \n",
    "        i = 0\n",
    "        \n",
    "        while i <= max_reach:\n",
    "            max_reach = max(max_reach, nums[i] + i)\n",
    "            i += 1\n",
    "            if max_reach >= len(nums) - 1:\n",
    "                return True\n",
    "        return False\n",
    "    \n",
    "# self \n",
    "class Solution:\n",
    "    def canJump(self, nums: List[int]) -> bool:\n",
    "        n = len(nums)\n",
    "        reach = 0\n",
    "        for idx, step in enumerate(nums):\n",
    "            if idx > reach:\n",
    "                return False\n",
    "            reach = max(reach, idx+step)\n",
    "            if reach >= n-1:\n",
    "                return True \n",
    "            \n",
    "        "
   ]
  },
  {
   "cell_type": "markdown",
   "metadata": {},
   "source": [
    "### 1196. How Many Apples Can You Put into the Basket\n",
    "You have some apples, where arr[i] is the weight of the i-th apple.  You also have a basket that can carry up to 5000 units of weight.\n",
    "\n",
    "Return the maximum number of apples you can put in the basket.\n",
    "\n",
    " "
   ]
  },
  {
   "cell_type": "code",
   "execution_count": null,
   "metadata": {},
   "outputs": [],
   "source": [
    "class Solution:\n",
    "    def maxNumberOfApples(self, arr: List[int]) -> int:\n",
    "        arr.sort()\n",
    "        count = 0\n",
    "        tempSum = 0\n",
    "        i = 0\n",
    "        while i < len(arr):\n",
    "            tempSum += arr[i]\n",
    "            if tempSum <= 5000:\n",
    "                count += 1\n",
    "            else:\n",
    "                break\n",
    "            i += 1\n",
    "        return count\n",
    "# self\n",
    "class Solution:\n",
    "    def maxNumberOfApples(self, arr: List[int]) -> int:\n",
    "        apples = sorted(weight)\n",
    "        count = 0\n",
    "        sum = 0\n",
    "        for apple in apples:\n",
    "            sum += apple\n",
    "            if sum <= 5000:\n",
    "                count += 1\n",
    "        return count \n",
    "    \n",
    "# self.\n",
    "class Solution: # time limit exceed \n",
    "    def maxNumberOfApples(self, arr: List[int]) -> int:   \n",
    "        n = len(arr)\n",
    "        dp = [[0]* (1+n) for _ in range(5000+1)] \n",
    "        for item in range(1, 1+n):\n",
    "            for capacity in range(1, 5000+1):\n",
    "                dp[capacity][item] = dp[capacity][item-1]\n",
    "                if capacity - arr[item-1] >=0:\n",
    "                    dp[capacity][item] = max(dp[capacity][item], dp[capacity-arr[item-1]][item-1] + 1)\n",
    "        return dp[-1][-1]\n",
    "           \n",
    "                \n",
    "                         "
   ]
  },
  {
   "cell_type": "markdown",
   "metadata": {},
   "source": [
    "### 881. Boats to Save People\n",
    "\n",
    "The i-th person has weight people[i], and each boat can carry a maximum weight of limit.\n",
    "\n",
    "Each boat carries at most 2 people at the same time, provided the sum of the weight of those people is at most limit.\n",
    "\n",
    "Return the minimum number of boats to carry every given person.  (It is guaranteed each person can be carried by a boat.)"
   ]
  },
  {
   "cell_type": "code",
   "execution_count": null,
   "metadata": {},
   "outputs": [],
   "source": [
    "class Solution:\n",
    "    def numRescueBoats(self, people: List[int], limit: int) -> int:\n",
    "        people.sort()\n",
    "        \n",
    "        left, right = 0, len(people) - 1\n",
    "        answer = 0\n",
    "        while left <= right:\n",
    "            answer += 1\n",
    "            if people[left] + people[right] <= limit:\n",
    "                left += 1\n",
    "            right -= 1 # if left+right > limit, only move right, if <= move left + right \n",
    "        return answer\n",
    "            "
   ]
  },
  {
   "cell_type": "markdown",
   "metadata": {},
   "source": [
    "### 1414. Find the Minimum Number of Fibonacci Numbers Whose Sum Is K\n",
    "Given the number k, return the minimum number of Fibonacci numbers whose sum is equal to k, whether a Fibonacci number could be used multiple times.\n",
    "\n",
    "The Fibonacci numbers are defined as:\n",
    "\n",
    "F1 = 1\n",
    "F2 = 1\n",
    "Fn = Fn-1 + Fn-2 , for n > 2.\n",
    "It is guaranteed that for the given constraints we can always find such fibonacci numbers that sum k."
   ]
  },
  {
   "cell_type": "code",
   "execution_count": null,
   "metadata": {},
   "outputs": [],
   "source": [
    "class Solution:\n",
    "    def findMinFibonacciNumbers(self, k: int) -> int:\n",
    "        \n",
    "        f = [1, 1]\n",
    "        \n",
    "        while f[-1] <= k:\n",
    "            f.append(f[-1] + f[-2])\n",
    "        count = 0\n",
    "        while True:\n",
    "            idx = bisect.bisect_left(f, k)\n",
    "            count += 1\n",
    "            if f[idx] == k:\n",
    "                return count\n",
    "            elif f[idx] > k:\n",
    "                k -= f[idx - 1]\n",
    "        return count\n",
    "                "
   ]
  },
  {
   "cell_type": "markdown",
   "metadata": {},
   "source": [
    "### 1167. Minimum Cost to Connect Sticks\n",
    "\n",
    "You have some sticks with positive integer lengths.\n",
    "\n",
    "You can connect any two sticks of lengths X and Y into one stick by paying a cost of X + Y.  You perform this action until there is one stick remaining.\n",
    "\n",
    "Return the minimum cost of connecting all the given sticks into one stick in this way."
   ]
  },
  {
   "cell_type": "code",
   "execution_count": null,
   "metadata": {},
   "outputs": [],
   "source": [
    "class Solution:\n",
    "    def connectSticks(self, sticks: List[int]) -> int:\n",
    "        \n",
    "        heapq.heapify(sticks)\n",
    "        cost = 0\n",
    "        while len(sticks) >= 2:\n",
    "            a = heapq.heappop(sticks)\n",
    "            b = heapq.heappop(sticks)\n",
    "            cost += (a + b)\n",
    "            heapq.heappush(sticks, (a + b))\n",
    "        return cost"
   ]
  },
  {
   "cell_type": "markdown",
   "metadata": {},
   "source": [
    "## Interval maximization"
   ]
  },
  {
   "cell_type": "markdown",
   "metadata": {},
   "source": [
    "### Interval Scheduling maximization\n",
    "The interval scheduling maximization problem (ISMP) is to find a largest compatible set - a set of non-overlapping intervals of maximum size. \n",
    "\n",
    "1) Sort the activities according to their finishing time\n",
    "2) Select the first activity from the sorted array.\n",
    "3) Do following for remaining activities in the sorted array.\n",
    "…….a) If the start time of this activity is greater than or equal to the finish time of previously selected activity then select this activity."
   ]
  },
  {
   "cell_type": "code",
   "execution_count": null,
   "metadata": {},
   "outputs": [],
   "source": [
    "def activitySelection(events):\n",
    "    \n",
    "    events.sort(key=lambda x: x[1])\n",
    "    result = []\n",
    "    for i in range(len(events)):\n",
    "        if not result or events[i][0] >= result[-1][1]:\n",
    "            result.append(events[i])\n",
    "    return result\n",
    "\n",
    "\n",
    "events = [[5, 9], [8, 9], [5, 7], [0, 6], [3, 4], [1, 2]]\n",
    "\n",
    "print(activitySelection(events))"
   ]
  },
  {
   "cell_type": "markdown",
   "metadata": {},
   "source": [
    "### 646. Maximum Length of Pair Chain\n",
    "\n",
    "You are given n pairs of numbers. In every pair, the first number is always smaller than the second number.\n",
    "\n",
    "Now, we define a pair (c, d) can follow another pair (a, b) if and only if b < c. Chain of pairs can be formed in this fashion.\n",
    "\n",
    "Given a set of pairs, find the length longest chain which can be formed. You needn't use up all the given pairs. You can select pairs in any order."
   ]
  },
  {
   "cell_type": "code",
   "execution_count": null,
   "metadata": {},
   "outputs": [],
   "source": [
    "# greedy algorithm\n",
    "class Solution:\n",
    "    def findLongestChain(self, pairs: List[List[int]]) -> int:\n",
    "        \n",
    "        pairs.sort(key = lambda x: x[1])\n",
    "        count = 1\n",
    "        end = pairs[0][1]\n",
    "        for i in range(1, len(pairs)):\n",
    "            if pairs[i][0] > end:\n",
    "                count += 1\n",
    "                end = pairs[i][1]\n",
    "        return count\n",
    "# longest path in graph, dp solution\n",
    "class Solution:\n",
    "    def findLongestChain(self, pairs: List[List[int]]) -> int:\n",
    "        \n",
    "        dp = [0] * (len(pairs))\n",
    "        pairs = [tuple(e) for e in pairs]\n",
    "        pairs.sort()\n",
    "        for i in range(len(pairs)):\n",
    "            if i == 0:\n",
    "                dp[i] = 1\n",
    "            else:\n",
    "                dp[i] = 1\n",
    "                for j in range(i):\n",
    "                    if pairs[j][1] < pairs[i][0]:\n",
    "                        dp[i] = max(dp[i], 1 + dp[j])\n",
    "                \n",
    "        return max(dp)\n",
    "# self\n",
    "class Solution(object): #Time Limit Exceeded\n",
    "    def findLongestChain(self, pairs):\n",
    "        pairs.sort()\n",
    "        # sort by start / end both works\n",
    "        # pairs.sort(key=lambda x: x[0]) \n",
    "        # pairs.sort(key=lambda x: x[1])\n",
    "        dp = [1] * len(pairs)\n",
    "\n",
    "        for j in range(len(pairs)):\n",
    "            for i in range(j):\n",
    "                if pairs[i][1] < pairs[j][0]:\n",
    "                    dp[j] = max(dp[j], dp[i] + 1)\n",
    "\n",
    "        return max(dp)"
   ]
  },
  {
   "cell_type": "markdown",
   "metadata": {},
   "source": [
    "### 435. Non-overlapping Intervals\n",
    "Given a collection of intervals, find the minimum number of intervals you need to remove to make the rest of the intervals non-overlapping."
   ]
  },
  {
   "cell_type": "code",
   "execution_count": null,
   "metadata": {},
   "outputs": [],
   "source": [
    "# sort the starting point\n",
    "class Solution:\n",
    "    def eraseOverlapIntervals(self, intervals: List[List[int]]) -> int:\n",
    "        \n",
    "        if len(intervals) < 2:\n",
    "            return 0\n",
    "        # if two overlapped, at least one needs to be removed. Remove the one last longer\n",
    "        \n",
    "        intervals.sort(key=lambda x: (x[0], x[1]))\n",
    "        \n",
    "        prev = 0\n",
    "        curr = 1\n",
    "        count = 0\n",
    "        while curr < len(intervals):\n",
    "            #overlap\n",
    "            if intervals[curr][0] < intervals[prev][1]:\n",
    "                count += 1\n",
    "                if intervals[curr][1] > intervals[prev][1]:\n",
    "                    curr += 1\n",
    "                else:\n",
    "                    prev = curr\n",
    "                    curr += 1\n",
    "            else:# no overlap\n",
    "                prev = curr\n",
    "                curr += 1\n",
    "        return count\n",
    "    \n",
    "# self\n",
    "class Solution:  # find the max non overlap interval count, then the diff from total length is the minimum to remove\n",
    "    def eraseOverlapIntervals(self, intervals: List[List[int]]) -> int:\n",
    "        intervals.sort(key=lambda x:x[1])\n",
    "        prev_end = 0\n",
    "        count = 0\n",
    "        for start, end in intervals:\n",
    "            if count == 0 or start >= prev_end:\n",
    "                count += 1\n",
    "                prev_end = end \n",
    "        return len(intervals) - count \n",
    "            \n",
    "# self2: time limit exceed \n",
    "class Solution:  # find the max non overlap interval count, then the diff from total length is the minimum to remove\n",
    "    def eraseOverlapIntervals(self, intervals: List[List[int]]) -> int:\n",
    "        intervals.sort()\n",
    "        n = len(intervals)\n",
    "        dp = [1] * n\n",
    "        count = 1\n",
    "        for j in range(n):\n",
    "            for i in range(j):\n",
    "                if intervals[i][1] <= intervals[j][0]:\n",
    "                    dp[j] = max(dp[j], dp[i]+1)\n",
    "                    count = max(dp[j], count)\n",
    "        return n-count\n",
    "    "
   ]
  },
  {
   "cell_type": "markdown",
   "metadata": {},
   "source": [
    "### 763. Partition Labels\n",
    "\n",
    "A string S of lowercase English letters is given. We want to partition this string into as many parts as possible so that each letter appears in at most one part, and return a list of integers representing the size of these parts."
   ]
  },
  {
   "cell_type": "code",
   "execution_count": null,
   "metadata": {},
   "outputs": [],
   "source": [
    "class Solution:\n",
    "    def partitionLabels(self, s: str) -> List[int]:\n",
    "        \n",
    "        ends = {}\n",
    "        for i in range(len(s) - 1, -1, -1):\n",
    "            if s[i] not in ends:\n",
    "                ends[s[i]] = i\n",
    "                \n",
    "        res = []\n",
    "        currStart = 0\n",
    "        currEnd = 0\n",
    "        for i in range(len(s)):\n",
    "            currEnd = max(currEnd, ends[s[i]])\n",
    "            if i == currEnd:\n",
    "                res.append(currEnd - currStart + 1)\n",
    "                currStart = i + 1\n",
    "        return res\n",
    "            "
   ]
  }
 ],
 "metadata": {
  "kernelspec": {
   "display_name": "Python 3 (ipykernel)",
   "language": "python",
   "name": "python3"
  },
  "language_info": {
   "codemirror_mode": {
    "name": "ipython",
    "version": 3
   },
   "file_extension": ".py",
   "mimetype": "text/x-python",
   "name": "python",
   "nbconvert_exporter": "python",
   "pygments_lexer": "ipython3",
   "version": "3.7.11"
  },
  "toc": {
   "base_numbering": 1,
   "nav_menu": {},
   "number_sections": true,
   "sideBar": true,
   "skip_h1_title": false,
   "title_cell": "Table of Contents",
   "title_sidebar": "Contents",
   "toc_cell": true,
   "toc_position": {},
   "toc_section_display": true,
   "toc_window_display": true
  }
 },
 "nbformat": 4,
 "nbformat_minor": 2
}
