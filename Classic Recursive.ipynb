{
 "cells": [
  {
   "cell_type": "code",
   "execution_count": null,
   "metadata": {},
   "outputs": [],
   "source": [
    "def power(x, n):\n",
    "    if n == 0:\n",
    "        return 1\n",
    "    \n",
    "    if n % 2 == 0:\n",
    "        tmp = power(x, n // 2)\n",
    "        return tmp * tmp\n",
    "    else:\n",
    "        tmp = power(x, n // 2)\n",
    "        return tmp * tmp * x\n",
    "    \n",
    "def power(x, n):\n",
    "    ans = 1\n",
    "    base = x\n",
    "    while n > 0:\n",
    "        if n % 2 == 1:\n",
    "            ans *= base\n",
    "        base *= base\n",
    "        n = n // 2\n",
    "    return ans"
   ]
  }
 ],
 "metadata": {
  "kernelspec": {
   "display_name": "Python 3",
   "language": "python",
   "name": "python3"
  },
  "language_info": {
   "codemirror_mode": {
    "name": "ipython",
    "version": 3
   },
   "file_extension": ".py",
   "mimetype": "text/x-python",
   "name": "python",
   "nbconvert_exporter": "python",
   "pygments_lexer": "ipython3",
   "version": "3.7.4"
  }
 },
 "nbformat": 4,
 "nbformat_minor": 2
}
