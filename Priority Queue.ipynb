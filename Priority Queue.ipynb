{
 "cells": [
  {
   "cell_type": "markdown",
   "metadata": {},
   "source": [
    "Heap\n",
    "\n",
    "key methods: \n",
    "    \n",
    "    heappush(list, item), heappop(list, item), the elements are ordered using comparisons between item\n",
    "    heapify(list), turn list into heap"
   ]
  },
  {
   "cell_type": "code",
   "execution_count": 6,
   "metadata": {},
   "outputs": [
    {
     "name": "stdout",
     "output_type": "stream",
     "text": [
      "[1, 2, 3, 3, 4, 6, 6, 8, 9]\n",
      "[1, 2, 3, 3, 4, 6, 6, 8, 9]\n"
     ]
    }
   ],
   "source": [
    "# use heapq for heapsort\n",
    "\n",
    "from heapq import *\n",
    "\n",
    "def heapsort(iterable):\n",
    "    h = []\n",
    "    for value in iterable:\n",
    "        heappush(h, value)\n",
    "    return [heappop(h) for _ in range(len(h))]\n",
    "\n",
    "print(heapsort([9, 4, 1, 2, 3, 6, 8, 3, 6 ]))\n",
    "\n",
    "# print(heapsort([(1, 2), 4, 1, 2, 3, 6, 8, 3, 6 ])) error: since int and tuple cannot be compared\n",
    "\n",
    "\n",
    "def heapsort2(iterable):\n",
    "    heapify(iterable)\n",
    "    return [heappop(iterable) for _ in range(len(iterable))]\n",
    "\n",
    "print(heapsort2([9, 4, 1, 2, 3, 6, 8, 3, 6 ]))"
   ]
  },
  {
   "cell_type": "code",
   "execution_count": null,
   "metadata": {},
   "outputs": [],
   "source": [
    "## Find the kth largest element in an unsorted array. Note that it is the kth largest \n",
    "## element in the sorted order, not the kth distinct element.\n",
    "\n",
    "class Solution:\n",
    "    def findKthLargest(self, nums: List[int], k: int) -> int:\n",
    "        h = []\n",
    "        \n",
    "        for i in nums:\n",
    "            heapq.heappush(h, i)\n",
    "            if len(h) > k:\n",
    "                heapq.heappop(h)\n",
    "                \n",
    "        ## for every element popout, there is at least k elements greater than it\n",
    "        ## Therefore, the remaining k elements are the largest k elements\n",
    "            \n",
    "        return heapq.heappop(h)\n",
    "        "
   ]
  }
 ],
 "metadata": {
  "kernelspec": {
   "display_name": "Python 3",
   "language": "python",
   "name": "python3"
  },
  "language_info": {
   "codemirror_mode": {
    "name": "ipython",
    "version": 3
   },
   "file_extension": ".py",
   "mimetype": "text/x-python",
   "name": "python",
   "nbconvert_exporter": "python",
   "pygments_lexer": "ipython3",
   "version": "3.7.4"
  }
 },
 "nbformat": 4,
 "nbformat_minor": 2
}
