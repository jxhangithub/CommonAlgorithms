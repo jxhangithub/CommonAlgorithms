{
 "cells": [
  {
   "cell_type": "markdown",
   "metadata": {},
   "source": [
    "# Binary Search"
   ]
  },
  {
   "cell_type": "markdown",
   "metadata": {},
   "source": [
    "## Binary Search Level 1 (find the exact)\n",
    "\n",
    "Binary search is a famous question in algorithm.\n",
    "\n",
    "For a given sorted array (ascending order) and a target number, find the first index of this number in O(log n) time complexity.\n",
    "\n",
    "If the target number does not exist in the array, return -1.\n",
    "\n",
    "Example\n",
    "If the array is [1, 2, 3, 3, 4, 5, 10], for given target 3, return 2."
   ]
  },
  {
   "cell_type": "code",
   "execution_count": 3,
   "metadata": {},
   "outputs": [
    {
     "name": "stdout",
     "output_type": "stream",
     "text": [
      "2\n",
      "-1\n"
     ]
    }
   ],
   "source": [
    "def binarySearch(nums, target):\n",
    "    if not nums:\n",
    "        return -1\n",
    "\n",
    "    start, end = 0, len(nums) - 1\n",
    "    # 用 start + 1 < end 而不是 start < end 的目的是为了避免死循环\n",
    "    # 在 first position of target 的情况下不会出现死循环\n",
    "    # 但是在 last position of target 的情况下会出现死循环\n",
    "    # 样例：nums=[1，1] target = 1\n",
    "    # 为了统一模板，我们就都采用 start + 1 < end，就保证不会出现死循环\n",
    "    while start + 1 < end:\n",
    "        # python 没有 overflow 的问题，直接 // 2 就可以了\n",
    "        # java和C++ 最好写成 mid = start + (end - start) / 2\n",
    "        # 防止在 start = 2^31 - 1, end = 2^31 - 1 的情况下出现加法 overflow\n",
    "        mid = (start + end) // 2\n",
    "\n",
    "        # > , =, < 的逻辑先分开写，然后在看看 = 的情况是否能合并到其他分支里\n",
    "        if nums[mid] < target:\n",
    "            # 写作 start = mid + 1 也是正确的\n",
    "            # 只是可以偷懒不写，因为不写也没问题，不会影响时间复杂度\n",
    "            # 不写的好处是，万一你不小心写成了 mid - 1 你就错了\n",
    "            start = mid\n",
    "        elif nums[mid] == target:\n",
    "            end = mid\n",
    "        else: \n",
    "            # 写作 end = mid - 1 也是正确的\n",
    "            # 只是可以偷懒不写，因为不写也没问题，不会影响时间复杂度\n",
    "            # 不写的好处是，万一你不小心写成了 mid + 1 你就错了\n",
    "            end = mid\n",
    "\n",
    "    # 因为上面的循环退出条件是 start + 1 < end\n",
    "    # 因此这里循环结束的时候，start 和 end 的关系是相邻关系（1和2，3和4这种）\n",
    "    # 因此需要再单独判断 start 和 end 这两个数谁是我们要的答案\n",
    "    # 如果是找 first position of target 就先看 start，否则就先看 end\n",
    "    if nums[start] == target:\n",
    "        return start\n",
    "    if nums[end] == target:\n",
    "        return end\n",
    "\n",
    "    return -1\n",
    "\n",
    "a = [1, 2, 3, 4, 5, 6]\n",
    "print(binarySearch(a, 3))\n",
    "print(binarySearch(a, 0))"
   ]
  },
  {
   "cell_type": "markdown",
   "metadata": {},
   "source": [
    "## Binary Search Level 1.5 (find the the closest one)\n",
    "\n",
    "Binary search is a famous question in algorithm.\n",
    "\n",
    "For a given sorted array (ascending order) and a target number, find the first index of this number in O(log n) time complexity.\n",
    "\n",
    "If the target number does not exist in the array, return the cloest one (if tie, return the smaller one).\n",
    "\n",
    "Example\n",
    "If the array is [1, 2, 3, 3, 4, 5, 10], for given target 3, return 2."
   ]
  },
  {
   "cell_type": "code",
   "execution_count": 4,
   "metadata": {},
   "outputs": [
    {
     "name": "stdout",
     "output_type": "stream",
     "text": [
      "2\n",
      "2\n",
      "3\n",
      "0\n",
      "5\n"
     ]
    }
   ],
   "source": [
    "def binarySearch(nums, target):\n",
    "    if not nums:\n",
    "        return -1\n",
    "\n",
    "    start, end = 0, len(nums) - 1\n",
    "\n",
    "    while start + 1 < end:\n",
    "\n",
    "        mid = (start + end) // 2\n",
    "        if nums[mid] < target:\n",
    "            start = mid\n",
    "        else: \n",
    "            end = mid\n",
    "\n",
    "    # 因为上面的循环退出条件是 start + 1 < end\n",
    "    # 因此这里循环结束的时候，start 和 end 的关系是相邻关系（1和2，3和4这种）\n",
    "    # 因此需要再单独判断 start 和 end 这两个数谁是我们要的答案\n",
    "    # 如果是找 first position of target 就先看 start，否则就先看 end\n",
    "    if abs(nums[start] - target) <= abs(nums[end] - target):\n",
    "        return start\n",
    "    elif abs(nums[start] - target) > abs(nums[end] - target):\n",
    "        return end\n",
    "\n",
    "a = [1, 2, 3, 4, 5, 6]\n",
    "print(binarySearch(a, 3.2))\n",
    "print(binarySearch(a, 3.5))\n",
    "print(binarySearch(a, 3.8))\n",
    "print(binarySearch(a, 0))\n",
    "print(binarySearch(a, 7))"
   ]
  },
  {
   "cell_type": "markdown",
   "metadata": {},
   "source": [
    "## Binary Search Level 2 (find the the first one)\n",
    "\n",
    "Binary search is a famous question in algorithm.\n",
    "\n",
    "For a given sorted array (ascending order) and a target number, find the first index of this number in O(log n) time complexity.\n",
    "\n",
    "If the target number does not exist in the array, return the cloest one (if tie, return the smaller one).\n",
    "\n",
    "Example\n",
    "If the array is [1, 2, 3, 3, 4, 5, 10], for given target 3, return 2."
   ]
  },
  {
   "cell_type": "code",
   "execution_count": 8,
   "metadata": {},
   "outputs": [
    {
     "name": "stdout",
     "output_type": "stream",
     "text": [
      "1\n"
     ]
    }
   ],
   "source": [
    "def binarySearch(nums, target):\n",
    "    # write your code here\n",
    "    left, right = 0, len(nums)-1\n",
    "    while left + 1 < right :\n",
    "        mid = (left + right) // 2\n",
    "        if nums[mid] < target :\n",
    "            left = mid\n",
    "        else :\n",
    "            right = mid\n",
    "            \n",
    "    # if left == 0, then there is possibility that nums[left] == target;\n",
    "    # if left > 0, then A[left] < target (strictly)\n",
    "    # for right, we always have A[right] >= target\n",
    "    if nums[left] == target :\n",
    "        return left\n",
    "    elif nums[right] == target :\n",
    "        return right\n",
    "    return -1;\n",
    "\n",
    "a = [1, 2, 2, 4, 5, 6]\n",
    "print(binarySearch(a, 2))"
   ]
  },
  {
   "cell_type": "markdown",
   "metadata": {},
   "source": [
    "## Binary Search Level 2 (find the the last one)\n",
    "\n",
    "Binary search is a famous question in algorithm.\n",
    "\n",
    "For a given sorted array (ascending order) and a target number, find the first index of this number in O(log n) time complexity.\n",
    "\n",
    "If the target number does not exist in the array, return the cloest one (if tie, return the smaller one).\n",
    "\n",
    "Example\n",
    "If the array is [1, 2, 3, 3, 4, 5, 10], for given target 3, return 3."
   ]
  },
  {
   "cell_type": "code",
   "execution_count": 9,
   "metadata": {},
   "outputs": [
    {
     "name": "stdout",
     "output_type": "stream",
     "text": [
      "2\n"
     ]
    }
   ],
   "source": [
    "def binarySearch(A, target):\n",
    "    if not A or target is None:\n",
    "        return -1\n",
    "\n",
    "    start = 0\n",
    "    end = len(A) - 1\n",
    "\n",
    "    while start + 1 < end:\n",
    "        mid = start + (end - start) // 2\n",
    "\n",
    "        if A[mid] <= target:\n",
    "            start = mid\n",
    "        elif A[mid] > target:\n",
    "            end = mid\n",
    "\n",
    "    if A[end] == target:\n",
    "        return end\n",
    "    elif A[start] == target:\n",
    "        return start\n",
    "    else:\n",
    "        return -1\n",
    "a = [1, 2, 2, 4, 5, 6]\n",
    "print(binarySearch(a, 2))"
   ]
  },
  {
   "cell_type": "markdown",
   "metadata": {},
   "source": [
    "## Binary Search Level 3 (find the maximum from mountain array)\n",
    "\n",
    "Binary search is a famous question in algorithm.\n",
    "\n",
    "For a given sorted array (ascending order) and a target number, find the first index of this number in O(log n) time complexity.\n",
    "\n",
    "If the target number does not exist in the array, return the cloest one (if tie, return the smaller one).\n",
    "\n",
    "Example\n",
    "If the array is [1, 2, 3, 3, 4, 5, 10], for given target 3, return 3."
   ]
  },
  {
   "cell_type": "code",
   "execution_count": null,
   "metadata": {},
   "outputs": [],
   "source": [
    "def mountainSequence(self, nums):\n",
    "    if not nums:\n",
    "        return -1\n",
    "\n",
    "    # find first index i so that nums[i] > nums[i + 1]\n",
    "    start, end = 0, len(nums) - 1\n",
    "    while start + 1 < end:\n",
    "        mid = (start + end) // 2\n",
    "        # mid + 1 保证不会越界, since (start + end)//2 is biasing toward lower\n",
    "        # 因为 start 和 end 是 start + 1 < end\n",
    "        if nums[mid] > nums[mid + 1]:\n",
    "            end = mid # peak can only be end and smaller than end\n",
    "        else: # nums[mid] <= nums[mid+1]\n",
    "            start = mid # peak can only at mid or greater than start\n",
    "\n",
    "    return max(nums[start], nums[end])"
   ]
  }
 ],
 "metadata": {
  "kernelspec": {
   "display_name": "Python 3",
   "language": "python",
   "name": "python3"
  },
  "language_info": {
   "codemirror_mode": {
    "name": "ipython",
    "version": 3
   },
   "file_extension": ".py",
   "mimetype": "text/x-python",
   "name": "python",
   "nbconvert_exporter": "python",
   "pygments_lexer": "ipython3",
   "version": "3.7.3"
  }
 },
 "nbformat": 4,
 "nbformat_minor": 2
}
