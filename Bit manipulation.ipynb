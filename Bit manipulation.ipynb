{
 "cells": [
  {
   "cell_type": "code",
   "execution_count": 12,
   "metadata": {},
   "outputs": [
    {
     "name": "stdout",
     "output_type": "stream",
     "text": [
      "2\n",
      "46\n",
      "44\n",
      "-1\n",
      "-2\n"
     ]
    }
   ],
   "source": [
    "a  = 10 # 00001010\n",
    "b = 38 # 00100110\n",
    "\n",
    "c = a & b # 00000010\n",
    "print(c)\n",
    "d = a | b #00101110\n",
    "print(d)\n",
    "\n",
    "e = a ^ b #00101100 异或又称为 不进位加法\n",
    "print(e)\n",
    "\n",
    "f = ~0 # 11110101 最高位是一个符号位 0 表示正数， 1表示负数\n",
    "print(f)\n",
    "f = ~1\n",
    "print(f)\n",
    "##  A =   (1)10 = (00000000000000000000000000000001)2\n",
    "## ~A = ~ (1)10 = (11111111111111111111111111111110)2 = (-2)10"
   ]
  },
  {
   "cell_type": "code",
   "execution_count": 11,
   "metadata": {},
   "outputs": [
    {
     "name": "stdout",
     "output_type": "stream",
     "text": [
      "20\n",
      "5\n",
      "2\n",
      "-5\n"
     ]
    }
   ],
   "source": [
    "a = 10\n",
    "print(a << 1)\n",
    "print(a >> 1)\n",
    "print(a >> 2) \n",
    "# for a negative number which has 1 in the top bit, when right shifting, the top bit will append 1\n",
    "b = -10\n",
    "print(b >> 1)\n"
   ]
  },
  {
   "cell_type": "code",
   "execution_count": null,
   "metadata": {},
   "outputs": [],
   "source": []
  }
 ],
 "metadata": {
  "kernelspec": {
   "display_name": "Python 3",
   "language": "python",
   "name": "python3"
  },
  "language_info": {
   "codemirror_mode": {
    "name": "ipython",
    "version": 3
   },
   "file_extension": ".py",
   "mimetype": "text/x-python",
   "name": "python",
   "nbconvert_exporter": "python",
   "pygments_lexer": "ipython3",
   "version": "3.7.3"
  }
 },
 "nbformat": 4,
 "nbformat_minor": 2
}
