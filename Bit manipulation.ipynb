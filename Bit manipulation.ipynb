{
 "cells": [
  {
   "cell_type": "markdown",
   "metadata": {
    "toc": true
   },
   "source": [
    "<h1>Table of Contents<span class=\"tocSkip\"></span></h1>\n",
    "<div class=\"toc\"><ul class=\"toc-item\"><li><span><a href=\"#Basic-operations-and-facts\" data-toc-modified-id=\"Basic-operations-and-facts-1\"><span class=\"toc-item-num\">1&nbsp;&nbsp;</span>Basic operations and facts</a></span></li><li><span><a href=\"#190.-Reverse-Bits\" data-toc-modified-id=\"190.-Reverse-Bits-2\"><span class=\"toc-item-num\">2&nbsp;&nbsp;</span>190. Reverse Bits</a></span></li><li><span><a href=\"#136.-Single-Number\" data-toc-modified-id=\"136.-Single-Number-3\"><span class=\"toc-item-num\">3&nbsp;&nbsp;</span>136. Single Number</a></span></li><li><span><a href=\"#191.-Number-of-1-Bits\" data-toc-modified-id=\"191.-Number-of-1-Bits-4\"><span class=\"toc-item-num\">4&nbsp;&nbsp;</span>191. Number of 1 Bits</a></span></li><li><span><a href=\"#461.-Hamming-Distance\" data-toc-modified-id=\"461.-Hamming-Distance-5\"><span class=\"toc-item-num\">5&nbsp;&nbsp;</span>461. Hamming Distance</a></span></li><li><span><a href=\"#268.-Missing-Number\" data-toc-modified-id=\"268.-Missing-Number-6\"><span class=\"toc-item-num\">6&nbsp;&nbsp;</span>268. Missing Number</a></span></li><li><span><a href=\"#swap-two-numbers\" data-toc-modified-id=\"swap-two-numbers-7\"><span class=\"toc-item-num\">7&nbsp;&nbsp;</span>swap two numbers</a></span></li><li><span><a href=\"#Remove-the-first-bit\" data-toc-modified-id=\"Remove-the-first-bit-8\"><span class=\"toc-item-num\">8&nbsp;&nbsp;</span>Remove the first bit</a></span></li><li><span><a href=\"#Bit-manipulation-for-arthimetics-(371.-Sum-of-Two-Integers)\" data-toc-modified-id=\"Bit-manipulation-for-arthimetics-(371.-Sum-of-Two-Integers)-9\"><span class=\"toc-item-num\">9&nbsp;&nbsp;</span>Bit manipulation for arthimetics (371. Sum of Two Integers)</a></span></li><li><span><a href=\"#405.-Convert-a-Number-to-Hexadecimal\" data-toc-modified-id=\"405.-Convert-a-Number-to-Hexadecimal-10\"><span class=\"toc-item-num\">10&nbsp;&nbsp;</span>405. Convert a Number to Hexadecimal</a></span></li><li><span><a href=\"#231.-Power-of-Two\" data-toc-modified-id=\"231.-Power-of-Two-11\"><span class=\"toc-item-num\">11&nbsp;&nbsp;</span>231. Power of Two</a></span></li><li><span><a href=\"#342.-Power-of-Four\" data-toc-modified-id=\"342.-Power-of-Four-12\"><span class=\"toc-item-num\">12&nbsp;&nbsp;</span>342. Power of Four</a></span></li><li><span><a href=\"#326.-Power-of-Three\" data-toc-modified-id=\"326.-Power-of-Three-13\"><span class=\"toc-item-num\">13&nbsp;&nbsp;</span>326. Power of Three</a></span></li><li><span><a href=\"#693.-Binary-Number-with-Alternating-Bits\" data-toc-modified-id=\"693.-Binary-Number-with-Alternating-Bits-14\"><span class=\"toc-item-num\">14&nbsp;&nbsp;</span>693. Binary Number with Alternating Bits</a></span></li><li><span><a href=\"#190.-Reverse-Bits\" data-toc-modified-id=\"190.-Reverse-Bits-15\"><span class=\"toc-item-num\">15&nbsp;&nbsp;</span>190. Reverse Bits</a></span></li><li><span><a href=\"#1318.-Minimum-Flips-to-Make-a-OR-b-Equal-to-c\" data-toc-modified-id=\"1318.-Minimum-Flips-to-Make-a-OR-b-Equal-to-c-16\"><span class=\"toc-item-num\">16&nbsp;&nbsp;</span>1318. Minimum Flips to Make a OR b Equal to c</a></span></li><li><span><a href=\"#136.-Single-Number\" data-toc-modified-id=\"136.-Single-Number-17\"><span class=\"toc-item-num\">17&nbsp;&nbsp;</span>136. Single Number</a></span></li><li><span><a href=\"#137.-Single-Number-II\" data-toc-modified-id=\"137.-Single-Number-II-18\"><span class=\"toc-item-num\">18&nbsp;&nbsp;</span>137. Single Number II</a></span></li><li><span><a href=\"#260.-Single-Number-III\" data-toc-modified-id=\"260.-Single-Number-III-19\"><span class=\"toc-item-num\">19&nbsp;&nbsp;</span>260. Single Number III</a></span></li><li><span><a href=\"#191.-Number-of-1-Bits\" data-toc-modified-id=\"191.-Number-of-1-Bits-20\"><span class=\"toc-item-num\">20&nbsp;&nbsp;</span>191. Number of 1 Bits</a></span></li><li><span><a href=\"#Hamming-distance\" data-toc-modified-id=\"Hamming-distance-21\"><span class=\"toc-item-num\">21&nbsp;&nbsp;</span>Hamming distance</a></span></li></ul></div>"
   ]
  },
  {
   "cell_type": "markdown",
   "metadata": {},
   "source": [
    "\n",
    "### Basic operations and facts\n"
   ]
  },
  {
   "cell_type": "code",
   "execution_count": null,
   "metadata": {},
   "outputs": [],
   "source": [
    "To do:\n",
    "   https://leetcode.com/problems/sum-of-two-integers/discuss/84278/A-summary%3A-how-to-use-bit-manipulation-to-solve-problems-easily-and-efficiently \n",
    "    \n",
    "\n",
    "1. common knowledge (below we use 1s and 0s to indicate a sequence of 1s and 0s)\n",
    "\n",
    "~0 is a sequence of 1\n",
    "\n",
    "x ^ 0s = x\n",
    "x & 0s = 0\n",
    "x | 0s = x\n",
    "\n",
    "x ^ 1s = ~x\n",
    "x & 1s = x\n",
    "x | 1s = 1s\n",
    "\n",
    "x ^ x = 0\n",
    "x & x = x\n",
    "x | x = x\n",
    "\n",
    "2. representation of negative number\n",
    "A positive number is represented as itself while a negative number  is represented as its absolute value\n",
    "represnetation and with a 1 in its sign bit to indicate a negative value.\n",
    "\n",
    "In other words, the binary representation of -k as a N-bit number of concat (1, 2^(N-1) - k) or ((1 << N) - k)\n",
    "\n",
    "It a four bit integer, this would like the following\n",
    "\n",
    "7 0111   -1  1111  = (1 << 4) - 1 = 10000 - 1 = 1111\n",
    "6 0110   -2  1110  = (1 << 4) - 2 = 10000 - 2 = 1110\n",
    "5 0101   -3  1101\n",
    "4 0100   -4  1100\n",
    "3 0011   -5  1011\n",
    "2 0010   -6  1010\n",
    "1 0001   -7  1001\n",
    "0 0000\n",
    "\n",
    "3. logial and arithmetic right shift\n",
    "\n",
    "In a logical shift, we shift the bits and put 0 in the most significant bit. \n",
    "In an arithmetic right shift, we shift the values to the right but fill the new bit with the value of sign bit\n",
    "\n",
    "Python is arithmetic right shift.\n",
    "-8 >> 1 will give -4\n",
    "\n",
    "\n",
    "4. Get, set, clear, and update bit at the postion i\n",
    "\n",
    "def getBit(num, i):\n",
    "    return ((num & (1 << i)) ! = 0)\n",
    "# 1 << i will create a number like 00010000\n",
    "\n",
    "def getRightMostBit1(num):\n",
    "    return num % 2\n",
    "\n",
    "def getRightMostBit2(num):\n",
    "    return num & 1\n",
    "\n",
    "\n",
    "\n",
    "# set a bit to 1\n",
    "def setBit(num, i):\n",
    "    return num | (1 << i)\n",
    "\n",
    "def clearLastBit(num):\n",
    "    return num & (num - 1)\n",
    "\n",
    "def clearBit(num, i):\n",
    "    mask = ~(1 << i)\n",
    "    return num & mask\n",
    "# ~(1 << i) will create a number like 1110111\n",
    "\n",
    "# to clear all bits from the most significant bit through i (inclusive), we create a mask with a 1 at the ith \n",
    "bit(1 << i), then we substract 1 from 1 giving something like 00001111\n",
    "def clearBitMSBThroughI(num, i)\n",
    "    mask = (1 << i) - 1\n",
    "    return num & mask\n",
    "\n",
    "# to clear all bits from 0 through i (inclusive), we create a mask with a mask like 11110000\n",
    "\n",
    "def clearBitIThough0(num, i):\n",
    "    mask = (-1 << (i + 1))\n",
    "    return num & mask\n",
    "\n",
    "\n",
    "# update i th bit to a value v (0 or 1)\n",
    "\n",
    "def updateBit(num, i, v):\n",
    "    mask = ~ (1 << i)\n",
    "    return (num & mask) | v << i # two steps, first set that bit to zero then take OR operation\n",
    "\n",
    "# note we cannot use the following because if num has 1 at i bit, then it cannot be set to 0\n",
    "# set a bit to v (0 and 1)\n",
    "#def setBit(num, i, v):\n",
    "#    return num | (v << i)\n",
    "\n",
    "\n",
    "A short summary\n",
    "\n",
    "Set union A | B\n",
    "Set intersection A & B\n",
    "Set subtraction A & ~B\n",
    "Set negation ALL_BITS ^ A or ~A\n",
    "Set bit A |= 1 << bit\n",
    "Clear bit A &= ~(1 << bit)\n",
    "Test bit (A & 1 << bit) != 0\n",
    "\n",
    "* Remove last bit A&(A-1)\n",
    "Get all 1-bits ~0\n",
    "* Extract last bit A&-A or A&~(A-1) or x^(x&(x-1))\n",
    "\n",
    "To understand this\n",
    "x = 7,         00000111\n",
    "~x             11111000\n",
    "-x = ~x + 1 =  11111001\n",
    "\n",
    "x = 6,         00000110\n",
    "~x             11111001\n",
    "-x = ~x + 1 =  11111010"
   ]
  },
  {
   "cell_type": "markdown",
   "metadata": {},
   "source": [
    "### swap two numbers"
   ]
  },
  {
   "cell_type": "code",
   "execution_count": null,
   "metadata": {},
   "outputs": [],
   "source": [
    "def swap(a, b):\n",
    "    a = a ^ b\n",
    "    b = b ^ a # b now is a\n",
    "    a = b ^ a # a now is b\n",
    "    return a, b"
   ]
  },
  {
   "cell_type": "markdown",
   "metadata": {},
   "source": [
    "### Remove the first bit"
   ]
  },
  {
   "cell_type": "code",
   "execution_count": null,
   "metadata": {},
   "outputs": [],
   "source": [
    "        # remove first bit\n",
    "        while x & (x - 1):\n",
    "            x = x & (x - 1)\n",
    "        x = x & (~x)"
   ]
  },
  {
   "cell_type": "markdown",
   "metadata": {},
   "source": [
    "### Bit manipulation for arthimetics (371. Sum of Two Integers)"
   ]
  },
  {
   "cell_type": "code",
   "execution_count": null,
   "metadata": {},
   "outputs": [],
   "source": [
    "# Calculate the sum of two integers a and b, but you are not allowed to use the operator + and -\n",
    "\n",
    "class Solution:\n",
    "    def getSum(self, a: int, b: int) -> int:\n",
    "        \n",
    "        while b != 0:\n",
    "            carry = (a & b) << 1 \n",
    "            # if a and b have different bits on every bit position, the a + b = a^b\n",
    "            a = a ^ b\n",
    "            b = carry \n",
    "            \n",
    "        return a\n",
    "    # get subtraction\n",
    "    def getSubtraction(self, a, b):\n",
    "        \n",
    "        while b != 0:\n",
    "            borrow = ((~a) & b) << 1  # 0 bit at a and 1 bit at b will cause borrow\n",
    "            a = a ^ b # during subtraction, 0 encounter 1 will become 1, 0 encounters 0 will become 0, 1 encounter 1 will become 0, 1 encounter 0 will become 1\n",
    "            b = borrow\n",
    "        return a\n",
    "    \n",
    "    def getNegative(self, a):\n",
    "        \n",
    "        return ~a + 1"
   ]
  },
  {
   "cell_type": "markdown",
   "metadata": {},
   "source": [
    "### 405. Convert a Number to Hexadecimal\n",
    "Given an integer, write an algorithm to convert it to hexadecimal. For negative integer, two’s complement method is used."
   ]
  },
  {
   "cell_type": "code",
   "execution_count": null,
   "metadata": {},
   "outputs": [],
   "source": [
    "class Solution:\n",
    "    def toHex(self, num: int) -> str:\n",
    "        \n",
    "        if num == 0:\n",
    "            return '0'\n",
    "        map = '0123456789abcdef'\n",
    "        \n",
    "        result = []\n",
    "        # note that in python -1 >> 1 gives -1, this is undesirable\n",
    "        if num < 0:\n",
    "            num = (1 << 32) - abs(num)\n",
    "        \n",
    "        while num:\n",
    "            curr = 0\n",
    "            base = 1\n",
    "            for i in range(4):\n",
    "                bit = num & 1\n",
    "                curr += bit * base\n",
    "                base <<= 1\n",
    "                num = num >> 1\n",
    "                if num == 0:\n",
    "                    break\n",
    "            result.append(map[curr])\n",
    "            \n",
    "        return ''.join(result[::-1])\n",
    "    \n",
    "# a even smarter solution\n",
    "class Solution:\n",
    "    def toHex(self, num: int) -> str:\n",
    "        \n",
    "        if num == 0:\n",
    "            return '0'\n",
    "        \n",
    "        map = '0123456789abcdef'\n",
    "        \n",
    "        result = []\n",
    "        # note that in python -1 >> 1 gives -1, this is undesirable\n",
    "        if num < 0:\n",
    "            num = (1 << 32) - abs(num)\n",
    "        \n",
    "        while num:\n",
    "            curr = num & 15 # this means num & 1111b\n",
    "            result.append(map[curr])\n",
    "            num >>= 4\n",
    "        return ''.join(result[::-1])"
   ]
  },
  {
   "cell_type": "markdown",
   "metadata": {},
   "source": [
    "### 231. Power of Two"
   ]
  },
  {
   "cell_type": "code",
   "execution_count": null,
   "metadata": {},
   "outputs": [],
   "source": [
    "# remove last bit method\n",
    "class Solution:\n",
    "    def isPowerOfTwo(self, n: int) -> bool:\n",
    "        if n <= 0:\n",
    "            return False\n",
    "        return  n & (n - 1) == 0\n",
    "# extract the last bit\n",
    "class Solution:\n",
    "    def isPowerOfTwo(self, n: int) -> bool:\n",
    "        if n <= 0:\n",
    "            return False\n",
    "        return  n & (-n) == n"
   ]
  },
  {
   "cell_type": "markdown",
   "metadata": {},
   "source": [
    "### 342. Power of Four\n",
    "\n",
    "Given an integer (signed 32 bits), write a function to check whether it is a power of 4."
   ]
  },
  {
   "cell_type": "code",
   "execution_count": null,
   "metadata": {},
   "outputs": [],
   "source": [
    "# bit method\n",
    "class Solution:\n",
    "    def isPowerOfFour(self, num: int) -> bool:\n",
    "        return num > 0 and num & (num - 1) == 0 and num & 0xaaaaaaaa == 0 # 0xaaaaaaaa has bit at 2,4,6,...\n",
    "    \n",
    "# a generic approach\n",
    "class Solution:\n",
    "    def isPowerOfFour(self, num: int) -> bool:\n",
    "        if num <= 0:\n",
    "            return False\n",
    "        while num != 1:\n",
    "            num, rem = divmod(num, 4)\n",
    "            if rem != 0: return False\n",
    "        return True"
   ]
  },
  {
   "cell_type": "markdown",
   "metadata": {},
   "source": [
    "### 326. Power of Three\n",
    "Given an integer, write a function to determine if it is a power of three."
   ]
  },
  {
   "cell_type": "code",
   "execution_count": null,
   "metadata": {},
   "outputs": [],
   "source": [
    "class Solution:\n",
    "    def isPowerOfThree(self, num: int) -> bool:\n",
    "        if num <= 0:\n",
    "            return False\n",
    "        while num != 1:\n",
    "            num, rem = divmod(num, 3)\n",
    "            if rem != 0: return False\n",
    "        return True"
   ]
  },
  {
   "cell_type": "markdown",
   "metadata": {},
   "source": [
    "### 693. Binary Number with Alternating Bits\n",
    "Given a positive integer, check whether it has alternating bits: namely, if two adjacent bits will always have different values."
   ]
  },
  {
   "cell_type": "code",
   "execution_count": null,
   "metadata": {},
   "outputs": [],
   "source": [
    "class Solution:\n",
    "    def hasAlternatingBits(self, n: int) -> bool:\n",
    "        \n",
    "        prev = n & 1\n",
    "        \n",
    "        while n:\n",
    "            if (n & 1) != prev:\n",
    "                return False\n",
    "            prev = 1 - prev\n",
    "            n >>= 1\n",
    "        return True"
   ]
  },
  {
   "cell_type": "markdown",
   "metadata": {},
   "source": [
    "### 190. Reverse Bits\n",
    "Reverse bits of a given 32 bits unsigned integer."
   ]
  },
  {
   "cell_type": "code",
   "execution_count": null,
   "metadata": {},
   "outputs": [],
   "source": [
    "\n",
    "\n",
    "class Solution:\n",
    "    def reverseBits(self, n: int) -> int:\n",
    "        res = 0\n",
    "        for _ in range(32):\n",
    "            res <<= 1\n",
    "            res = res | (n & 1) # first get the rightMostBit, and set the rightMostBit of res\n",
    "            n >> 1\n",
    "        return res"
   ]
  },
  {
   "cell_type": "markdown",
   "metadata": {},
   "source": [
    "### 1318. Minimum Flips to Make a OR b Equal to c\n",
    "Given 3 positives numbers a, b and c. Return the minimum flips required in some bits of a and b to make ( a OR b == c ). (bitwise OR operation).\n",
    "Flip operation consists of change any single bit 1 to 0 or change the bit 0 to 1 in their binary representation."
   ]
  },
  {
   "cell_type": "code",
   "execution_count": null,
   "metadata": {},
   "outputs": [],
   "source": [
    "class Solution:\n",
    "    def minFlips(self, a: int, b: int, c: int) -> int:\n",
    "        \n",
    "        count = 0\n",
    "        while c or b or a:\n",
    "            \n",
    "            if c & 1 == 1:\n",
    "                if (a & 1 == 0) and (b & 1 == 0):\n",
    "                    count += 1\n",
    "            else:\n",
    "                if (a & 1 == 1):\n",
    "                    count += 1\n",
    "                if (b & 1 == 1):\n",
    "                    count += 1\n",
    "            c >>= 1\n",
    "            a >>= 1\n",
    "            b >>= 1\n",
    "                    \n",
    "        return count"
   ]
  },
  {
   "cell_type": "markdown",
   "metadata": {},
   "source": [
    "### 136. Single Number\n",
    "Given a non-empty array of integers, every element appears twice except for one. Find that single one.\n",
    "Note:\n",
    "Your algorithm should have a linear runtime complexity. Could you implement it without using extra memory?"
   ]
  },
  {
   "cell_type": "code",
   "execution_count": null,
   "metadata": {},
   "outputs": [],
   "source": [
    "class Solution:\n",
    "    def singleNumber(self, nums: List[int]) -> int:\n",
    "        \n",
    "        res = 0\n",
    "        # every number ^ with 0 is the number itself\n",
    "        for i in range(len(nums)):\n",
    "            res ^= nums[i]\n",
    "            \n",
    "            \n",
    "        return res"
   ]
  },
  {
   "cell_type": "markdown",
   "metadata": {},
   "source": [
    "### 137. Single Number II\n",
    "Given a non-empty array of integers, every element appears three times except for one, which appears exactly once. Find that single one.\n",
    "\n",
    "Note:\n",
    "\n",
    "Your algorithm should have a linear runtime complexity. Could you implement it without using extra memory?\n",
    "\n",
    "Example 1:\n",
    "\n",
    "Input: [2,2,3,2]\n",
    "Output: 3\n",
    "Example 2:\n",
    "\n",
    "Input: [0,1,0,1,0,1,99]\n",
    "Output: 99"
   ]
  },
  {
   "cell_type": "code",
   "execution_count": null,
   "metadata": {},
   "outputs": [],
   "source": [
    "class Solution:\n",
    "    def singleNumber(self, nums: List[int]) -> int:\n",
    "        bitCount = [0] * 32\n",
    "        \n",
    "        for e in nums:\n",
    "            mask = 1\n",
    "            for i in range(32):\n",
    "                if e & mask != 0:\n",
    "                    bitCount[i] += 1\n",
    "                mask <<= 1\n",
    "        for i in range(32):\n",
    "            bitCount[i] %= 3\n",
    "        \n",
    "        result = 0\n",
    "        base = 1\n",
    "        for i in range(32):\n",
    "            result += base * bitCount[i]\n",
    "            base <<= 1\n",
    "        \n",
    "        # maximum signed integer is 2^31 - 1\n",
    "        if result > 2**31 - 1:\n",
    "            return -(2**32 - result) # convert to negative integer\n",
    "        else:\n",
    "            return result\n",
    "                "
   ]
  },
  {
   "cell_type": "markdown",
   "metadata": {},
   "source": [
    "### 260. Single Number III\n",
    "Given an array of numbers nums, in which exactly two elements appear only once and all the other elements appear exactly twice. Find the two elements that appear only once.\n",
    "\n",
    "Example:\n",
    "\n",
    "Input:  [1,2,1,3,2,5]\n",
    "Output: [3,5]"
   ]
  },
  {
   "cell_type": "code",
   "execution_count": null,
   "metadata": {},
   "outputs": [],
   "source": [
    "class Solution:\n",
    "    def singleNumber(self, nums: List[int]) -> List[int]:\n",
    "        XOR = 0 \n",
    "        for e in nums:\n",
    "            XOR ^= e\n",
    "            \n",
    "        # XOR must has one bit to be one\n",
    "        \n",
    "        mask = XOR & (-XOR)\n",
    "        a = 0\n",
    "        b = 0\n",
    "        \n",
    "        for e in nums:\n",
    "            if e & mask == 0:\n",
    "                a ^= e\n",
    "            else:\n",
    "                b ^= e\n",
    "        return [a, b]"
   ]
  },
  {
   "cell_type": "markdown",
   "metadata": {},
   "source": [
    "### 191. Number of 1 Bits\n",
    "Write a function that takes an unsigned integer and return the number of '1' bits it has (also known as the Hamming weight).\n"
   ]
  },
  {
   "cell_type": "code",
   "execution_count": null,
   "metadata": {},
   "outputs": [],
   "source": [
    "class Solution:\n",
    "    def hammingWeight(self, n: int) -> int:\n",
    "        \n",
    "        count = 0\n",
    "        \n",
    "        while n > 0:\n",
    "            n = n & (n - 1)\n",
    "            count += 1\n",
    "        return count"
   ]
  },
  {
   "cell_type": "markdown",
   "metadata": {},
   "source": [
    "### Hamming distance\n",
    "The Hamming distance between two integers is the number of positions at which the corresponding bits are different.\n",
    "\n",
    "Given two integers x and y, calculate the Hamming distance.\n",
    "\n",
    "Note:\n",
    "0 ≤ x, y < 231.\n",
    "\n",
    "Example:\n",
    "\n",
    "Input: x = 1, y = 4\n",
    "\n",
    "Output: 2\n",
    "\n",
    "Explanation:\n",
    "1   (0 0 0 1)\n",
    "4   (0 1 0 0)\n",
    "       ↑   ↑\n",
    "\n",
    "The above arrows point to positions where the corresponding bits are different.\n"
   ]
  },
  {
   "cell_type": "code",
   "execution_count": null,
   "metadata": {},
   "outputs": [],
   "source": [
    "\n",
    "\n",
    "# a naive solution\n",
    "class Solution:\n",
    "    def hammingDistance(self, x: int, y: int) -> int:\n",
    "        \n",
    "        count = 0\n",
    "        \n",
    "        # check bit by bit if difference\n",
    "        while x > 0 and y > 0:\n",
    "            count += (x & 1) ^ (y & 1)\n",
    "            x = x >> 1\n",
    "            y = y >> 1\n",
    "            \n",
    "        while x > 0:\n",
    "            count += 1\n",
    "            x = x & (x - 1)\n",
    "        \n",
    "        while y > 0:\n",
    "            count += 1\n",
    "            y = y & (y - 1)\n",
    "            \n",
    "        return count\n",
    "\n",
    "\n",
    "# the optimal solution\n",
    "class Solution:\n",
    "    def hammingDistance(self, x: int, y: int) -> int:\n",
    "        \n",
    "        count = 0\n",
    "        z = x^y\n",
    "        while z:\n",
    "            count += 1\n",
    "            z = z&(z - 1)\n",
    "        return count\n"
   ]
  },
  {
   "cell_type": "markdown",
   "metadata": {},
   "source": [
    "### 477. Total Hamming Distance"
   ]
  },
  {
   "cell_type": "code",
   "execution_count": null,
   "metadata": {},
   "outputs": [],
   "source": [
    "The Hamming distance between two integers is the number of positions at which the corresponding bits are different.\n",
    "\n",
    "Now your job is to find the total Hamming distance between all pairs of the given numbers.\n",
    "\n",
    "Example:\n",
    "Input: 4, 14, 2\n",
    "\n",
    "Output: 6\n",
    "\n",
    "Explanation: In binary representation, the 4 is 0100, 14 is 1110, and 2 is 0010 (just\n",
    "showing the four bits relevant in this case). So the answer will be:\n",
    "HammingDistance(4, 14) + HammingDistance(4, 2) + HammingDistance(14, 2) = 2 + 2 + 2 = 6.\n",
    "\n",
    "# for each bit positions, count how many 1s and 0s. \n",
    "class Solution:\n",
    "    def totalHammingDistance(self, nums: List[int]) -> int:\n",
    "        \n",
    "        \n",
    "        count = 0\n",
    "        \n",
    "        for _ in range(32):\n",
    "            k = 0\n",
    "            for i in range(len(nums)):\n",
    "                k += nums[i] & 1\n",
    "                nums[i] >>= 1\n",
    "            count += k * (len(nums) - k)\n",
    "        \n",
    "        return count"
   ]
  },
  {
   "cell_type": "markdown",
   "metadata": {},
   "source": [
    "### 268. Missing Number\n",
    "\n",
    "Given an array containing n distinct numbers taken from 0, 1, 2, ..., n, find the one that is missing from the array.\n"
   ]
  },
  {
   "cell_type": "code",
   "execution_count": null,
   "metadata": {},
   "outputs": [],
   "source": [
    "#If we XOR the n number with 0,1,....,n, then the number not missing will appear twice and get 0\n",
    "class Solution:\n",
    "    def missingNumber(self, nums: List[int]) -> int:\n",
    "        \n",
    "        res = len(nums)\n",
    "        for i, e in enumerate(nums):\n",
    "            res = res ^ e\n",
    "            res = res ^ i\n",
    "            \n",
    "        return res\n"
   ]
  },
  {
   "cell_type": "markdown",
   "metadata": {},
   "source": [
    "### 78. Subsets\n",
    "Given a set of distinct integers, nums, return all possible subsets (the power set).\n",
    "\n",
    "Note: The solution set must not contain duplicate subsets."
   ]
  },
  {
   "cell_type": "code",
   "execution_count": null,
   "metadata": {},
   "outputs": [],
   "source": [
    "class Solution:\n",
    "    def subsets(self, nums: List[int]) -> List[List[int]]:\n",
    "        \n",
    "        n = len(nums)\n",
    "        p = 1 << n\n",
    "        result = [[] for _ in range(p)]\n",
    "        \n",
    "        for i in range(p):\n",
    "            for j in range(n):\n",
    "                if (1 << j) & i:\n",
    "                    result[i].append(nums[j])\n",
    "        return result"
   ]
  },
  {
   "cell_type": "markdown",
   "metadata": {},
   "source": [
    "### 1310. XOR Queries of a Subarray\n",
    "\n",
    "Given the array arr of positive integers and the array queries where queries[i] = [Li, Ri], for each query i compute the XOR of elements from Li to Ri (that is, arr[Li] xor arr[Li+1] xor ... xor arr[Ri] ). Return an array containing the result for the given queries."
   ]
  },
  {
   "cell_type": "code",
   "execution_count": null,
   "metadata": {},
   "outputs": [],
   "source": [
    "class Solution:\n",
    "    def xorQueries(self, arr: List[int], queries: List[List[int]]) -> List[int]:\n",
    "        \n",
    "        for i in range(1, len(arr)):\n",
    "            arr[i] = arr[i] ^ arr[i - 1]\n",
    "            \n",
    "        result = []\n",
    "        for l, r in queries:\n",
    "            if l == 0:\n",
    "                result.append(arr[r])\n",
    "            else:\n",
    "                result.append(arr[r] ^ arr[l - 1])\n",
    "        return result\n",
    "            "
   ]
  }
 ],
 "metadata": {
  "kernelspec": {
   "display_name": "Python 3",
   "language": "python",
   "name": "python3"
  },
  "language_info": {
   "codemirror_mode": {
    "name": "ipython",
    "version": 3
   },
   "file_extension": ".py",
   "mimetype": "text/x-python",
   "name": "python",
   "nbconvert_exporter": "python",
   "pygments_lexer": "ipython3",
   "version": "3.7.4"
  },
  "toc": {
   "base_numbering": 1,
   "nav_menu": {},
   "number_sections": true,
   "sideBar": true,
   "skip_h1_title": false,
   "title_cell": "Table of Contents",
   "title_sidebar": "Contents",
   "toc_cell": true,
   "toc_position": {
    "height": "calc(100% - 180px)",
    "left": "10px",
    "top": "150px",
    "width": "349.091px"
   },
   "toc_section_display": true,
   "toc_window_display": true
  }
 },
 "nbformat": 4,
 "nbformat_minor": 2
}
